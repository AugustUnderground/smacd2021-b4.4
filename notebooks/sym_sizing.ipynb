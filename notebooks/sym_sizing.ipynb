{
 "cells": [
  {
   "cell_type": "markdown",
   "id": "a06bad0a-7f68-47a0-b48a-c0497c9c5670",
   "metadata": {},
   "source": [
    "# Symmetrical OP\n",
    "\n",
    "In this notebook the circuit shown in the following schematic will be sized to acheive a certain gain.\n",
    "The resulting procedure takes a target gain as input and can be run for any technology, for which trained models are available.\n",
    "\n",
    "![Symmetrical Operatrional Amplifier](./fig/sym.png)"
   ]
  },
  {
   "cell_type": "code",
   "execution_count": 1,
   "id": "316fe87e-4823-47f4-8949-a2c04a2e2a45",
   "metadata": {},
   "outputs": [],
   "source": [
    "%matplotlib inline"
   ]
  },
  {
   "cell_type": "code",
   "execution_count": 2,
   "id": "9dac2ab9-d763-4cea-8478-cbff799da0f7",
   "metadata": {},
   "outputs": [],
   "source": [
    "import os\n",
    "import numpy as np\n",
    "import torch as pt\n",
    "import pandas as pd\n",
    "import joblib as jl\n",
    "from functools import partial\n",
    "from scipy.interpolate import pchip_interpolate, interp1d\n",
    "from scipy.optimize import minimize\n",
    "from matplotlib import pyplot as plt\n",
    "from sklearn.preprocessing import MinMaxScaler, minmax_scale"
   ]
  },
  {
   "cell_type": "markdown",
   "id": "f96cf23d-17c4-4bb5-ba82-c93b341235ba",
   "metadata": {},
   "source": [
    "## Specification\n",
    "\n",
    "The overall performance of the circuit is approximated during sizing by\n",
    "\n",
    "$$A_{0} \\approx M \\cdot \\frac{g_{\\mathrm{m}, \\mathtt{d}}}{g_{\\mathrm{ds},\\mathtt{cm22}} + g_{\\mathrm{ds},\\mathtt{cm32}}}$$\n",
    "\n",
    "and \n",
    "\n",
    "$$ f_{0} \\approx \\frac{g_{\\mathrm{ds},\\mathtt{cm22}} + g_{\\mathrm{ds},\\mathtt{cm32}}}{2 \\cdot \\pi \\cdot C_{L}} $$\n",
    "\n",
    "At the end these performances are verified by simulation.\n",
    "\n",
    "| Parameter             | Specification |\n",
    "|-----------------------|--------------:|\n",
    "| $V_{\\mathrm{DD}}$     |      $1.2\\,V$ |\n",
    "| $V_{\\mathrm{in,cm}}$  |      $0.6\\,V$ |\n",
    "| $V_{\\mathrm{out,cm}}$ |      $0.6\\,V$ |\n",
    "| $I_{\\mathtt{B0}}$     |   $10\\,\\mu A$ |\n",
    "| $C_{\\mathrm{L}}$      |     $10\\,p F$ |"
   ]
  },
  {
   "cell_type": "code",
   "execution_count": 3,
   "id": "186639f6-d69b-4250-b9e4-4025b9105107",
   "metadata": {},
   "outputs": [],
   "source": [
    "V_DD  = 1.2\n",
    "V_SS  = 0.0\n",
    "V_ICM = 0.6\n",
    "V_OCM = 0.6\n",
    "I_B0  = 10e-6\n",
    "C_L   = 10e-12"
   ]
  },
  {
   "cell_type": "markdown",
   "id": "4d9e8f21-9d87-44a4-a501-227bdbbfea81",
   "metadata": {},
   "source": [
    "## Simulator Setup\n",
    "\n",
    "[PySpice](https://pyspice.fabrice-salvaire.fr/) is used for verifying the design by simulation within this notebook."
   ]
  },
  {
   "cell_type": "code",
   "execution_count": 4,
   "id": "0896140e-c557-461c-bec2-0f0e2a698e6a",
   "metadata": {},
   "outputs": [],
   "source": [
    "import logging\n",
    "from PySpice.Spice.Netlist import Circuit, SubCircuitFactory\n",
    "from PySpice.Spice.Library import SpiceLibrary\n",
    "from PySpice.Unit import *"
   ]
  },
  {
   "cell_type": "markdown",
   "id": "399622ed-9ae1-4849-a11c-7a57730bdbae",
   "metadata": {},
   "source": [
    "The Symmetrical amplifier is setup as a subcircuit to be included into a testbench."
   ]
  },
  {
   "cell_type": "code",
   "execution_count": 5,
   "id": "5392f8d4-a5a3-4157-b4a4-94f051eba7ed",
   "metadata": {},
   "outputs": [],
   "source": [
    "class SymAmp(SubCircuitFactory):\n",
    "    NAME = \"symamp\"\n",
    "    NODES = (10, 11, 12, 13, 14, 15) # B, INP, INN, OUT, GND, VDD\n",
    "    \n",
    "    def __init__(self):\n",
    "        super().__init__()\n",
    "        # Biasing Current Mirror\n",
    "        self.MOSFET(\"NCM11\" , 10, 10, 14, 14, model = \"nmos\")\n",
    "        self.MOSFET(\"NCM12\" , 16, 10, 14, 14, model = \"nmos\")\n",
    "        # Differential Pair\n",
    "        self.MOSFET(\"ND11\"  , 17, 12, 16, 14, model = \"nmos\")\n",
    "        self.MOSFET(\"ND12\"  , 18, 11, 16, 14, model = \"nmos\")\n",
    "        # PMOS Current Mirrors\n",
    "        self.MOSFET(\"PCM221\", 17, 17, 15, 15, model = \"pmos\")\n",
    "        self.MOSFET(\"PCM222\", 19, 17, 15, 15, model = \"pmos\")\n",
    "        self.MOSFET(\"PCM211\", 18, 18, 15, 15, model = \"pmos\")\n",
    "        self.MOSFET(\"PCM212\", 13, 18, 15, 15, model = \"pmos\")\n",
    "        # NMOS Current Mirror\n",
    "        self.MOSFET(\"NCM31\" , 19, 19, 14, 14, model = \"nmos\")\n",
    "        self.MOSFET(\"NCM32\" , 13, 19, 14, 14, model = \"nmos\")"
   ]
  },
  {
   "cell_type": "markdown",
   "id": "8238bd3e-af1d-49e5-8233-c8f7e9e23cc5",
   "metadata": {},
   "source": [
    "The subckt as well as the MOS library have to be specified in the netlist. This is where changes need to be made if another technology is to be sized."
   ]
  },
  {
   "cell_type": "code",
   "execution_count": 6,
   "id": "1a151158-fce1-49f8-8e2a-c5c123625b31",
   "metadata": {},
   "outputs": [],
   "source": [
    "spice_lib_90 = SpiceLibrary(\"../lib/90nm_bulk.lib\")\n",
    "netlist_90 = Circuit(\"symamp_tb\")\n",
    "netlist_90.include(spice_lib_90[\"nmos\"])\n",
    "netlist_90.subcircuit(SymAmp())"
   ]
  },
  {
   "cell_type": "markdown",
   "id": "d913870f-9ff6-4df3-89ca-242444296cfc",
   "metadata": {},
   "source": [
    "The Open Loop Gain is obtained through the following Testbench."
   ]
  },
  {
   "cell_type": "code",
   "execution_count": 7,
   "id": "43ad256e-46c4-4d1c-b783-bf0b9c92ed2f",
   "metadata": {},
   "outputs": [],
   "source": [
    "netlist_90.X(\"sym\", \"symamp\", \"B\", \"P\", \"N\", \"O\", 0, \"D\")\n",
    "symamp = list(netlist_90.subcircuits)[0]\n",
    "i_ref  = netlist_90.CurrentSource(\"ref\",  0 , \"B\", I_B0@u_A)\n",
    "v_dd   = netlist_90.VoltageSource(\"dd\" , \"D\",  0 , V_DD@u_V)\n",
    "v_ip   = netlist_90.VoltageSource(\"ip\" , \"P\",  0 , V_ICM@u_V)\n",
    "v_in   = netlist_90.SinusoidalVoltageSource( \"in\", \"N\", \"E\"\n",
    "                                           , dc_offset=0.0@u_V\n",
    "                                           , ac_magnitude=-1.0@u_V\n",
    "                                           , )\n",
    "e_buf  = netlist_90.VoltageControlledVoltageSource(\"in\", \"E\", 0, \"O\", 0, 1.0@u_V)\n",
    "c_l    = netlist_90.C(\"L\", \"O\", 0, C_L@u_F)"
   ]
  },
  {
   "cell_type": "markdown",
   "id": "70d70690-a352-4f48-8a53-ecc76709c57a",
   "metadata": {},
   "source": [
    "The simulation function takes a `dict` with a key for each device in the circuit and at least columns `W` and `L` for sizing. It returns the performances obtained through an AC Analysis."
   ]
  },
  {
   "cell_type": "code",
   "execution_count": 8,
   "id": "b7de140a-1fa4-4f66-a43b-4148026b6ebc",
   "metadata": {},
   "outputs": [],
   "source": [
    "def simulate(sizing_data, netlist):\n",
    "    for device in sizing_data.index:\n",
    "        symamp.element(device).width  = sizing_data.loc[device].W\n",
    "        symamp.element(device).length = sizing_data.loc[device].L\n",
    "    \n",
    "    simulator = netlist.simulator( simulator=\"ngspice-subprocess\"\n",
    "                                 , temperature=27\n",
    "                                 , nominal_temperature=27\n",
    "                                 , )\n",
    "\n",
    "    logging.disable(logging.FATAL)\n",
    "    analysis  = simulator.ac( start_frequency  = 1.0@u_Hz\n",
    "                            , stop_frequency   = 1e11@u_Hz\n",
    "                            , number_of_points = 10\n",
    "                            , variation        = \"dec\"\n",
    "                            , )\n",
    "    \n",
    "    freq  = np.array(analysis.frequency)\n",
    "    gain  = ((20 * np.log10(np.absolute(analysis[\"O\"]))) - (20 * np.log10(np.absolute(analysis[\"N\"]))))\n",
    "    phase = np.angle(analysis[\"O\"], deg=True) - np.angle(analysis[\"N\"], deg=True)\n",
    "    logging.disable(logging.NOTSET)\n",
    "    \n",
    "    gf = [gain[np.argsort(gain)], freq[np.argsort(gain)]]\n",
    "    pf = [phase[np.argsort(phase)], freq[np.argsort(phase)]]\n",
    "    \n",
    "    A0dB = gain[0]\n",
    "    A3dB = A0dB - 3.0\n",
    "    f3dB = pchip_interpolate(*gf, [A3dB])\n",
    "    \n",
    "\n",
    "    return (simulator, freq, gain, phase)"
   ]
  },
  {
   "cell_type": "markdown",
   "id": "92f2bf6b-ffa1-4ce6-96a7-54281b661b60",
   "metadata": {},
   "source": [
    "## Device Model Setup\n",
    "\n",
    "The `PrimitiveDevice` class acts as interface to the machine learning models. With this, multiple models of different types and technologies can be instantiatede and compared."
   ]
  },
  {
   "cell_type": "code",
   "execution_count": 9,
   "id": "9e6c9dc6-e6ba-4b37-9417-75fef7fd59a0",
   "metadata": {},
   "outputs": [],
   "source": [
    "class PrimitiveDevice():\n",
    "    def __init__(self, prefix, params_x, params_y):\n",
    "        self.prefix   = prefix\n",
    "        self.params_x = params_x\n",
    "        self.params_y = params_y\n",
    "        \n",
    "        self.model = pt.jit.load(f\"{self.prefix}/model.pt\")\n",
    "        self.model.cpu()\n",
    "        self.model.eval()\n",
    "        \n",
    "        self.scale_x = jl.load(f\"{self.prefix}/scale.X\")\n",
    "        self.scale_y = jl.load(f\"{self.prefix}/scale.Y\")\n",
    "        \n",
    "    def predict(self, X):\n",
    "        with pt.no_grad():\n",
    "            X.fug = np.log10(X.fug.values)\n",
    "            X_ = self.scale_x.transform(X[params_x].values)\n",
    "            Y_ = self.model(pt.from_numpy(np.float32(X_))).numpy()\n",
    "            Y  = pd.DataFrame( self.scale_y.inverse_transform(Y_)\n",
    "                             , columns=params_y )\n",
    "            Y.jd   = np.power(10, Y.jd.values)\n",
    "            Y.gdsw = np.power(10, Y.gdsw.values)\n",
    "        return pd.DataFrame(Y, columns=self.params_y)"
   ]
  },
  {
   "cell_type": "markdown",
   "id": "41756976-b1f5-424c-903a-616333c9ae14",
   "metadata": {},
   "source": [
    "The circuit is not divided into single devices, but rather in _building blocks_ as indicated by the dashed boxes in the schematic."
   ]
  },
  {
   "cell_type": "code",
   "execution_count": 10,
   "id": "5cf3e9e8-4301-4deb-9f85-696ae442a9af",
   "metadata": {},
   "outputs": [],
   "source": [
    "devices           = [ \"MNCM11\", \"MNCM12\", \"MND11\", \"MND12\", \"MNCM31\", \"MNCM32\"\n",
    "                    , \"MPCM221\" , \"MPCM222\", \"MPCM211\", \"MPCM212\" ]\n",
    "reference_devices = [ \"MNCM12\", \"MND12\", \"MPCM212\", \"MNCM32\" ]"
   ]
  },
  {
   "cell_type": "markdown",
   "id": "9585d9fc-73b5-4b7f-9247-5dc93d63f4fb",
   "metadata": {},
   "source": [
    "The inputs and outputs of the model, trained in `model_training.ipynb` have to specified again."
   ]
  },
  {
   "cell_type": "code",
   "execution_count": 11,
   "id": "629fdaf5-e76e-4642-b42f-f224d97a9a36",
   "metadata": {},
   "outputs": [],
   "source": [
    "params_x = [\"gmid\", \"fug\", \"Vds\", \"Vbs\"]\n",
    "params_y = [\"jd\", \"L\", \"gdsw\", \"Vgs\"]"
   ]
  },
  {
   "cell_type": "markdown",
   "id": "50e0c639-cca4-41da-856e-f241c0065bf1",
   "metadata": {},
   "source": [
    "Initially the symmetrical amplifier is sized with the models for the $90\\,\\mathrm{nm}$ technology. \n",
    "Later this can be changed to any other technology model, yielding similar results."
   ]
  },
  {
   "cell_type": "code",
   "execution_count": 12,
   "id": "da16a273-21ee-4077-b25d-ed28f4fb0481",
   "metadata": {},
   "outputs": [],
   "source": [
    "nmos = PrimitiveDevice(\"../models/example/90nm-nmos\", params_x, params_y)\n",
    "pmos = PrimitiveDevice(\"../models/example/90nm-pmos\", params_x, params_y)"
   ]
  },
  {
   "cell_type": "markdown",
   "id": "2a4336ff-b322-40b3-bda1-afa74b207a46",
   "metadata": {},
   "source": [
    "## Sizing Procedure\n",
    "\n",
    "![Symmetrical Amplifier](./fig/sym.png)\n",
    "\n",
    "For simplicity in this example, only the $\\frac{g_{\\mathrm{m}}}{I_{\\mathrm{d}}}$ dependend models\n",
    "are considered. Therefore, sizing for all devices is expressed in terms of \n",
    "$\\frac{g_{\\mathrm{m}}}{I_{\\mathrm{d}}}$ and $f_{\\mathrm{ug}}$.\n",
    "\n",
    "$$\\gamma_{\\mathrm{n,p}} \\left ( \\left [ \\frac{g_{\\mathrm{m}}}{I_{\\mathrm{d}}}, f_{\\mathrm{ug}}, V_{\\mathrm{ds}}, V_{\\mathrm{bs}} \\right ]^{\\dagger} \\right ) \n",
    "\\Rightarrow \\left [ L, \\frac{I_{\\mathrm{d}}}{W}, \\frac{g_{\\mathrm{ds}}}{W}, V_{\\mathrm{gs}} \\right ]^{\\dagger}\n",
    "$$\n",
    "\n",
    "First, the specification, given in the table above is considered,\n",
    "from which a biasing current ${I_{\\mathtt{B1}} = \\frac{I_{\\mathrm{B0}}}{2}}$ is defined.\n",
    "This, in turn results in a mirror ratio $M_{\\mathrm{n}} = 2 : 1$ of the NMOS current mirror `NCM1`.\n",
    "Additionally, the ratio $M_{\\mathrm{p}} = 1 : 4$ of the PMOS current mirrors `MPCM2` is specified. \n",
    "Usually, this is chosen to balance power consumption and phase margin. Since this\n",
    "has to be analyzed separately by simulation, starting values ${M_{\\mathtt{cm21}} = 1}$ \n",
    "and ${M_{\\mathtt{cm22}} = 4}$ are selected. Furthermore, the remaining branch current\n",
    "$I_{\\mathtt{B2}} = M_{\\mathrm{p}} \\cdot \\frac{I_{\\mathtt{B2}}}{2}$ is determined."
   ]
  },
  {
   "cell_type": "code",
   "execution_count": 13,
   "id": "36352be3-b6fe-48e8-aa6e-0fa59b2f0406",
   "metadata": {},
   "outputs": [],
   "source": [
    "M_P  = 4\n",
    "M_N  = 2\n",
    "I_B1 = I_B0 / M_N\n",
    "I_B2 = (I_B1 / 2) * M_P"
   ]
  },
  {
   "cell_type": "markdown",
   "id": "097829f3-c84c-4475-ac4a-b72bf86eea74",
   "metadata": {},
   "source": [
    "Since the common mode output voltage $V_{\\mathrm{out,cm}} = 0.6$ is known, the sizing procedure starts with `MPCM212`:\n",
    "\n",
    "$$ \\gamma_{\\mathrm{p}, \\mathtt{MPCM2}} \\left ( \\left [ \\left ( \\frac{g_{\\mathrm{m}}}{I_{\\mathrm{d}}} \\right )_{\\mathtt{MPCM2}}\n",
    "                                                     , f_{\\mathrm{ug}, \\mathtt{MPCM2}}, (V_{\\mathrm{DD}} - V_{\\mathrm{out,cm}}), 0.0 \\right ]^{\\dagger} \n",
    "                       \\right ) $$\n",
    "\n",
    "The gate voltage $V_{\\mathrm{gs}, \\mathtt{MPCM}}$ helps guiding the sizing for the differential pair later.\n",
    "Next, `MNCM32` is considered with:\n",
    "\n",
    "$$ \\gamma_{\\mathrm{n}, \\mathtt{MNCM3}} \\left ( \\left [ \\left ( \\frac{g_{\\mathrm{m}}}{I_{\\mathrm{d}}} \\right )_{\\mathtt{MNCM3}}\n",
    "                                                      , f_{\\mathrm{ug}, \\mathtt{MNCM3}}, V_{\\mathrm{out,cm}}, 0.0 \\right ]^{\\dagger} \n",
    "                       \\right ) $$\n",
    "\n",
    "Sizing the differential pair requires, _guessing_ $V_{\\mathrm{x}} = 0.23\\,\\mathrm{V}$ which is done by considering \n",
    "the fact that 3 devices are stacked and `MNCM1` merely serves as biasing. Therefore:\n",
    "\n",
    "$$ \\gamma_{\\mathrm{n}, \\mathtt{MND1}} \\left ( \\left [ \\left ( \\frac{g_{\\mathrm{m}}}{I_{\\mathrm{d}}} \\right )_{\\mathtt{MND1}}\n",
    "                                                      , f_{\\mathrm{ug}, \\mathtt{MND1}}\n",
    "                                                      , (V_{\\mathrm{DD}} -  V_{\\mathrm{gs}, \\mathtt{MPCM}} - V_{\\mathrm{x}})\n",
    "                                                      , - V_{\\mathrm{x}} \\right ]^{\\dagger} \n",
    "                       \\right ) $$\n",
    "\n",
    "Subsequently, the biasing current mirror `MNCM3` is sized:\n",
    "\n",
    "$$ \\gamma_{\\mathrm{n}, \\mathtt{MNCM3}} \\left ( \\left [ \\left ( \\frac{g_{\\mathrm{m}}}{I_{\\mathrm{d}}} \\right )_{\\mathtt{MNCM3}}\n",
    "                                                      , f_{\\mathrm{ug}, \\mathtt{MNCM3}}\n",
    "                                                      , V_{\\mathrm{x}}\n",
    "                                                      , 0.0 \\right ]^{\\dagger} \n",
    "                       \\right ) $$\n",
    "\n"
   ]
  },
  {
   "cell_type": "markdown",
   "id": "ebff6a03-8436-49ba-b9fe-5f80e12e7464",
   "metadata": {},
   "source": [
    "With these four function calls, the sizing of the entire circuit is expressed in terms of eight electrical characteristics.\n",
    "The following function `symamp_sizing` takes a `dict` with keys for each _reference device_ $\\in$ `reference_devices = [ \"MNCM12\", \"MND12\", \"MPCM212\", \"MNCM32\" ]` and corresponding, desired characteristics. The obtained sizing for each device is propageted to related devices in the same building block and a new `dict` with sizing information is returned."
   ]
  },
  {
   "cell_type": "code",
   "execution_count": 14,
   "id": "aaa34c8a-9e8b-40f2-8ec2-5299ffed7791",
   "metadata": {},
   "outputs": [],
   "source": [
    "def symamp_sizing( gmid_ncm12, gmid_ndp12, gmid_pcm212, gmid_ncm32 \n",
    "                 , fug_ncm12, fug_ndp12, fug_pcm212, fug_ncm32 ):\n",
    "    \n",
    "    ec                 = {}\n",
    "    \n",
    "    ## PMOS Current Mirror MPCM2:\n",
    "    input_pcm212       = pd.DataFrame( np.array([[gmid_pcm212, fug_pcm212, (V_DD - V_OCM), 0.0]])\n",
    "                                     , columns=params_x )\n",
    "    ec[\"MPCM212\"]      = pmos.predict(input_pcm212).join(input_pcm212)\n",
    "    # Determine width based on known branch current\n",
    "    ec[\"MPCM212\"][\"W\"] = I_B2 / ec[\"MPCM212\"].jd     \n",
    "    # Copy to related device, don't overwrite\n",
    "    ec[\"MPCM211\"]      = ec[\"MPCM212\"].copy()     \n",
    "    # MPCM211's width has to be reduced by M_P \n",
    "    ec[\"MPCM211\"].W    = ec[\"MPCM212\"].W / M_P    \n",
    "    # Size MPCM222 and MPCM211 accordingly\n",
    "    ec[\"MPCM222\"]      = ec[\"MPCM212\"]\n",
    "    ec[\"MPCM221\"]      = ec[\"MPCM211\"]\n",
    "    \n",
    "    ## NMOS Current Mirror NCM3:\n",
    "    input_ncm32        = pd.DataFrame( np.array([[gmid_ncm32, fug_ncm32, V_OCM, 0.0]])\n",
    "                                     , columns=params_x )\n",
    "    ec[\"MNCM32\"]       = nmos.predict(input_ncm32).join(input_ncm32)\n",
    "    ec[\"MNCM32\"][\"W\"]  = I_B2 / ec[\"MNCM32\"].jd\n",
    "    ec[\"MNCM31\"]       = ec[\"MNCM32\"].copy()\n",
    "    \n",
    "    ## NMOS Differential Pair NDP1:\n",
    "    V_X                = 0.23\n",
    "    V_GS               = ec[\"MNCM32\"].Vgs.values[0]\n",
    "    input_nd12         = pd.DataFrame( np.array([[gmid_ndp12, fug_ndp12, (V_DD - V_GS - V_X), -V_X]])\n",
    "                                     , columns=params_x )\n",
    "    ec[\"MND12\"]        = nmos.predict(input_nd12).join(input_nd12)\n",
    "    ec[\"MND12\"][\"W\"]   = (I_B1 / 2) / ec[\"MND12\"].jd\n",
    "    ec[\"MND11\"]        = ec[\"MND12\"]\n",
    "    \n",
    "    ## NMOS Current Mirror NCM1\n",
    "    input_ncm12        = pd.DataFrame( np.array([[gmid_ncm12, fug_ncm12, V_X, 0.0]])\n",
    "                                     , columns=params_x )\n",
    "    ec[\"MNCM12\"]       = nmos.predict(input_ncm12).join(input_ncm12)\n",
    "    ec[\"MNCM12\"][\"W\"]  = I_B1 / ec[\"MNCM12\"].jd\n",
    "    ec[\"MNCM11\"]       = ec[\"MNCM12\"].copy()\n",
    "    # MNCM11's width has to be adjusted by M_N\n",
    "    ec[\"MNCM11\"].W     = ec[\"MNCM11\"].W * M_N\n",
    "    \n",
    "    ## Calculate/Approximate Operating point Parameters\n",
    "    for dev,val in ec.items():\n",
    "        val[\"gds\"] = val.gdsw * val.W\n",
    "        val[\"id\"]  = val.jd * val.W\n",
    "        val[\"gm\"]  = val.gmid * val.id\n",
    "    \n",
    "    return ec"
   ]
  },
  {
   "cell_type": "markdown",
   "id": "d45fc5d7-df12-46df-8814-552ff4d127ad",
   "metadata": {},
   "source": [
    "To make it more useable in an optimization context, a wrapper function that takes the 8 individual characteristics for the 4 _reference devices_ and returns a performance estimate is set up here with `symamp_performance`."
   ]
  },
  {
   "cell_type": "code",
   "execution_count": 15,
   "id": "9a1f8256-691d-46f0-8f05-acc876f78ed7",
   "metadata": {},
   "outputs": [],
   "source": [
    "def approximate( gmid_ncm12, gmid_ndp12, gmid_pcm212, gmid_ncm32\n",
    "               , fug_ncm12, fug_ndp12, fug_pcm212, fug_ncm32 ):\n",
    "    dc = symamp_sizing( gmid_ncm12, gmid_ndp12, gmid_pcm212, gmid_ncm32\n",
    "                      , fug_ncm12, fug_ndp12, fug_pcm212, fug_ncm32 )\n",
    "    A0dB = 20 * np.log10(M_P * (dc[\"MND12\"].gm / (dc[\"MNCM32\"].gds + dc[\"MPCM212\"].gds)).values[0])\n",
    "    f3dB = ((dc[\"MNCM32\"].gds + dc[\"MPCM212\"].gds).values[0] / (2 * np.pi * C_L))\n",
    "    return [A0dB, f3dB]"
   ]
  },
  {
   "cell_type": "markdown",
   "id": "51b522a7-8973-44c1-ab90-802459b3665a",
   "metadata": {},
   "source": [
    "As described in the Paper, after wrapping the performnace estimate into a function of electrical characteristics, \n",
    "the $\\frac{g_{\\mathrm{m}}}{I_{\\mathrm{d}}} = 10.0\\,\\mathrm{V}^{-1}$ for all devices is **fixed**, \n",
    "which is expressed by $p_{\\mathrm{sym}}$ (`p_sym`) here. \n",
    "Furthermore, $f_{\\mathrm{ug}, \\mathtt{NCM12}}$ and $f_{\\mathrm{ug}, \\mathtt{NDP12}}$ can be fixed, since they don't affect the\n",
    "circuits gain approximation."
   ]
  },
  {
   "cell_type": "code",
   "execution_count": 16,
   "id": "922f1019-9e7f-48c4-8b11-2ae6949cbb91",
   "metadata": {},
   "outputs": [],
   "source": [
    "gmid_ncm12  = 10.0\n",
    "gmid_ndp12  = 10.0\n",
    "gmid_pcm212 = 10.0\n",
    "gmid_ncm32  = 10.0\n",
    "fug_ncm12   = 1e8\n",
    "fug_ndp12   = 1e8\n",
    "fug_pcm212  = np.nan # optimization variable\n",
    "fug_ncm32   = np.nan # optimization variable\n",
    "\n",
    "# Partially apply fixed values to Performance Estimation function\n",
    "p_sym = partial( approximate\n",
    "               , gmid_ncm12, gmid_ndp12\n",
    "               , gmid_pcm212, gmid_ncm32\n",
    "               , fug_ncm12, fug_ndp12 )"
   ]
  },
  {
   "cell_type": "markdown",
   "id": "dfbe718e-f7f2-4448-a67e-4459b5b1cdea",
   "metadata": {},
   "source": [
    "The optimization target / cost function is defined in terms of the desired target gain. For better convergence $\\log (f_{\\mathrm{ug}})$ is optimized."
   ]
  },
  {
   "cell_type": "code",
   "execution_count": 17,
   "id": "27c9b16b-0171-4e7d-b25e-cc6522dc86e3",
   "metadata": {},
   "outputs": [],
   "source": [
    "A0dB_target = 50"
   ]
  },
  {
   "cell_type": "code",
   "execution_count": 18,
   "id": "8bdb0b2b-e4d9-49c3-a1e2-8e97acfa3738",
   "metadata": {},
   "outputs": [],
   "source": [
    "res = minimize( lambda f: np.abs(p_sym(*np.power(10, f).tolist())[0] - A0dB_target)\n",
    "              , [7, 7]\n",
    "              , method = \"Nelder-Mead\" )"
   ]
  },
  {
   "cell_type": "code",
   "execution_count": 19,
   "id": "f68937fe-cf7b-4fad-b0ac-d9680d82cb06",
   "metadata": {},
   "outputs": [],
   "source": [
    "fug_pcm212, fug_ncm32 = np.power(10, res.x)"
   ]
  },
  {
   "cell_type": "markdown",
   "id": "5503a728-86f5-4500-9180-84e82b01586c",
   "metadata": {},
   "source": [
    "The sizing is obtained by calling the `symamp_sizing` function one more time with the previously determiend $f_{\\mathrm{ug}}$s."
   ]
  },
  {
   "cell_type": "code",
   "execution_count": 20,
   "id": "81177b9d-36d5-437f-a764-9bf7614473e5",
   "metadata": {},
   "outputs": [
    {
     "data": {
      "text/html": [
       "<div>\n",
       "<style scoped>\n",
       "    .dataframe tbody tr th:only-of-type {\n",
       "        vertical-align: middle;\n",
       "    }\n",
       "\n",
       "    .dataframe tbody tr th {\n",
       "        vertical-align: top;\n",
       "    }\n",
       "\n",
       "    .dataframe thead th {\n",
       "        text-align: right;\n",
       "    }\n",
       "</style>\n",
       "<table border=\"1\" class=\"dataframe\">\n",
       "  <thead>\n",
       "    <tr style=\"text-align: right;\">\n",
       "      <th></th>\n",
       "      <th>jd</th>\n",
       "      <th>L</th>\n",
       "      <th>gdsw</th>\n",
       "      <th>Vgs</th>\n",
       "      <th>gmid</th>\n",
       "      <th>fug</th>\n",
       "      <th>Vds</th>\n",
       "      <th>Vbs</th>\n",
       "      <th>W</th>\n",
       "      <th>gds</th>\n",
       "      <th>id</th>\n",
       "      <th>gm</th>\n",
       "    </tr>\n",
       "  </thead>\n",
       "  <tbody>\n",
       "    <tr>\n",
       "      <th>MPCM212</th>\n",
       "      <td>0.290306</td>\n",
       "      <td>0.000004</td>\n",
       "      <td>0.005573</td>\n",
       "      <td>0.502591</td>\n",
       "      <td>10.0</td>\n",
       "      <td>7.02904</td>\n",
       "      <td>0.600000</td>\n",
       "      <td>0.00</td>\n",
       "      <td>3.444645e-05</td>\n",
       "      <td>1.919551e-07</td>\n",
       "      <td>0.000010</td>\n",
       "      <td>0.000100</td>\n",
       "    </tr>\n",
       "    <tr>\n",
       "      <th>MPCM211</th>\n",
       "      <td>0.290306</td>\n",
       "      <td>0.000004</td>\n",
       "      <td>0.005573</td>\n",
       "      <td>0.502591</td>\n",
       "      <td>10.0</td>\n",
       "      <td>7.02904</td>\n",
       "      <td>0.600000</td>\n",
       "      <td>0.00</td>\n",
       "      <td>8.611612e-06</td>\n",
       "      <td>4.798876e-08</td>\n",
       "      <td>0.000002</td>\n",
       "      <td>0.000025</td>\n",
       "    </tr>\n",
       "    <tr>\n",
       "      <th>MPCM222</th>\n",
       "      <td>0.290306</td>\n",
       "      <td>0.000004</td>\n",
       "      <td>0.005573</td>\n",
       "      <td>0.502591</td>\n",
       "      <td>10.0</td>\n",
       "      <td>7.02904</td>\n",
       "      <td>0.600000</td>\n",
       "      <td>0.00</td>\n",
       "      <td>3.444645e-05</td>\n",
       "      <td>1.919551e-07</td>\n",
       "      <td>0.000010</td>\n",
       "      <td>0.000100</td>\n",
       "    </tr>\n",
       "    <tr>\n",
       "      <th>MPCM221</th>\n",
       "      <td>0.290306</td>\n",
       "      <td>0.000004</td>\n",
       "      <td>0.005573</td>\n",
       "      <td>0.502591</td>\n",
       "      <td>10.0</td>\n",
       "      <td>7.02904</td>\n",
       "      <td>0.600000</td>\n",
       "      <td>0.00</td>\n",
       "      <td>8.611612e-06</td>\n",
       "      <td>4.798876e-08</td>\n",
       "      <td>0.000002</td>\n",
       "      <td>0.000025</td>\n",
       "    </tr>\n",
       "    <tr>\n",
       "      <th>MNCM32</th>\n",
       "      <td>0.761430</td>\n",
       "      <td>0.000010</td>\n",
       "      <td>0.010326</td>\n",
       "      <td>0.536925</td>\n",
       "      <td>10.0</td>\n",
       "      <td>7.01833</td>\n",
       "      <td>0.600000</td>\n",
       "      <td>0.00</td>\n",
       "      <td>1.313319e-05</td>\n",
       "      <td>1.356183e-07</td>\n",
       "      <td>0.000010</td>\n",
       "      <td>0.000100</td>\n",
       "    </tr>\n",
       "    <tr>\n",
       "      <th>MNCM31</th>\n",
       "      <td>0.761430</td>\n",
       "      <td>0.000010</td>\n",
       "      <td>0.010326</td>\n",
       "      <td>0.536925</td>\n",
       "      <td>10.0</td>\n",
       "      <td>7.01833</td>\n",
       "      <td>0.600000</td>\n",
       "      <td>0.00</td>\n",
       "      <td>1.313319e-05</td>\n",
       "      <td>1.356183e-07</td>\n",
       "      <td>0.000010</td>\n",
       "      <td>0.000100</td>\n",
       "    </tr>\n",
       "    <tr>\n",
       "      <th>MND12</th>\n",
       "      <td>2.904211</td>\n",
       "      <td>0.000003</td>\n",
       "      <td>0.079794</td>\n",
       "      <td>0.603137</td>\n",
       "      <td>10.0</td>\n",
       "      <td>8.00000</td>\n",
       "      <td>0.433075</td>\n",
       "      <td>-0.23</td>\n",
       "      <td>8.608191e-07</td>\n",
       "      <td>6.868822e-08</td>\n",
       "      <td>0.000002</td>\n",
       "      <td>0.000025</td>\n",
       "    </tr>\n",
       "    <tr>\n",
       "      <th>MND11</th>\n",
       "      <td>2.904211</td>\n",
       "      <td>0.000003</td>\n",
       "      <td>0.079794</td>\n",
       "      <td>0.603137</td>\n",
       "      <td>10.0</td>\n",
       "      <td>8.00000</td>\n",
       "      <td>0.433075</td>\n",
       "      <td>-0.23</td>\n",
       "      <td>8.608191e-07</td>\n",
       "      <td>6.868822e-08</td>\n",
       "      <td>0.000002</td>\n",
       "      <td>0.000025</td>\n",
       "    </tr>\n",
       "    <tr>\n",
       "      <th>MNCM12</th>\n",
       "      <td>2.773352</td>\n",
       "      <td>0.000003</td>\n",
       "      <td>0.643722</td>\n",
       "      <td>0.549345</td>\n",
       "      <td>10.0</td>\n",
       "      <td>8.00000</td>\n",
       "      <td>0.230000</td>\n",
       "      <td>0.00</td>\n",
       "      <td>1.802873e-06</td>\n",
       "      <td>1.160549e-06</td>\n",
       "      <td>0.000005</td>\n",
       "      <td>0.000050</td>\n",
       "    </tr>\n",
       "    <tr>\n",
       "      <th>MNCM11</th>\n",
       "      <td>2.773352</td>\n",
       "      <td>0.000003</td>\n",
       "      <td>0.643722</td>\n",
       "      <td>0.549345</td>\n",
       "      <td>10.0</td>\n",
       "      <td>8.00000</td>\n",
       "      <td>0.230000</td>\n",
       "      <td>0.00</td>\n",
       "      <td>3.605745e-06</td>\n",
       "      <td>2.321098e-06</td>\n",
       "      <td>0.000010</td>\n",
       "      <td>0.000100</td>\n",
       "    </tr>\n",
       "  </tbody>\n",
       "</table>\n",
       "</div>"
      ],
      "text/plain": [
       "               jd         L      gdsw       Vgs  gmid      fug       Vds  \\\n",
       "MPCM212  0.290306  0.000004  0.005573  0.502591  10.0  7.02904  0.600000   \n",
       "MPCM211  0.290306  0.000004  0.005573  0.502591  10.0  7.02904  0.600000   \n",
       "MPCM222  0.290306  0.000004  0.005573  0.502591  10.0  7.02904  0.600000   \n",
       "MPCM221  0.290306  0.000004  0.005573  0.502591  10.0  7.02904  0.600000   \n",
       "MNCM32   0.761430  0.000010  0.010326  0.536925  10.0  7.01833  0.600000   \n",
       "MNCM31   0.761430  0.000010  0.010326  0.536925  10.0  7.01833  0.600000   \n",
       "MND12    2.904211  0.000003  0.079794  0.603137  10.0  8.00000  0.433075   \n",
       "MND11    2.904211  0.000003  0.079794  0.603137  10.0  8.00000  0.433075   \n",
       "MNCM12   2.773352  0.000003  0.643722  0.549345  10.0  8.00000  0.230000   \n",
       "MNCM11   2.773352  0.000003  0.643722  0.549345  10.0  8.00000  0.230000   \n",
       "\n",
       "          Vbs             W           gds        id        gm  \n",
       "MPCM212  0.00  3.444645e-05  1.919551e-07  0.000010  0.000100  \n",
       "MPCM211  0.00  8.611612e-06  4.798876e-08  0.000002  0.000025  \n",
       "MPCM222  0.00  3.444645e-05  1.919551e-07  0.000010  0.000100  \n",
       "MPCM221  0.00  8.611612e-06  4.798876e-08  0.000002  0.000025  \n",
       "MNCM32   0.00  1.313319e-05  1.356183e-07  0.000010  0.000100  \n",
       "MNCM31   0.00  1.313319e-05  1.356183e-07  0.000010  0.000100  \n",
       "MND12   -0.23  8.608191e-07  6.868822e-08  0.000002  0.000025  \n",
       "MND11   -0.23  8.608191e-07  6.868822e-08  0.000002  0.000025  \n",
       "MNCM12   0.00  1.802873e-06  1.160549e-06  0.000005  0.000050  \n",
       "MNCM11   0.00  3.605745e-06  2.321098e-06  0.000010  0.000100  "
      ]
     },
     "execution_count": 20,
     "metadata": {},
     "output_type": "execute_result"
    }
   ],
   "source": [
    "sizing_90 = symamp_sizing( gmid_ncm12, gmid_ndp12, gmid_pcm212, gmid_ncm32\n",
    "                         , fug_ncm12, fug_ndp12, fug_pcm212, fug_ncm32 )\n",
    "sizing_data_90 = pd.concat(sizing_90.values(), names=sizing_90.keys())\n",
    "sizing_data_90.index = sizing_90.keys()\n",
    "sizing_data_90"
   ]
  },
  {
   "cell_type": "code",
   "execution_count": 21,
   "id": "53187d19-7357-43be-9e7b-8f4f2a52925b",
   "metadata": {
    "tags": []
   },
   "outputs": [],
   "source": [
    "A0dB_apx_90, f3dB_apx_90 = approximate( gmid_ncm12, gmid_ndp12, gmid_pcm212, gmid_ncm32\n",
    "                                      , fug_ncm12, fug_ndp12, fug_pcm212, fug_ncm32 )"
   ]
  },
  {
   "cell_type": "code",
   "execution_count": 22,
   "id": "ccd0473e-2caf-4472-bb4a-66ad186e11cf",
   "metadata": {},
   "outputs": [],
   "source": [
    "_, freq_90, gain_90, phase_90 = simulate(sizing_data_90, netlist_90)"
   ]
  },
  {
   "cell_type": "code",
   "execution_count": 23,
   "id": "4a09c0bf-245d-46b0-819d-6b87b482d8f2",
   "metadata": {},
   "outputs": [],
   "source": [
    "gf_90 = [gain_90[np.argsort(gain_90)], freq_90[np.argsort(gain_90)]]\n",
    "\n",
    "A0dB_tru_90 = gain_90[0]\n",
    "A3dB_tru_90 = A0dB_tru_90 - 3.0\n",
    "f3dB_tru_90 = pchip_interpolate(*gf_90, [A3dB_tru_90])[0]"
   ]
  },
  {
   "cell_type": "code",
   "execution_count": 24,
   "id": "648bd676-00a0-4519-b17e-5b4e7d8f275b",
   "metadata": {},
   "outputs": [
    {
     "data": {
      "image/png": "[encoded data removed]",
      "text/plain": [
       "<Figure size 864x432 with 1 Axes>"
      ]
     },
     "metadata": {
      "needs_background": "light"
     },
     "output_type": "display_data"
    }
   ],
   "source": [
    "fig = plt.figure(figsize=(12,6))\n",
    "plt.plot(freq_90, gain_90)\n",
    "plt.axvline( x=f3dB_tru_90\n",
    "           , color=\"tab:blue\"\n",
    "           , ls=\"--\"\n",
    "           , label=f\"Simulated $f_{{-3dB}} = {f3dB_tru_90:.3e}$ Hz\")\n",
    "plt.axvline( x=f3dB_apx_90\n",
    "           , color=\"tab:orange\"\n",
    "           , ls=\"--\"\n",
    "           , label=f\"Predicted $f_{{-3dB}} = {f3dB_apx_90:.3e}$ Hz\")\n",
    "plt.axhline( y=A0dB_tru_90\n",
    "           , color=\"tab:blue\"\n",
    "           , ls=\"--\"\n",
    "           , label=f\"Simulated $A_{{0}} = {A0dB_tru_90:.2f}$ dB\")\n",
    "plt.axhline( y=A0dB_apx_90\n",
    "           , color=\"tab:orange\"\n",
    "           , ls=\"--\"\n",
    "           , label=f\"Predicted $A_{{0}} = {A0dB_apx_90:.2f}$ dB\")\n",
    "plt.xscale(\"log\")\n",
    "plt.legend()\n",
    "plt.title(\"Simulated Gain\")\n",
    "plt.xlabel(\"Frequency [Hz]\")\n",
    "plt.ylabel(\"Gain [dB]\")\n",
    "plt.grid(\"on\")"
   ]
  },
  {
   "cell_type": "markdown",
   "id": "9f2e1dc5-8de1-4a5f-af91-28b7d1882e41",
   "metadata": {},
   "source": [
    "The error in performance approximation is due to the inaccuarcy of the simplified equations for $A_{0}$ and $f_{0}$.\n",
    "The `moa_sizing.ipynb` notebook addresses this issue by instead using the simulator in the optimization loop."
   ]
  },
  {
   "cell_type": "markdown",
   "id": "f8461000-a5b9-4570-923b-657010a35ec7",
   "metadata": {},
   "source": [
    "## Technology Migration\n",
    "\n",
    "Running the same procedure with the previously obtained electrical characteristics will size the circuit for other technologies as well, **no** additional optimization required!"
   ]
  },
  {
   "cell_type": "markdown",
   "id": "39b3908b-7671-4a38-9164-f7a05dafb5f4",
   "metadata": {},
   "source": [
    "$45\\,\\mathrm{nm}$ Netlist:"
   ]
  },
  {
   "cell_type": "code",
   "execution_count": 25,
   "id": "e066e85d-ad57-4e5c-b4a5-82939a6e1126",
   "metadata": {},
   "outputs": [],
   "source": [
    "spice_lib_45 = SpiceLibrary(\"../lib/45nm_bulk.lib\")\n",
    "netlist_45 = Circuit(\"symamp_tb\")\n",
    "netlist_45.include(spice_lib_45[\"nmos\"])\n",
    "netlist_45.subcircuit(SymAmp())\n",
    "\n",
    "netlist_45.X(\"sym\", \"symamp\", \"B\", \"P\", \"N\", \"O\", 0, \"D\")\n",
    "symamp = list(netlist_45.subcircuits)[0]\n",
    "i_ref  = netlist_45.CurrentSource(\"ref\",  0 , \"B\", I_B0@u_A)\n",
    "v_dd   = netlist_45.VoltageSource(\"dd\" , \"D\",  0 , V_DD@u_V)\n",
    "v_ip   = netlist_45.VoltageSource(\"ip\" , \"P\",  0 , V_ICM@u_V)\n",
    "v_in   = netlist_45.SinusoidalVoltageSource( \"in\", \"N\", \"E\"\n",
    "                                           , dc_offset=0.0@u_V\n",
    "                                           , ac_magnitude=-1.0@u_V\n",
    "                                           , )\n",
    "e_buf  = netlist_45.VoltageControlledVoltageSource(\"in\", \"E\", 0, \"O\", 0, 1.0@u_V)\n",
    "c_l    = netlist_45.C(\"L\", \"O\", 0, C_L@u_F)"
   ]
  },
  {
   "cell_type": "markdown",
   "id": "eb8fb8bf-8add-472d-a219-6f2360d56822",
   "metadata": {},
   "source": [
    "Simply load the corresponding device model and evaluate the procedure with the previously obtained parameters again: "
   ]
  },
  {
   "cell_type": "code",
   "execution_count": 26,
   "id": "fc672d34-a25a-4149-977b-0c0d88d078ad",
   "metadata": {},
   "outputs": [],
   "source": [
    "nmos = PrimitiveDevice(\"../models/example/45nm-nmos\", params_x, params_y)\n",
    "pmos = PrimitiveDevice(\"../models/example/45nm-pmos\", params_x, params_y)\n",
    "\n",
    "sizing_45 = symamp_sizing( gmid_ncm12, gmid_ndp12, gmid_pcm212, gmid_ncm32\n",
    "                         , fug_ncm12, fug_ndp12, fug_pcm212, fug_ncm32 )\n",
    "sizing_data_45 = pd.concat(sizing_45.values(), names=sizing_45.keys())\n",
    "sizing_data_45.index = sizing_45.keys()\n",
    "sizing_data_45\n",
    "\n",
    "A0dB_apx_45, f3dB_apx_45 = approximate( gmid_ncm12, gmid_ndp12, gmid_pcm212, gmid_ncm32\n",
    "                                      , fug_ncm12, fug_ndp12, fug_pcm212, fug_ncm32 )\n",
    "\n",
    "_, freq_45, gain_45, phase_45 = simulate(sizing_data_45, netlist_45)\n",
    "\n",
    "gf_45 = [gain_45[np.argsort(gain_45)], freq_45[np.argsort(gain_45)]]\n",
    "A0dB_tru_45 = gain_45[0]\n",
    "A3dB_tru_45 = A0dB_tru_45 - 3.0\n",
    "f3dB_tru_45 = pchip_interpolate(*gf_45, [A3dB_tru_45])[0]"
   ]
  },
  {
   "cell_type": "markdown",
   "id": "7df6853e-adae-4898-8d43-9511320ce875",
   "metadata": {},
   "source": [
    "$130\\,\\mathrm{nm}$ Netlist:"
   ]
  },
  {
   "cell_type": "code",
   "execution_count": 27,
   "id": "af1beafb-6089-48bc-8673-797dac435bea",
   "metadata": {},
   "outputs": [],
   "source": [
    "spice_lib_130 = SpiceLibrary(\"../lib/130nm_bulk.lib\")\n",
    "netlist_130 = Circuit(\"symamp_tb\")\n",
    "netlist_130.include(spice_lib_130[\"nmos\"])\n",
    "netlist_130.subcircuit(SymAmp())\n",
    "\n",
    "netlist_130.X(\"sym\", \"symamp\", \"B\", \"P\", \"N\", \"O\", 0, \"D\")\n",
    "symamp = list(netlist_130.subcircuits)[0]\n",
    "i_ref  = netlist_130.CurrentSource(\"ref\",  0 , \"B\", I_B0@u_A)\n",
    "v_dd   = netlist_130.VoltageSource(\"dd\" , \"D\",  0 , V_DD@u_V)\n",
    "v_ip   = netlist_130.VoltageSource(\"ip\" , \"P\",  0 , V_ICM@u_V)\n",
    "v_in   = netlist_130.SinusoidalVoltageSource( \"in\", \"N\", \"E\"\n",
    "                                            , dc_offset=0.0@u_V\n",
    "                                            , ac_magnitude=-1.0@u_V\n",
    "                                            , )\n",
    "e_buf  = netlist_130.VoltageControlledVoltageSource(\"in\", \"E\", 0, \"O\", 0, 1.0@u_V)\n",
    "c_l    = netlist_130.C(\"L\", \"O\", 0, C_L@u_F)"
   ]
  },
  {
   "cell_type": "markdown",
   "id": "6ad6ddf7-3be6-4957-a752-52184a0078d5",
   "metadata": {},
   "source": [
    "Simply load the corresponding device model and evaluate the procedure with the previously obtained parameters again: "
   ]
  },
  {
   "cell_type": "code",
   "execution_count": 28,
   "id": "18e8763b-d6c1-4393-b402-d1425f1e5a45",
   "metadata": {
    "tags": []
   },
   "outputs": [],
   "source": [
    "nmos = PrimitiveDevice(\"../models/example/130nm-nmos\", params_x, params_y)\n",
    "pmos = PrimitiveDevice(\"../models/example/130nm-pmos\", params_x, params_y)\n",
    "\n",
    "sizing_130 = symamp_sizing( gmid_ncm12, gmid_ndp12, gmid_pcm212, gmid_ncm32\n",
    "                         , fug_ncm12, fug_ndp12, fug_pcm212, fug_ncm32 )\n",
    "sizing_data_130 = pd.concat(sizing_130.values(), names=sizing_130.keys())\n",
    "sizing_data_130.index = sizing_130.keys()\n",
    "sizing_data_130\n",
    "\n",
    "A0dB_apx_130, f3dB_apx_130 = approximate( gmid_ncm12, gmid_ndp12, gmid_pcm212, gmid_ncm32\n",
    "                                      , fug_ncm12, fug_ndp12, fug_pcm212, fug_ncm32 )\n",
    "\n",
    "_, freq_130, gain_130, phase_130 = simulate(sizing_data_130, netlist_130)\n",
    "\n",
    "gf_130 = [gain_130[np.argsort(gain_130)], freq_130[np.argsort(gain_130)]]\n",
    "A0dB_tru_130 = gain_130[0]\n",
    "A3dB_tru_130 = A0dB_tru_130 - 3.0\n",
    "f3dB_tru_130 = pchip_interpolate(*gf_130, [A3dB_tru_130])[0]"
   ]
  },
  {
   "cell_type": "markdown",
   "id": "7584f88e-de0a-4ee2-a472-9eb47303161c",
   "metadata": {},
   "source": [
    "The plot below shows how well the predictions agree with the simulation and how the same electrical characteristics result in very similar behaviour of the entire circuit regardless of the technology node."
   ]
  },
  {
   "cell_type": "code",
   "execution_count": 29,
   "id": "d9f58566-3e0f-4260-89b1-3720d3824c68",
   "metadata": {},
   "outputs": [
    {
     "data": {
      "image/png": "[encoded data removed]",
      "text/plain": [
       "<Figure size 864x432 with 1 Axes>"
      ]
     },
     "metadata": {
      "needs_background": "light"
     },
     "output_type": "display_data"
    }
   ],
   "source": [
    "fig = plt.figure(figsize=(12,6))\n",
    "\n",
    "plt.plot(freq_90, gain_90)\n",
    "plt.axvline( x=f3dB_tru_90\n",
    "           , color=\"tab:blue\"\n",
    "           , ls=\"--\"\n",
    "           , label=f\"Simulated $f_{{-3dB}} = {f3dB_tru_90:.3e}$ Hz\")\n",
    "plt.axvline( x=f3dB_apx_90\n",
    "           , color=\"tab:blue\"\n",
    "           , ls=\":\"\n",
    "           , label=f\"Predicted $f_{{-3dB}} = {f3dB_apx_90:.3e}$ Hz\")\n",
    "plt.axhline( y=A0dB_tru_90\n",
    "           , color=\"tab:blue\"\n",
    "           , ls=\"--\"\n",
    "           , label=f\"Simulated $A_{{0}} = {A0dB_tru_90:.2f}$ dB\")\n",
    "plt.axhline( y=A0dB_apx_90\n",
    "           , color=\"tab:blue\"\n",
    "           , ls=\":\"\n",
    "           , label=f\"Predicted $A_{{0}} = {A0dB_apx_90:.2f}$ dB\")\n",
    "\n",
    "plt.plot(freq_45, gain_45)\n",
    "plt.axvline( x=f3dB_tru_45\n",
    "           , color=\"tab:orange\"\n",
    "           , ls=\"--\"\n",
    "           , label=f\"Simulated $f_{{-3dB}} = {f3dB_tru_45:.3e}$ Hz\")\n",
    "plt.axvline( x=f3dB_apx_45\n",
    "           , color=\"tab:orange\"\n",
    "           , ls=\":\"\n",
    "           , label=f\"Predicted $f_{{-3dB}} = {f3dB_apx_45:.3e}$ Hz\")\n",
    "plt.axhline( y=A0dB_tru_45\n",
    "           , color=\"tab:orange\"\n",
    "           , ls=\"--\"\n",
    "           , label=f\"Simulated $A_{{0}} = {A0dB_tru_45:.2f}$ dB\")\n",
    "plt.axhline( y=A0dB_apx_45\n",
    "           , color=\"tab:orange\"\n",
    "           , ls=\":\"\n",
    "           , label=f\"Predicted $A_{{0}} = {A0dB_apx_45:.2f}$ dB\")\n",
    "\n",
    "plt.plot(freq_130, gain_130)\n",
    "plt.axvline( x=f3dB_tru_130\n",
    "           , color=\"tab:green\"\n",
    "           , ls=\"--\"\n",
    "           , label=f\"Simulated $f_{{-3dB}} = {f3dB_tru_130:.3e}$ Hz\")\n",
    "plt.axvline( x=f3dB_apx_130\n",
    "           , color=\"tab:green\"\n",
    "           , ls=\":\"\n",
    "           , label=f\"Predicted $f_{{-3dB}} = {f3dB_apx_130:.3e}$ Hz\")\n",
    "plt.axhline( y=A0dB_tru_130\n",
    "           , color=\"tab:green\"\n",
    "           , ls=\"--\"\n",
    "           , label=f\"Simulated $A_{{0}} = {A0dB_tru_130:.2f}$ dB\")\n",
    "plt.axhline( y=A0dB_apx_130\n",
    "           , color=\"tab:green\"\n",
    "           , ls=\":\"\n",
    "           , label=f\"Predicted $A_{{0}} = {A0dB_apx_130:.2f}$ dB\")\n",
    "\n",
    "plt.xscale(\"log\")\n",
    "plt.legend()\n",
    "plt.title(\"Simulated Gain\")\n",
    "plt.xlabel(\"Frequency [Hz]\")\n",
    "plt.ylabel(\"Gain [dB]\")\n",
    "plt.grid(\"on\")"
   ]
  }
 ],
 "metadata": {
  "kernelspec": {
   "display_name": "Python 3",
   "language": "python",
   "name": "python3"
  },
  "language_info": {
   "codemirror_mode": {
    "name": "ipython",
    "version": 3
   },
   "file_extension": ".py",
   "mimetype": "text/x-python",
   "name": "python",
   "nbconvert_exporter": "python",
   "pygments_lexer": "ipython3",
   "version": "3.9.5"
  }
 },
 "nbformat": 4,
 "nbformat_minor": 5
}
