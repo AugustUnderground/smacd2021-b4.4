{
 "cells": [
  {
   "cell_type": "markdown",
   "id": "a06bad0a-7f68-47a0-b48a-c0497c9c5670",
   "metadata": {},
   "source": [
    "# Symmetrical Amplifier\n",
    "\n",
    "In this notebook the circuit shown in the following schematic will be sized to acheive a certain gain.\n",
    "The resulting procedure takes a target gain as input and can be run for any technology, for which trained models are available.\n",
    "\n",
    "![Symmetrical Operatrional Amplifier](./fig/sym.png)\n",
    "\n"
   ]
  },
  {
   "cell_type": "code",
   "execution_count": 1,
   "id": "316fe87e-4823-47f4-8949-a2c04a2e2a45",
   "metadata": {},
   "outputs": [],
   "source": [
    "%matplotlib inline"
   ]
  },
  {
   "cell_type": "code",
   "execution_count": 31,
   "id": "9dac2ab9-d763-4cea-8478-cbff799da0f7",
   "metadata": {},
   "outputs": [],
   "source": [
    "import os\n",
    "import torch\n",
    "import numpy as np\n",
    "import torch as pt\n",
    "import pandas as pd\n",
    "import joblib as jl\n",
    "from functools import partial\n",
    "from scipy.interpolate import pchip_interpolate, interp1d\n",
    "from matplotlib import pyplot as plt\n",
    "from sklearn.preprocessing import MinMaxScaler, minmax_scale\n",
    "from precept import PreceptModule"
   ]
  },
  {
   "cell_type": "markdown",
   "id": "f96cf23d-17c4-4bb5-ba82-c93b341235ba",
   "metadata": {},
   "source": [
    "## Specification\n",
    "\n",
    "The overall performance of the circuit is approximated during sizing by\n",
    "\n",
    "$$A_{0} \\approx M \\cdot \\frac{g_{\\mathrm{m}, \\mathtt{d}}}{g_{\\mathrm{ds},\\mathtt{cm22}} + g_{\\mathrm{ds},\\mathtt{cm32}}}$$\n",
    "\n",
    "and \n",
    "\n",
    "$$ f_{0} \\approx \\frac{g_{\\mathrm{ds},\\mathtt{cm22}} + g_{\\mathrm{ds},\\mathtt{cm32}}}{2 \\cdot \\pi \\cdot C_{L}} $$\n",
    "\n",
    "At the end these performances are verified by simulation.\n",
    "\n",
    "| Parameter             | Specification |\n",
    "|-----------------------|--------------:|\n",
    "| $V_{\\mathrm{DD}}$     |      $1.2\\,V$ |\n",
    "| $V_{\\mathrm{in,cm}}$  |      $0.6\\,V$ |\n",
    "| $V_{\\mathrm{out,cm}}$ |      $0.6\\,V$ |\n",
    "| $I_{\\mathtt{B0}}$     |   $10\\,\\mu A$ |\n",
    "| $C_{\\mathrm{L}}$      |     $10\\,p F$ |"
   ]
  },
  {
   "cell_type": "code",
   "execution_count": 52,
   "id": "186639f6-d69b-4250-b9e4-4025b9105107",
   "metadata": {},
   "outputs": [],
   "source": [
    "V_DD  = 1.2\n",
    "V_SS  = 0.0\n",
    "V_ICM = 0.6\n",
    "V_OCM = 0.6\n",
    "I_B0  = 10e-6\n",
    "C_L   = 10e-12"
   ]
  },
  {
   "cell_type": "markdown",
   "id": "4d9e8f21-9d87-44a4-a501-227bdbbfea81",
   "metadata": {},
   "source": [
    "## Simulator Setup\n",
    "\n",
    "[PySpice]() is used for verifying the design by simulation within this notebook."
   ]
  },
  {
   "cell_type": "code",
   "execution_count": 53,
   "id": "0896140e-c557-461c-bec2-0f0e2a698e6a",
   "metadata": {},
   "outputs": [],
   "source": [
    "import logging\n",
    "from PySpice.Spice.Netlist import Circuit, SubCircuitFactory\n",
    "from PySpice.Spice.Library import SpiceLibrary\n",
    "from PySpice.Unit import *"
   ]
  },
  {
   "cell_type": "markdown",
   "id": "399622ed-9ae1-4849-a11c-7a57730bdbae",
   "metadata": {},
   "source": [
    "The Symmetrical amplifier is setup as a subcircuit to be included into a testbench."
   ]
  },
  {
   "cell_type": "code",
   "execution_count": 54,
   "id": "5392f8d4-a5a3-4157-b4a4-94f051eba7ed",
   "metadata": {},
   "outputs": [],
   "source": [
    "class SymAmp(SubCircuitFactory):\n",
    "    NAME = \"symamp\"\n",
    "    NODES = (\"REF\", \"INP\", \"INN\", \"OUT\", \"SS\", \"DD\")\n",
    "    \n",
    "    def __init__(self):\n",
    "        super().__init__()\n",
    "        # Biasing Current Mirror\n",
    "        self.MOSFET(\"NCM11\", \"REF\", \"REF\", \"SS\", \"SS\", model = \"nmos\")\n",
    "        self.MOSFET(\"NCM12\", \"X\"  , \"REF\", \"SS\", \"SS\", model = \"nmos\")\n",
    "        # Differential Pair\n",
    "        self.MOSFET(\"ND11\" , \"U\"  , \"INP\", \"X\" , \"SS\", model = \"nmos\")\n",
    "        self.MOSFET(\"ND12\" , \"W\"  , \"INN\", \"X\" , \"SS\", model = \"nmos\")\n",
    "        # PMOS Current Mirrors\n",
    "        self.MOSFET(\"PCM221\", \"D\"  , \"U\" , \"DD\", \"DD\", model = \"pmos\")\n",
    "        self.MOSFET(\"PCM222\", \"U\"  , \"U\" , \"DD\", \"DD\", model = \"pmos\")\n",
    "        self.MOSFET(\"PCM211\", \"W\"  , \"W\" , \"DD\", \"DD\", model = \"pmos\")\n",
    "        self.MOSFET(\"PCM212\", \"OUT\", \"W\" , \"DD\", \"DD\", model = \"pmos\")\n",
    "        # NMOS Current Mirror\n",
    "        self.MOSFET(\"NCM31\", \"D\"  , \"D\"  , \"SS\", \"SS\", model = \"nmos\")\n",
    "        self.MOSFET(\"NCM32\", \"OUT\", \"D\"  , \"SS\", \"SS\", model = \"nmos\")"
   ]
  },
  {
   "cell_type": "code",
   "execution_count": 55,
   "id": "1a151158-fce1-49f8-8e2a-c5c123625b31",
   "metadata": {},
   "outputs": [],
   "source": [
    "spice_library = SpiceLibrary(\"../lib/90nm_bulk.lib\")\n",
    "netlist = Circuit(\"symamp_tb\")\n",
    "netlist.include(spice_library[\"nmos\"])\n",
    "netlist.subcircuit(SymAmp())"
   ]
  },
  {
   "cell_type": "code",
   "execution_count": 56,
   "id": "43ad256e-46c4-4d1c-b783-bf0b9c92ed2f",
   "metadata": {},
   "outputs": [],
   "source": [
    "netlist.X(\"sym\", \"symamp\", \"R\", \"P\", \"N\", \"O\", 0, \"DD\")\n",
    "symamp = list(netlist.subcircuits)[0]\n",
    "i_ref  = netlist.I(\"ref\", 0, \"R\", I_B0@u_uA)\n",
    "v_dd   = netlist.VoltageSource(\"dd\", \"DD\", 0, V_DD@u_V)\n",
    "v_ip   = netlist.VoltageSource(\"ip\", \"P\", 0, V_ICM@u_V)\n",
    "v_in   = netlist.SinusoidalVoltageSource( \"in\", \"N\", \"E\"\n",
    "                                        , dc_offset=0.0@u_V\n",
    "                                        , ac_magnitude=-1.0@u_V\n",
    "                                        , )\n",
    "e_buf  = netlist.VoltageControlledVoltageSource(\"in\", \"E\", 0, \"O\", 0, 1.0@u_V)\n",
    "c_l    = netlist.C(\"L\", \"O\", 0, C_L@u_pF)"
   ]
  },
  {
   "cell_type": "markdown",
   "id": "70d70690-a352-4f48-8a53-ecc76709c57a",
   "metadata": {},
   "source": [
    "The simulation function takes a `dict` of the structure:\n",
    "\n",
    "```python\n",
    "{ \"<device_name>\" : { \"w\" : <width:float>\n",
    "                    , \"l\" : <length:float>\n",
    "                    , }\n",
    ", ...\n",
    ", }\n",
    "```\n",
    "\n",
    "where `device_name` corresponds to each transistor in the symmetrical amplifier."
   ]
  },
  {
   "cell_type": "code",
   "execution_count": 30,
   "id": "b7de140a-1fa4-4f66-a43b-4148026b6ebc",
   "metadata": {},
   "outputs": [],
   "source": [
    "def simulate(device_paramters):\n",
    "    for device, parameters in device_paramters.items():\n",
    "        symamp.element(device).width  = parameters[\"w\"]\n",
    "        symamp.element(device).length = parameters[\"l\"]\n",
    "        \n",
    "    simulator = netlist.simulator( simulator=\"ngspice-subprocess\"\n",
    "                                 , temperature=27\n",
    "                                 , nominal_temperature=27\n",
    "                                 , )\n",
    "\n",
    "    logging.disable(logging.FATAL)\n",
    "    analysis  = simulator.ac( start_frequency  = 1.0@u_Hz\n",
    "                            , stop_frequence   = 1e11@u_Hz\n",
    "                            , number_of_points = 10\n",
    "                            , variation        = \"dec\"\n",
    "                            , )\n",
    "    logging.disable(logging.NOTSET)\n",
    "    \n",
    "    freq  = np.array(analysis.frequency)\n",
    "    gain  = (20 * np.log10(np.absolute(analysis[\"O\"]))) - (20 * np.log10(np.absolute(analysis[\"N\"])))\n",
    "    phase = np.angle(analysis[\"O\"], deg=True) - np.angle(analysis[\"N\"], deg=True)\n",
    "    \n",
    "    gf = [gain[np.argsort(gain)], freq[np.argsort(gain)]]\n",
    "    pf = [phase[np.argsort(phase)], freq[np.argsort(phase)]]\n",
    "    \n",
    "    A0dB = pchip_interpolate(freq, gain [1.0])\n",
    "    A3dB = A0dB - 3.0\n",
    "    f3dB = pchip_interpolate(*gf, [A3dB])\n",
    "    \n",
    "    fug = pchip_interpolate(*gf, [0.0]) if A0dB > 0 else np.ones(1)\n",
    "    fp0 = pchip_interpolate(*pf, [0.0])\n",
    "    \n",
    "    PM = pchip_interpolate(freq, phase [fug]) if A0dB > 0 else np.zeros(1)\n",
    "    GM = pchip_interpolate(freq, gain, [fp0])\n",
    "    \n",
    "    return [p.item() for p in [A0dB, f3dB, fug, PM, GM]]"
   ]
  },
  {
   "cell_type": "markdown",
   "id": "92f2bf6b-ffa1-4ce6-96a7-54281b661b60",
   "metadata": {},
   "source": [
    "## Device Model Setup\n",
    "\n",
    "The `PrimitiveDevice` class acts as interface to the machine learning models. With this, multiple models of different types and technologies can be instantiatede and compared."
   ]
  },
  {
   "cell_type": "code",
   "execution_count": 109,
   "id": "9e6c9dc6-e6ba-4b37-9417-75fef7fd59a0",
   "metadata": {},
   "outputs": [],
   "source": [
    "class PrimitiveDevice():\n",
    "    def __init__(self, prefix, params_x, params_y):\n",
    "        self.prefix   = prefix\n",
    "        self.params_x = params_x\n",
    "        self.params_y = params_y\n",
    "        \n",
    "        self.model = PreceptModule.load_from_checkpoint(f\"{self.prefix}.ckpt\")\n",
    "        self.model.cpu()\n",
    "        self.model.eval()\n",
    "        \n",
    "        self.scale_x = jl.load(f\"{self.prefix}.X\")\n",
    "        self.scale_y = jl.load(f\"{self.prefix}.Y\")\n",
    "        \n",
    "    # predict :: DataFame -> DataFrame\n",
    "    def predict(self, X):\n",
    "        with pt.no_grad():\n",
    "            X_ = self.scale_x.transform(np.vstack([ X.gmid.values\n",
    "                                                  , np.log10(X.fug.values)]).T)\n",
    "            Y_ = self.model(pt.from_numpy(np.float32(X_))).numpy()\n",
    "            Y  = pd.DataFrame( self.scale_y.inverse_transform(Y_)\n",
    "                             , columns=params_y )\n",
    "            Y.jd   = np.power(10, Y.jd.values)\n",
    "            Y.gdsw = np.power(10, Y.gdsw.values)\n",
    "        return pd.DataFrame(Y, columns=self.params_y)"
   ]
  },
  {
   "cell_type": "code",
   "execution_count": 135,
   "id": "5cf3e9e8-4301-4deb-9f85-696ae442a9af",
   "metadata": {},
   "outputs": [],
   "source": [
    "devices           = [ \"MNCM11\", \"MNCM12\", \"MND11\", \"MND12\", \"MNCM31\", \"MNCM32\"\n",
    "                    , \"MPCM221\" , \"MPCM222\", \"MPCM211\", \"MPCM212\" ]\n",
    "reference_devices = [ \"MNCM12\", \"MND12\", \"MPCM212\", \"MNCM32\" ]"
   ]
  },
  {
   "cell_type": "code",
   "execution_count": 136,
   "id": "629fdaf5-e76e-4642-b42f-f224d97a9a36",
   "metadata": {},
   "outputs": [],
   "source": [
    "params_x = [\"gmid\", \"fug\"]\n",
    "params_y = [\"jd\", \"L\", \"gdsw\"]"
   ]
  },
  {
   "cell_type": "markdown",
   "id": "50e0c639-cca4-41da-856e-f241c0065bf1",
   "metadata": {},
   "source": [
    "Initially the symmetrical amplifier is sized with the models for the $90\\,\\mathrm{nm}$ technology. \n",
    "Later this can be changed to any other technology model, yielding similar results."
   ]
  },
  {
   "cell_type": "code",
   "execution_count": 137,
   "id": "da16a273-21ee-4077-b25d-ed28f4fb0481",
   "metadata": {},
   "outputs": [],
   "source": [
    "nmos90 = PrimitiveDevice(\"../models/example/90nm-nmos/g-nmos-90nm\", params_x, params_y)\n",
    "pmos90 = PrimitiveDevice(\"../models/example/90nm-pmos/g-pmos-90nm\", params_x, params_y)"
   ]
  },
  {
   "cell_type": "markdown",
   "id": "2a4336ff-b322-40b3-bda1-afa74b207a46",
   "metadata": {},
   "source": [
    "## Design Procedure\n",
    "\n",
    "First, the specification, given in the table above is considered.\n",
    "from which a biasing current ${I_{\\mathtt{B1}} = \\frac{I_{\\mathrm{B0}}}{2}}$ is defined.\n",
    "Additionally, the ratio ${M = 1 : 4}$ of the PMOS current mirrors `MPCM2` is specified. \n",
    "Usually, this is chosen to balance power consumption and phase margin. Since this\n",
    "has to be analyzed separately by simulation, starting values ${M_{\\mathtt{cm21}} = 1}$ \n",
    "and ${M_{\\mathtt{cm22}} = 4}$ are selected."
   ]
  },
  {
   "cell_type": "code",
   "execution_count": 139,
   "id": "36352be3-b6fe-48e8-aa6e-0fa59b2f0406",
   "metadata": {},
   "outputs": [],
   "source": [
    "M    = 4\n",
    "R    = 2\n",
    "I_B1 = I_B0 / R\n",
    "I_B2 = (I_B1 / 2) * M"
   ]
  },
  {
   "cell_type": "markdown",
   "id": "ebff6a03-8436-49ba-b9fe-5f80e12e7464",
   "metadata": {},
   "source": [
    "First, since the common mode output voltage $V_{\\mathrm{out,cm}} = 0.6\\,\\mathrm{V}$ is known, \n",
    "the NMOS current mirror `MNCM3` is considered with first."
   ]
  },
  {
   "cell_type": "code",
   "execution_count": 132,
   "id": "aaa34c8a-9e8b-40f2-8ec2-5299ffed7791",
   "metadata": {},
   "outputs": [],
   "source": [
    "def size_symamp(e_char):\n",
    "    dev_char = { dev: nmos90.predict(pd.DataFrame([char])).to_dict(\"records\")[0]\n",
    "                 for dev,char in e_char.items() }\n",
    "    \n",
    "    dev_char[\"MNCM12\"][\"W\"]  = (I_B1 / dev_char[\"MNCM12\"][\"jd\"]) / R\n",
    "    dev_char[\"MND12\"][\"W\"]   = (I_B1 / 2) / dev_char[\"MND12\"][\"jd\"]\n",
    "    dev_char[\"MPCM212\"][\"W\"] = I_B2 / dev_char[\"MPCM212\"][\"jd\"]\n",
    "    dev_char[\"MNCM32\"][\"W\"]  = I_B2 / dev_char[\"MNCM32\"][\"jd\"]\n",
    "             \n",
    "    dev_char[\"MNCM11\"]       = dev_char[\"MNCM12\"]\n",
    "    dev_char[\"MNCM11\"][\"W\"]  = dev_char[\"MNCM12\"][\"W\"] * R\n",
    "    \n",
    "    dev_char[\"MND11\"]   = dev_char[\"MND12\"]\n",
    "    \n",
    "    dev_char[\"MNCM31\"]  = dev_char[\"MNCM32\"]\n",
    "    \n",
    "    dev_char[\"MPCM222\"] = dev_char[\"MPCM212\"]\n",
    "    \n",
    "    dev_char[\"MPCM211\"] = dev_char[\"MPCM212\"]\n",
    "    dev_char[\"MPCM211\"][\"W\"] = dev_char[\"MPCM212\"][\"W\"] / M\n",
    "    dev_char[\"MPCM221\"] = dev_char[\"MPCM212\"]\n",
    "    dev_char[\"MPCM221\"][\"W\"] = dev_char[\"MPCM212\"][\"W\"] / M\n",
    "    return dev_char"
   ]
  },
  {
   "cell_type": "code",
   "execution_count": 133,
   "id": "3967ba96-5278-4cc3-b91e-5e6d429eacc2",
   "metadata": {},
   "outputs": [],
   "source": [
    "electrical_characteristics = { rd : { \"gmid\" : 10.0\n",
    "                                    ,  \"fug\" : 1e9\n",
    "                                    , }\n",
    "                               for rd in reference_devices }"
   ]
  },
  {
   "cell_type": "code",
   "execution_count": 134,
   "id": "f9ea496e-4b0f-4355-b3df-7488b438e81b",
   "metadata": {},
   "outputs": [
    {
     "data": {
      "text/plain": [
       "{'MNCM12': {'jd': 8.256196022033691,\n",
       "  'L': 1.1270124105067225e-06,\n",
       "  'gdsw': 0.2813168168067932},\n",
       " 'MND12': {'jd': 8.256196022033691,\n",
       "  'L': 1.1270124105067225e-06,\n",
       "  'gdsw': 0.2813168168067932},\n",
       " 'MPCM212': {'jd': 8.256196022033691,\n",
       "  'L': 1.1270124105067225e-06,\n",
       "  'gdsw': 0.2813168168067932},\n",
       " 'MNCM32': {'jd': 8.256196022033691,\n",
       "  'L': 1.1270124105067225e-06,\n",
       "  'gdsw': 0.2813168168067932}}"
      ]
     },
     "execution_count": 134,
     "metadata": {},
     "output_type": "execute_result"
    }
   ],
   "source": [
    "size_symamp(electrical_characteristics)"
   ]
  },
  {
   "cell_type": "code",
   "execution_count": 100,
   "id": "4b467c36-a3b1-4460-bf66-d2c271034cdd",
   "metadata": {},
   "outputs": [
    {
     "data": {
      "text/html": [
       "<div>\n",
       "<style scoped>\n",
       "    .dataframe tbody tr th:only-of-type {\n",
       "        vertical-align: middle;\n",
       "    }\n",
       "\n",
       "    .dataframe tbody tr th {\n",
       "        vertical-align: top;\n",
       "    }\n",
       "\n",
       "    .dataframe thead th {\n",
       "        text-align: right;\n",
       "    }\n",
       "</style>\n",
       "<table border=\"1\" class=\"dataframe\">\n",
       "  <thead>\n",
       "    <tr style=\"text-align: right;\">\n",
       "      <th></th>\n",
       "      <th>gmid</th>\n",
       "      <th>fug</th>\n",
       "    </tr>\n",
       "  </thead>\n",
       "  <tbody>\n",
       "    <tr>\n",
       "      <th>0</th>\n",
       "      <td>10.0</td>\n",
       "      <td>1.000000e+09</td>\n",
       "    </tr>\n",
       "  </tbody>\n",
       "</table>\n",
       "</div>"
      ],
      "text/plain": [
       "   gmid           fug\n",
       "0  10.0  1.000000e+09"
      ]
     },
     "execution_count": 100,
     "metadata": {},
     "output_type": "execute_result"
    }
   ],
   "source": [
    "#nmos90.predict(pd.DataFrame([electrical_characteristics[\"MND12\"]]))\n",
    "pd.DataFrame([electrical_characteristics[\"MND12\"]])"
   ]
  },
  {
   "cell_type": "code",
   "execution_count": null,
   "id": "0c08ef11-7089-45d6-8d88-bfc8c10840d0",
   "metadata": {},
   "outputs": [],
   "source": []
  }
 ],
 "metadata": {
  "kernelspec": {
   "display_name": "Python 3",
   "language": "python",
   "name": "python3"
  },
  "language_info": {
   "codemirror_mode": {
    "name": "ipython",
    "version": 3
   },
   "file_extension": ".py",
   "mimetype": "text/x-python",
   "name": "python",
   "nbconvert_exporter": "python",
   "pygments_lexer": "ipython3",
   "version": "3.9.5"
  }
 },
 "nbformat": 4,
 "nbformat_minor": 5
}
