{
 "cells": [
  {
   "cell_type": "markdown",
   "id": "a06bad0a-7f68-47a0-b48a-c0497c9c5670",
   "metadata": {},
   "source": [
    "![Symmetrical Operatrional Amplifier](./fig/sym.png)"
   ]
  },
  {
   "cell_type": "code",
   "execution_count": null,
   "id": "7fc162c7-04b7-4cf3-8ddc-2e0e94e75c8c",
   "metadata": {},
   "outputs": [],
   "source": []
  }
 ],
 "metadata": {
  "kernelspec": {
   "display_name": "Python 3",
   "language": "python",
   "name": "python3"
  },
  "language_info": {
   "codemirror_mode": {
    "name": "ipython",
    "version": 3
   },
   "file_extension": ".py",
   "mimetype": "text/x-python",
   "name": "python",
   "nbconvert_exporter": "python",
   "pygments_lexer": "ipython3",
   "version": "3.9.5"
  }
 },
 "nbformat": 4,
 "nbformat_minor": 5
}
