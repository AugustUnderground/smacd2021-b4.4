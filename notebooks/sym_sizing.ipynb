{
 "cells": [
  {
   "cell_type": "markdown",
   "id": "a06bad0a-7f68-47a0-b48a-c0497c9c5670",
   "metadata": {},
   "source": [
    "# Symmetrical Amplifier\n",
    "\n",
    "In this notebook the circuit shown in the following schematic will be sized to acheive a certain gain.\n",
    "The resulting procedure takes a target gain as input and can be run for any technology, for which trained models are available.\n",
    "\n",
    "![Symmetrical Operatrional Amplifier](./fig/sym.png)\n",
    "\n"
   ]
  },
  {
   "cell_type": "code",
   "execution_count": 1,
   "id": "316fe87e-4823-47f4-8949-a2c04a2e2a45",
   "metadata": {},
   "outputs": [],
   "source": [
    "%matplotlib inline"
   ]
  },
  {
   "cell_type": "code",
   "execution_count": 19,
   "id": "9dac2ab9-d763-4cea-8478-cbff799da0f7",
   "metadata": {},
   "outputs": [],
   "source": [
    "import os\n",
    "import torch\n",
    "import numpy as np\n",
    "import torch as pt\n",
    "import pandas as pd\n",
    "import joblib as jl\n",
    "from functools import partial\n",
    "from scipy.interpolate import pchip_interpolate, interp1d\n",
    "from matplotlib import pyplot as plt\n",
    "from sklearn.preprocessing import MinMaxScaler, minmax_scale\n",
    "from skopt import Optimizer, gp_minimize\n",
    "from skopt.space import Real\n",
    "from skopt.plots import plot_convergence\n",
    "from precept import PreceptModule"
   ]
  },
  {
   "cell_type": "markdown",
   "id": "f96cf23d-17c4-4bb5-ba82-c93b341235ba",
   "metadata": {},
   "source": [
    "## Specification\n",
    "\n",
    "The overall performance of the circuit is approximated during sizing by\n",
    "\n",
    "$$A_{0} \\approx M \\cdot \\frac{g_{\\mathrm{m}, \\mathtt{d}}}{g_{\\mathrm{ds},\\mathtt{cm22}} + g_{\\mathrm{ds},\\mathtt{cm32}}}$$\n",
    "\n",
    "and \n",
    "\n",
    "$$ f_{0} \\approx \\frac{g_{\\mathrm{ds},\\mathtt{cm22}} + g_{\\mathrm{ds},\\mathtt{cm32}}}{2 \\cdot \\pi \\cdot C_{L}} $$\n",
    "\n",
    "At the end these performances are verified by simulation.\n",
    "\n",
    "| Parameter             | Specification |\n",
    "|-----------------------|--------------:|\n",
    "| $V_{\\mathrm{DD}}$     |      $1.2\\,V$ |\n",
    "| $V_{\\mathrm{in,cm}}$  |      $0.6\\,V$ |\n",
    "| $V_{\\mathrm{out,cm}}$ |      $0.6\\,V$ |\n",
    "| $I_{\\mathtt{B0}}$     |   $10\\,\\mu A$ |\n",
    "| $C_{\\mathrm{L}}$      |     $10\\,p F$ |"
   ]
  },
  {
   "cell_type": "code",
   "execution_count": 3,
   "id": "186639f6-d69b-4250-b9e4-4025b9105107",
   "metadata": {},
   "outputs": [],
   "source": [
    "V_DD  = 1.2\n",
    "V_SS  = 0.0\n",
    "V_ICM = 0.6\n",
    "V_OCM = 0.6\n",
    "I_B0  = 10e-6\n",
    "C_L   = 10e-12"
   ]
  },
  {
   "cell_type": "markdown",
   "id": "4d9e8f21-9d87-44a4-a501-227bdbbfea81",
   "metadata": {},
   "source": [
    "## Simulator Setup\n",
    "\n",
    "[PySpice]() is used for verifying the design by simulation within this notebook."
   ]
  },
  {
   "cell_type": "code",
   "execution_count": 4,
   "id": "0896140e-c557-461c-bec2-0f0e2a698e6a",
   "metadata": {},
   "outputs": [],
   "source": [
    "import logging\n",
    "from PySpice.Spice.Netlist import Circuit, SubCircuitFactory\n",
    "from PySpice.Spice.Library import SpiceLibrary\n",
    "from PySpice.Unit import *"
   ]
  },
  {
   "cell_type": "markdown",
   "id": "399622ed-9ae1-4849-a11c-7a57730bdbae",
   "metadata": {},
   "source": [
    "The Symmetrical amplifier is setup as a subcircuit to be included into a testbench."
   ]
  },
  {
   "cell_type": "code",
   "execution_count": 5,
   "id": "5392f8d4-a5a3-4157-b4a4-94f051eba7ed",
   "metadata": {},
   "outputs": [],
   "source": [
    "class SymAmp(SubCircuitFactory):\n",
    "    NAME = \"symamp\"\n",
    "    NODES = (10, 11, 12, 13, 14, 15)\n",
    "    \n",
    "    def __init__(self):\n",
    "        super().__init__()\n",
    "        # Biasing Current Mirror\n",
    "        self.MOSFET(\"NCM11\" , 10, 10, 14, 14, model = \"nmos\")\n",
    "        self.MOSFET(\"NCM12\" , 16, 10, 14, 14, model = \"nmos\")\n",
    "        # Differential Pair\n",
    "        self.MOSFET(\"ND11\"  , 17, 12, 16, 14, model = \"nmos\")\n",
    "        self.MOSFET(\"ND12\"  , 18, 11, 16, 14, model = \"nmos\")\n",
    "        # PMOS Current Mirrors\n",
    "        self.MOSFET(\"PCM221\", 17, 17, 15, 15, model = \"pmos\")\n",
    "        self.MOSFET(\"PCM222\", 19, 17, 15, 15, model = \"pmos\")\n",
    "        self.MOSFET(\"PCM211\", 18, 18, 15, 15, model = \"pmos\")\n",
    "        self.MOSFET(\"PCM212\", 13, 18, 15, 15, model = \"pmos\")\n",
    "        # NMOS Current Mirror\n",
    "        self.MOSFET(\"NCM31\" , 19, 19, 14, 14, model = \"nmos\")\n",
    "        self.MOSFET(\"NCM32\" , 13, 19, 14, 14, model = \"nmos\")"
   ]
  },
  {
   "cell_type": "markdown",
   "id": "8238bd3e-af1d-49e5-8233-c8f7e9e23cc5",
   "metadata": {},
   "source": [
    "The subckt as well as the MOS library have to be specified in the netlist. This is where changes need to be made if another technology is to be sized."
   ]
  },
  {
   "cell_type": "code",
   "execution_count": 6,
   "id": "1a151158-fce1-49f8-8e2a-c5c123625b31",
   "metadata": {},
   "outputs": [],
   "source": [
    "spice_library = SpiceLibrary(\"../lib/90nm_bulk.lib\")\n",
    "netlist = Circuit(\"symamp_tb\")\n",
    "netlist.include(spice_library[\"nmos\"])\n",
    "netlist.subcircuit(SymAmp())"
   ]
  },
  {
   "cell_type": "markdown",
   "id": "d913870f-9ff6-4df3-89ca-242444296cfc",
   "metadata": {},
   "source": [
    "The Open Loop Gain is obtained through the following Testbench."
   ]
  },
  {
   "cell_type": "code",
   "execution_count": 7,
   "id": "43ad256e-46c4-4d1c-b783-bf0b9c92ed2f",
   "metadata": {},
   "outputs": [],
   "source": [
    "netlist.X(\"sym\", \"symamp\", \"B\", \"P\", \"N\", \"O\", 0, \"D\")\n",
    "symamp = list(netlist.subcircuits)[0]\n",
    "i_ref  = netlist.CurrentSource(\"ref\",  0 , \"B\", I_B0@u_A)\n",
    "v_dd   = netlist.VoltageSource(\"dd\" , \"D\",  0 , V_DD@u_V)\n",
    "v_ip   = netlist.VoltageSource(\"ip\" , \"P\",  0 , V_ICM@u_V)\n",
    "v_in   = netlist.SinusoidalVoltageSource( \"in\", \"N\", \"E\"\n",
    "                                        , dc_offset=0.0@u_V\n",
    "                                        , ac_magnitude=-1.0@u_V\n",
    "                                        , )\n",
    "e_buf  = netlist.VoltageControlledVoltageSource(\"in\", \"E\", 0, \"O\", 0, 1.0@u_V)\n",
    "c_l    = netlist.C(\"L\", \"O\", 0, C_L@u_F)"
   ]
  },
  {
   "cell_type": "markdown",
   "id": "70d70690-a352-4f48-8a53-ecc76709c57a",
   "metadata": {},
   "source": [
    "The simulation function takes a `dict` with a key for each device in the circuit and at least columns `W` and `L` for sizing. It returns the performances obtained through an AC Analysis."
   ]
  },
  {
   "cell_type": "code",
   "execution_count": 8,
   "id": "b7de140a-1fa4-4f66-a43b-4148026b6ebc",
   "metadata": {},
   "outputs": [],
   "source": [
    "def simulate(device_paramters):\n",
    "    for device, parameters in device_paramters.items():\n",
    "        symamp.element(device).width  = parameters[\"W\"].values[0]\n",
    "        symamp.element(device).length = parameters[\"L\"].values[0]\n",
    "        \n",
    "    simulator = netlist.simulator( simulator=\"ngspice-subprocess\"\n",
    "                                 , temperature=27\n",
    "                                 , nominal_temperature=27\n",
    "                                 , )\n",
    "\n",
    "    logging.disable(logging.FATAL)\n",
    "    analysis  = simulator.ac( start_frequency  = 1.0@u_Hz\n",
    "                            , stop_frequency   = 1e11@u_Hz\n",
    "                            , number_of_points = 10\n",
    "                            , variation        = \"dec\"\n",
    "                            , )\n",
    "    \n",
    "    freq  = np.array(analysis.frequency)\n",
    "    gain  = (20 * np.log10(np.absolute(analysis[\"O\"]))) - (20 * np.log10(np.absolute(analysis[\"N\"])))\n",
    "    phase = np.angle(analysis[\"O\"], deg=True) - np.angle(analysis[\"N\"], deg=True)\n",
    "    logging.disable(logging.NOTSET)\n",
    "    \n",
    "    gf = [gain[np.argsort(gain)], freq[np.argsort(gain)]]\n",
    "    pf = [phase[np.argsort(phase)], freq[np.argsort(phase)]]\n",
    "    \n",
    "    A0dB = pchip_interpolate(freq, gain, [1.0])\n",
    "    A3dB = A0dB - 3.0\n",
    "    f3dB = pchip_interpolate(*gf, [A3dB])\n",
    "    \n",
    "    fug = pchip_interpolate(*gf, [0.0]) if A0dB > 0 else np.ones(1)\n",
    "    fp0 = pchip_interpolate(*pf, [0.0])\n",
    "    \n",
    "    PM = pchip_interpolate(freq, phase, [fug]) if A0dB > 0 else np.zeros(1)\n",
    "    GM = pchip_interpolate(freq, gain, [fp0])\n",
    "    \n",
    "    performances = { \"A0dB\" : A0dB.item() \n",
    "                   , \"f3dB\" : f3dB.item()\n",
    "                   , \"fug\"  : fug.item()\n",
    "                   , \"PM\"   : PM.item()\n",
    "                   , \"GM\"   : GM.item()\n",
    "                   , }\n",
    "    \n",
    "    return performances"
   ]
  },
  {
   "cell_type": "markdown",
   "id": "92f2bf6b-ffa1-4ce6-96a7-54281b661b60",
   "metadata": {},
   "source": [
    "## Device Model Setup\n",
    "\n",
    "The `PrimitiveDevice` class acts as interface to the machine learning models. With this, multiple models of different types and technologies can be instantiatede and compared."
   ]
  },
  {
   "cell_type": "code",
   "execution_count": 36,
   "id": "9e6c9dc6-e6ba-4b37-9417-75fef7fd59a0",
   "metadata": {},
   "outputs": [],
   "source": [
    "class PrimitiveDevice():\n",
    "    def __init__(self, prefix, params_x, params_y):\n",
    "        self.prefix   = prefix\n",
    "        self.params_x = params_x\n",
    "        self.params_y = params_y\n",
    "        \n",
    "        self.model = PreceptModule.load_from_checkpoint(f\"{self.prefix}.ckpt\")\n",
    "        self.model.cpu()\n",
    "        self.model.eval()\n",
    "        \n",
    "        self.scale_x = jl.load(f\"{self.prefix}.X\")\n",
    "        self.scale_y = jl.load(f\"{self.prefix}.Y\")\n",
    "        \n",
    "    def predict(self, X):\n",
    "        with pt.no_grad():\n",
    "            X_ = self.scale_x.transform(np.vstack([ X.gmid.values\n",
    "                                                  , np.log10(X.fug.values)]).T)\n",
    "            Y_ = self.model(pt.from_numpy(np.float32(X_))).numpy()\n",
    "            Y  = pd.DataFrame( self.scale_y.inverse_transform(Y_)\n",
    "                             , columns=params_y )\n",
    "            Y.jd   = np.power(10, Y.jd.values)\n",
    "            Y.gdsw = np.power(10, Y.gdsw.values)\n",
    "        return pd.DataFrame(Y, columns=self.params_y)"
   ]
  },
  {
   "cell_type": "markdown",
   "id": "41756976-b1f5-424c-903a-616333c9ae14",
   "metadata": {},
   "source": [
    "The circuit is not divided into single devices, but rather in _building blocks_ as indicated by the dashed boxes in the schematic."
   ]
  },
  {
   "cell_type": "code",
   "execution_count": 37,
   "id": "5cf3e9e8-4301-4deb-9f85-696ae442a9af",
   "metadata": {},
   "outputs": [],
   "source": [
    "devices           = [ \"MNCM11\", \"MNCM12\", \"MND11\", \"MND12\", \"MNCM31\", \"MNCM32\"\n",
    "                    , \"MPCM221\" , \"MPCM222\", \"MPCM211\", \"MPCM212\" ]\n",
    "reference_devices = [ \"MNCM12\", \"MND12\", \"MPCM212\", \"MNCM32\" ]"
   ]
  },
  {
   "cell_type": "markdown",
   "id": "9585d9fc-73b5-4b7f-9247-5dc93d63f4fb",
   "metadata": {},
   "source": [
    "The inputs and outputs of the model, trained in `model_training.ipynb` have to specified again."
   ]
  },
  {
   "cell_type": "code",
   "execution_count": 38,
   "id": "629fdaf5-e76e-4642-b42f-f224d97a9a36",
   "metadata": {},
   "outputs": [],
   "source": [
    "params_x = [\"gmid\", \"fug\", \"Vds\", \"Vbs\"]\n",
    "params_y = [\"jd\", \"L\", \"gdsw\", \"Vgs\"]"
   ]
  },
  {
   "cell_type": "markdown",
   "id": "50e0c639-cca4-41da-856e-f241c0065bf1",
   "metadata": {},
   "source": [
    "Initially the symmetrical amplifier is sized with the models for the $90\\,\\mathrm{nm}$ technology. \n",
    "Later this can be changed to any other technology model, yielding similar results."
   ]
  },
  {
   "cell_type": "code",
   "execution_count": 39,
   "id": "da16a273-21ee-4077-b25d-ed28f4fb0481",
   "metadata": {},
   "outputs": [],
   "source": [
    "nmos = PrimitiveDevice(\"../models/example/90nm-nmos/g-nmos-90nm\", params_x, params_y)\n",
    "pmos = PrimitiveDevice(\"../models/example/90nm-pmos/g-pmos-90nm\", params_x, params_y)"
   ]
  },
  {
   "cell_type": "markdown",
   "id": "2a4336ff-b322-40b3-bda1-afa74b207a46",
   "metadata": {},
   "source": [
    "## Design Procedure\n",
    "\n",
    "![Symmetrical Amplifier](./fig/sym.png)\n",
    "\n",
    "For simplicity in this example, only the $\\frac{g_{\\mathrm{m}}}{I_{\\mathrm{d}}}$ dependend models\n",
    "are considered. Therefore, sizing for all devices is expressed in terms of \n",
    "$\\frac{g_{\\mathrm{m}}}{I_{\\mathrm{d}}}$ and $f_{\\mathrm{ug}}$.\n",
    "\n",
    "$$\\gamma_{\\mathrm{n,p}} \\left ( \\left [ \\frac{g_{\\mathrm{m}}}{I_{\\mathrm{d}}}, f_{\\mathrm{ug}}, V_{\\mathrm{ds}}, V_{\\mathrm{bs}} \\right ]^{\\dagger} \\right ) \n",
    "\\Rightarrow \\left [ L, \\frac{I_{\\mathrm{d}}}{W}, \\frac{g_{\\mathrm{ds}}}{W}, V_{\\mathrm{gs}} \\right ]^{\\dagger}\n",
    "$$\n",
    "\n",
    "First, the specification, given in the table above is considered,\n",
    "from which a biasing current ${I_{\\mathtt{B1}} = \\frac{I_{\\mathrm{B0}}}{2}}$ is defined.\n",
    "This, in turn results in a mirror ratio $M_{\\mathrm{n}} = 2 : 1$ of the NMOS current mirror `NCM1`.\n",
    "Additionally, the ratio $M_{\\mathrm{p}} = 1 : 4$ of the PMOS current mirrors `MPCM2` is specified. \n",
    "Usually, this is chosen to balance power consumption and phase margin. Since this\n",
    "has to be analyzed separately by simulation, starting values ${M_{\\mathtt{cm21}} = 1}$ \n",
    "and ${M_{\\mathtt{cm22}} = 4}$ are selected. Furthermore, the remaining branch current\n",
    "$I_{\\mathtt{B2}} = M_{\\mathrm{p}} \\cdot \\frac{I_{\\mathtt{B2}}}{2}$ is determined."
   ]
  },
  {
   "cell_type": "code",
   "execution_count": 40,
   "id": "36352be3-b6fe-48e8-aa6e-0fa59b2f0406",
   "metadata": {},
   "outputs": [],
   "source": [
    "M_P  = 4\n",
    "M_N  = 2\n",
    "I_B1 = I_B0 / R\n",
    "I_B2 = (I_B1 / 2) * M"
   ]
  },
  {
   "cell_type": "markdown",
   "id": "097829f3-c84c-4475-ac4a-b72bf86eea74",
   "metadata": {},
   "source": [
    "Since the common mode output voltage $V_{\\mathrm{out,cm}} = 0.6$ is known, the sizing procedure starts with `MPCM212`:\n",
    "\n",
    "$$ \\gamma_{\\mathrm{p}, \\mathtt{MPCM2}} \\left ( \\left [ \\left ( \\frac{g_{\\mathrm{m}}}{I_{\\mathrm{d}}} \\right )_{\\mathtt{MPCM2}}\n",
    "                                                     , f_{\\mathrm{ug}, \\mathtt{MPCM2}}, (V_{\\mathrm{DD}} - V_{\\mathrm{out,cm}}), 0.0 \\right ]^{\\dagger} \n",
    "                       \\right ) $$\n",
    "\n",
    "The gate voltage $V_{\\mathrm{gs}, \\mathtt{MPCM}}$ helps guiding the sizing for the differential pair later.\n",
    "Next, `MNCM32` is considered with:\n",
    "\n",
    "$$ \\gamma_{\\mathrm{n}, \\mathtt{MNCM3}} \\left ( \\left [ \\left ( \\frac{g_{\\mathrm{m}}}{I_{\\mathrm{d}}} \\right )_{\\mathtt{MNCM3}}\n",
    "                                                      , f_{\\mathrm{ug}, \\mathtt{MNCM3}}, V_{\\mathrm{out,cm}}, 0.0 \\right ]^{\\dagger} \n",
    "                       \\right ) $$\n",
    "\n",
    "Sizing the differential pair requires, _guessing_ $V_{\\mathrm{x}} = 0.25\\,\\mathrm{V}$ which is done by considering \n",
    "the fact that 3 devices are stacked and it merely serves as biasing. Therefore:\n",
    "\n",
    "$$ \\gamma_{\\mathrm{n}, \\mathtt{MND1}} \\left ( \\left [ \\left ( \\frac{g_{\\mathrm{m}}}{I_{\\mathrm{d}}} \\right )_{\\mathtt{MND1}}\n",
    "                                                      , f_{\\mathrm{ug}, \\mathtt{MND1}}\n",
    "                                                      , (V_{\\mathrm{DD}} -  V_{\\mathrm{gs}, \\mathtt{MPCM}} - V_{\\mathrm{x}})\n",
    "                                                      , 0.0 \\right ]^{\\dagger} \n",
    "                       \\right ) $$\n",
    "\n",
    "Subsequently, the biasing current mirror `MNCM3` is sized:\n",
    "\n",
    "$$ \\gamma_{\\mathrm{n}, \\mathtt{MNCM3}} \\left ( \\left [ \\left ( \\frac{g_{\\mathrm{m}}}{I_{\\mathrm{d}}} \\right )_{\\mathtt{MNCM3}}\n",
    "                                                      , f_{\\mathrm{ug}, \\mathtt{MNCM3}}\n",
    "                                                      , V_{\\mathrm{x}}\n",
    "                                                      , 0.0 \\right ]^{\\dagger} \n",
    "                       \\right ) $$\n",
    "\n"
   ]
  },
  {
   "cell_type": "markdown",
   "id": "ebff6a03-8436-49ba-b9fe-5f80e12e7464",
   "metadata": {},
   "source": [
    "With these four function calls, the sizing of the entire circuit is expressed in terms of eight electrical characteristics.\n",
    "The following function `symamp_sizing` takes a `dict` with keys for each _reference device_ $\\in$ `reference_devices = [ \"MNCM12\", \"MND12\", \"MPCM212\", \"MNCM32\" ]` and corresponding, desired characteristics. The obtained sizing for each device is propageted to related devices in the same building block and a new `dict` with sizing information is returned."
   ]
  },
  {
   "cell_type": "code",
   "execution_count": 41,
   "id": "aaa34c8a-9e8b-40f2-8ec2-5299ffed7791",
   "metadata": {},
   "outputs": [],
   "source": [
    "def symamp_sizing(ec):\n",
    "    #ec = { dev : df.join(nmos90.predict(df))  if dev.startswith(\"MN\")  else df.join(pmos90.predict(df))\n",
    "    #       for dev,df in e_char.items() }\n",
    "   \n",
    "    ec[\"MPCM212\"].join(pmos.predict(ec[\"MPCM212\"]))\n",
    "    ec[\"MPCM212\"].join(pmos.predict(ec[\"MPCM212\"]))\n",
    "    \n",
    "    ## PMOS Current Mirror MPCM2:\n",
    "    ec[\"MPCM212\"][\"W\"] = I_B2 / ec[\"MPCM212\"].jd  # Determine width based on known branch current\n",
    "    ec[\"MPCM222\"]      = ec[\"MPCM212\"]            # MPCM222 is sized identically\n",
    "    \n",
    "    ec[\"MPCM221\"]      = ec[\"MPCM212\"].copy()     # Copy, to not overwrite\n",
    "    ec[\"MPCM221\"].W    = ec[\"MPCM221\"].W / M_P    # MPCM211's width has to be reduced by M_P \n",
    "    ec[\"MPCM211\"]      = ec[\"MPCM221\"]            # MPCM221 and MPCM211 are sized identically\n",
    "\n",
    "    ec[\"MNCM12\"][\"W\"]  = I_B1 / ec[\"MNCM12\"].jd   # Determine\n",
    "    ec[\"MNCM11\"]       = ec[\"MNCM12\"].copy()\n",
    "    ec[\"MNCM11\"].W     = ec[\"MNCM11\"].W * M_N\n",
    "    \n",
    "    ec[\"MND12\"][\"W\"]   = (I_B1 / 2) / ec[\"MND12\"].jd\n",
    "    ec[\"MND11\"]        = ec[\"MND12\"].copy()\n",
    "    \n",
    "    \n",
    "    ec[\"MNCM32\"][\"W\"]  = I_B2 / ec[\"MNCM32\"].jd\n",
    "    ec[\"MNCM31\"]       = ec[\"MNCM32\"].copy()\n",
    "    \n",
    "    for dev,val in ec.items():\n",
    "        val[\"gds\"] = val.gdsw * val.W\n",
    "        val[\"id\"]  = val.jd * val.W\n",
    "        val[\"gm\"]  = val.gmid * val.id\n",
    "    \n",
    "    return ec"
   ]
  },
  {
   "cell_type": "markdown",
   "id": "d45fc5d7-df12-46df-8814-552ff4d127ad",
   "metadata": {},
   "source": [
    "To make it more useable in an optimization context, a wrapper function that takes the 8 individual characteristics for the 4 _reference devices_ and returns a performance estimate is set up here with `symamp_performance`."
   ]
  },
  {
   "cell_type": "code",
   "execution_count": 42,
   "id": "9a1f8256-691d-46f0-8f05-acc876f78ed7",
   "metadata": {},
   "outputs": [],
   "source": [
    "def symamp_performance( gmid_ncm12, gmid_ndp12, gmid_pcm212, gmid_ncm32\n",
    "                      , fug_ncm12, fug_ndp12, fug_pcm212, fug_ncm32 ):\n",
    "    ec = { \"MNCM12\"  : pd.DataFrame(np.array([[gmid_ncm12,  fug_ncm12]]), columns=params_x)\n",
    "         , \"MND12\"   : pd.DataFrame(np.array([[gmid_ndp12,  fug_ndp12]]), columns=params_x)\n",
    "         , \"MPCM212\" : pd.DataFrame(np.array([[gmid_pcm212, fug_pcm212]]), columns=params_x)\n",
    "         , \"MNCM32\"  : pd.DataFrame(np.array([[gmid_ncm32,  fug_ncm32]]), columns=params_x)\n",
    "         , }\n",
    "    dc = symamp_sizing(ec)\n",
    "    A0dB = 20 * np.log10(M_P * (dc[\"MND12\"].gm / (dc[\"MNCM32\"].gds + dc[\"MPCM212\"].gds)).values[0])\n",
    "    f3dB = ((dc[\"MNCM32\"].gds + dc[\"MPCM212\"].gds).values[0] / (2 * np.pi * C_L))\n",
    "    return [A0dB, f3dB]"
   ]
  },
  {
   "cell_type": "markdown",
   "id": "51b522a7-8973-44c1-ab90-802459b3665a",
   "metadata": {},
   "source": [
    "As described in the Paper, after wrapping the performnace estimate into a function of electrical characteristics, \n",
    "the $\\frac{g_{\\mathrm{m}}}{I_{\\mathrm{d}}} = 10.0\\,\\mathrm{V}^{-1}$ for all devices is **fixed**, \n",
    "which is expressed by $p_{\\mathrm{sym}}$ (`p_sym`) here."
   ]
  },
  {
   "cell_type": "code",
   "execution_count": 43,
   "id": "922f1019-9e7f-48c4-8b11-2ae6949cbb91",
   "metadata": {},
   "outputs": [],
   "source": [
    "p_sym = partial(symamp_perf, 10.0, 10.0, 10.0, 10.0)"
   ]
  },
  {
   "cell_type": "markdown",
   "id": "dfbe718e-f7f2-4448-a67e-4459b5b1cdea",
   "metadata": {},
   "source": [
    "The optimization target / cost function `c_sym` is defined in terms of the desired target gain."
   ]
  },
  {
   "cell_type": "code",
   "execution_count": 87,
   "id": "27c9b16b-0171-4e7d-b25e-cc6522dc86e3",
   "metadata": {},
   "outputs": [],
   "source": [
    "A0dB_target = 48\n",
    "c_sym = lambda f: np.abs(p_sym(*f)[0] - A0dB_target)"
   ]
  },
  {
   "cell_type": "code",
   "execution_count": 88,
   "id": "60a3522b-d60b-41df-84d0-64e478c96b81",
   "metadata": {},
   "outputs": [],
   "source": [
    "res = gp_minimize( c_sym, [(1e6,1e11), (1e6,1e11), (1e6,1e11), (1e6,1e11)]\n",
    "                 , n_calls=20\n",
    "                 , n_random_starts=7\n",
    "                 , noise=0.0\n",
    "                 #, acq_func=\"EI\"\n",
    "                 , )"
   ]
  },
  {
   "cell_type": "code",
   "execution_count": 89,
   "id": "68b09bcf-cc59-4672-8cdb-c175439240ce",
   "metadata": {},
   "outputs": [
    {
     "data": {
      "text/plain": [
       "1.597168506721438"
      ]
     },
     "execution_count": 89,
     "metadata": {},
     "output_type": "execute_result"
    }
   ],
   "source": []
  },
  {
   "cell_type": "code",
   "execution_count": 90,
   "id": "ddb9c19d-9b56-45cf-bc52-e7cedc5cab4d",
   "metadata": {},
   "outputs": [
    {
     "data": {
      "text/plain": [
       "<matplotlib.axes._subplots.AxesSubplot at 0x7fb1c6ec7f70>"
      ]
     },
     "execution_count": 90,
     "metadata": {},
     "output_type": "execute_result"
    },
    {
     "data": {
      "image/png": "[encoded data removed]",
      "text/plain": [
       "<Figure size 432x288 with 1 Axes>"
      ]
     },
     "metadata": {
      "needs_background": "light"
     },
     "output_type": "display_data"
    }
   ],
   "source": [
    "plot_convergence(res)"
   ]
  },
  {
   "cell_type": "code",
   "execution_count": null,
   "id": "ccd0473e-2caf-4472-bb4a-66ad186e11cf",
   "metadata": {},
   "outputs": [],
   "source": [
    "for device, parameters in device_characteristics.items():\n",
    "    symamp.element(device).width  = parameters[\"W\"].values[0]\n",
    "    symamp.element(device).length = parameters[\"L\"].values[0]"
   ]
  },
  {
   "cell_type": "code",
   "execution_count": null,
   "id": "14c35a19-189f-46c4-a187-5ff3e8d585be",
   "metadata": {},
   "outputs": [],
   "source": [
    "logging.disable(logging.FATAL)\n",
    "simulator = netlist.simulator( simulator=\"ngspice-subprocess\"\n",
    "                             , temperature=27\n",
    "                             , nominal_temperature=27\n",
    "                             , )\n",
    "\n",
    "analysis  = simulator.ac( start_frequency  = 1.0@u_Hz\n",
    "                        , stop_frequency   = 1e11@u_Hz\n",
    "                        , number_of_points = 10\n",
    "                        , variation        = \"dec\"\n",
    "                        , )\n",
    "logging.disable(logging.NOTSET)"
   ]
  },
  {
   "cell_type": "code",
   "execution_count": null,
   "id": "619aa94e-47e8-4cf0-9191-bdf953d0cbcd",
   "metadata": {
    "tags": []
   },
   "outputs": [],
   "source": [
    "print(simulator)"
   ]
  },
  {
   "cell_type": "code",
   "execution_count": null,
   "id": "7c82e75c-22aa-4296-9804-f7b631b4cfe2",
   "metadata": {},
   "outputs": [],
   "source": [
    "simulator = netlist.simulator( simulator=\"ngspice-subprocess\"\n",
    "                             , temperature=27\n",
    "                             , nominal_temperature=27\n",
    "                             , )\n",
    "\n",
    "logging.disable(logging.FATAL)\n",
    "analysis  = simulator.ac( start_frequency  = 1.0@u_Hz\n",
    "                        , stop_frequency   = 1e11@u_Hz\n",
    "                        , number_of_points = 10\n",
    "                        , variation        = \"dec\"\n",
    "                        , )\n",
    "\n",
    "freq  = np.array(analysis.frequency)\n",
    "gain  = (20 * np.log10(np.absolute(analysis[\"O\"]))) - (20 * np.log10(np.absolute(analysis[\"N\"])))\n",
    "phase = np.angle(analysis[\"O\"], deg=True) - np.angle(analysis[\"N\"], deg=True)\n",
    "logging.disable(logging.NOTSET)"
   ]
  },
  {
   "cell_type": "code",
   "execution_count": null,
   "id": "6c3ca5aa-3b4e-4956-8294-a2ebf9a2ec4d",
   "metadata": {},
   "outputs": [],
   "source": [
    "fig = plt.figure()\n",
    "plt.plot(freq, gain) # (20 * np.log10(np.absolute(analysis[\"O\"]))))\n",
    "plt.xscale(\"log\")"
   ]
  },
  {
   "cell_type": "code",
   "execution_count": null,
   "id": "060b41d4-9306-42a1-8207-6b3561f95828",
   "metadata": {},
   "outputs": [],
   "source": [
    "print(simulator)"
   ]
  },
  {
   "cell_type": "code",
   "execution_count": null,
   "id": "4922956f-e304-4945-b87f-90558565f4ff",
   "metadata": {},
   "outputs": [],
   "source": [
    "gf = [gain[np.argsort(gain)], freq[np.argsort(gain)]]\n",
    "pf = [phase[np.argsort(phase)], freq[np.argsort(phase)]]\n",
    "\n",
    "A0dB = pchip_interpolate(freq, gain, [1.0])\n",
    "A3dB = A0dB - 3.0\n",
    "f3dB = pchip_interpolate(*gf, [A3dB])\n",
    "\n",
    "fug = pchip_interpolate(*gf, [0.0]) if A0dB > 0 else np.ones(1)\n",
    "fp0 = pchip_interpolate(*pf, [0.0])\n",
    "\n",
    "PM = pchip_interpolate(freq, phase, [fug]) if A0dB > 0 else np.zeros(1)\n",
    "GM = pchip_interpolate(freq, gain, [fp0])\n",
    "\n",
    "performance = { \"A0dB\" : A0dB.item() \n",
    "              , \"f3dB\" : f3dB.item()\n",
    "              , \"fug\"  : fug.item()\n",
    "              , \"PM\"   : PM.item()\n",
    "              , \"GM\"   : GM.item()\n",
    "              , }\n"
   ]
  },
  {
   "cell_type": "code",
   "execution_count": null,
   "id": "bcf722b1-aed7-4570-8ef3-e2944dd48520",
   "metadata": {},
   "outputs": [],
   "source": [
    "performance"
   ]
  },
  {
   "cell_type": "code",
   "execution_count": null,
   "id": "9a9a04ce-16aa-485d-8322-8afcbe714436",
   "metadata": {},
   "outputs": [],
   "source": []
  }
 ],
 "metadata": {
  "kernelspec": {
   "display_name": "Python 3",
   "language": "python",
   "name": "python3"
  },
  "language_info": {
   "codemirror_mode": {
    "name": "ipython",
    "version": 3
   },
   "file_extension": ".py",
   "mimetype": "text/x-python",
   "name": "python",
   "nbconvert_exporter": "python",
   "pygments_lexer": "ipython3",
   "version": "3.9.5"
  }
 },
 "nbformat": 4,
 "nbformat_minor": 5
}
