{
 "cells": [
  {
   "cell_type": "markdown",
   "id": "a06bad0a-7f68-47a0-b48a-c0497c9c5670",
   "metadata": {},
   "source": [
    "# Symmetrical Amplifier\n",
    "\n",
    "In this notebook the circuit shown in the following schematic will be sized to acheive a certain gain.\n",
    "The resulting procedure takes a target gain as input and can be run for any technology, for which trained models are available.\n",
    "\n",
    "![Symmetrical Operatrional Amplifier](./fig/sym.png)\n",
    "\n"
   ]
  },
  {
   "cell_type": "code",
   "execution_count": 1,
   "id": "316fe87e-4823-47f4-8949-a2c04a2e2a45",
   "metadata": {},
   "outputs": [],
   "source": [
    "%matplotlib inline"
   ]
  },
  {
   "cell_type": "code",
   "execution_count": 44,
   "id": "9dac2ab9-d763-4cea-8478-cbff799da0f7",
   "metadata": {},
   "outputs": [],
   "source": [
    "import os\n",
    "import torch\n",
    "import numpy as np\n",
    "import torch as pt\n",
    "import pandas as pd\n",
    "import joblib as jl\n",
    "from functools import partial\n",
    "from scipy.interpolate import pchip_interpolate, interp1d\n",
    "from matplotlib import pyplot as plt\n",
    "from sklearn.preprocessing import MinMaxScaler, minmax_scale\n",
    "\n",
    "from skopt import Optimizer, gp_minimize\n",
    "from skopt.space import Real\n",
    "from skopt.plots import plot_convergence, plot_gaussian_process"
   ]
  },
  {
   "cell_type": "markdown",
   "id": "f96cf23d-17c4-4bb5-ba82-c93b341235ba",
   "metadata": {},
   "source": [
    "## Specification\n",
    "\n",
    "The overall performance of the circuit is approximated during sizing by\n",
    "\n",
    "$$A_{0} \\approx M \\cdot \\frac{g_{\\mathrm{m}, \\mathtt{d}}}{g_{\\mathrm{ds},\\mathtt{cm22}} + g_{\\mathrm{ds},\\mathtt{cm32}}}$$\n",
    "\n",
    "and \n",
    "\n",
    "$$ f_{0} \\approx \\frac{g_{\\mathrm{ds},\\mathtt{cm22}} + g_{\\mathrm{ds},\\mathtt{cm32}}}{2 \\cdot \\pi \\cdot C_{L}} $$\n",
    "\n",
    "At the end these performances are verified by simulation.\n",
    "\n",
    "| Parameter             | Specification |\n",
    "|-----------------------|--------------:|\n",
    "| $V_{\\mathrm{DD}}$     |      $1.2\\,V$ |\n",
    "| $V_{\\mathrm{in,cm}}$  |      $0.6\\,V$ |\n",
    "| $V_{\\mathrm{out,cm}}$ |      $0.6\\,V$ |\n",
    "| $I_{\\mathtt{B0}}$     |   $10\\,\\mu A$ |\n",
    "| $C_{\\mathrm{L}}$      |     $10\\,p F$ |"
   ]
  },
  {
   "cell_type": "code",
   "execution_count": 3,
   "id": "186639f6-d69b-4250-b9e4-4025b9105107",
   "metadata": {},
   "outputs": [],
   "source": [
    "V_DD  = 1.2\n",
    "V_SS  = 0.0\n",
    "V_ICM = 0.6\n",
    "V_OCM = 0.6\n",
    "I_B0  = 10e-6\n",
    "C_L   = 10e-12"
   ]
  },
  {
   "cell_type": "markdown",
   "id": "4d9e8f21-9d87-44a4-a501-227bdbbfea81",
   "metadata": {},
   "source": [
    "## Simulator Setup\n",
    "\n",
    "[PySpice]() is used for verifying the design by simulation within this notebook."
   ]
  },
  {
   "cell_type": "code",
   "execution_count": 4,
   "id": "0896140e-c557-461c-bec2-0f0e2a698e6a",
   "metadata": {},
   "outputs": [],
   "source": [
    "import logging\n",
    "from PySpice.Spice.Netlist import Circuit, SubCircuitFactory\n",
    "from PySpice.Spice.Library import SpiceLibrary\n",
    "from PySpice.Unit import *"
   ]
  },
  {
   "cell_type": "markdown",
   "id": "399622ed-9ae1-4849-a11c-7a57730bdbae",
   "metadata": {},
   "source": [
    "The Symmetrical amplifier is setup as a subcircuit to be included into a testbench."
   ]
  },
  {
   "cell_type": "code",
   "execution_count": 5,
   "id": "5392f8d4-a5a3-4157-b4a4-94f051eba7ed",
   "metadata": {},
   "outputs": [],
   "source": [
    "class SymAmp(SubCircuitFactory):\n",
    "    NAME = \"symamp\"\n",
    "    NODES = (10, 11, 12, 13, 14, 15)\n",
    "    \n",
    "    def __init__(self):\n",
    "        super().__init__()\n",
    "        # Biasing Current Mirror\n",
    "        self.MOSFET(\"NCM11\" , 10, 10, 14, 14, model = \"nmos\")\n",
    "        self.MOSFET(\"NCM12\" , 16, 10, 14, 14, model = \"nmos\")\n",
    "        # Differential Pair\n",
    "        self.MOSFET(\"ND11\"  , 17, 12, 16, 14, model = \"nmos\")\n",
    "        self.MOSFET(\"ND12\"  , 18, 11, 16, 14, model = \"nmos\")\n",
    "        # PMOS Current Mirrors\n",
    "        self.MOSFET(\"PCM221\", 17, 17, 15, 15, model = \"pmos\")\n",
    "        self.MOSFET(\"PCM222\", 19, 17, 15, 15, model = \"pmos\")\n",
    "        self.MOSFET(\"PCM211\", 18, 18, 15, 15, model = \"pmos\")\n",
    "        self.MOSFET(\"PCM212\", 13, 18, 15, 15, model = \"pmos\")\n",
    "        # NMOS Current Mirror\n",
    "        self.MOSFET(\"NCM31\" , 19, 19, 14, 14, model = \"nmos\")\n",
    "        self.MOSFET(\"NCM32\" , 13, 19, 14, 14, model = \"nmos\")"
   ]
  },
  {
   "cell_type": "markdown",
   "id": "8238bd3e-af1d-49e5-8233-c8f7e9e23cc5",
   "metadata": {},
   "source": [
    "The subckt as well as the MOS library have to be specified in the netlist. This is where changes need to be made if another technology is to be sized."
   ]
  },
  {
   "cell_type": "code",
   "execution_count": 6,
   "id": "1a151158-fce1-49f8-8e2a-c5c123625b31",
   "metadata": {},
   "outputs": [],
   "source": [
    "spice_library = SpiceLibrary(\"../lib/90nm_bulk.lib\")\n",
    "netlist = Circuit(\"symamp_tb\")\n",
    "netlist.include(spice_library[\"nmos\"])\n",
    "netlist.subcircuit(SymAmp())"
   ]
  },
  {
   "cell_type": "markdown",
   "id": "d913870f-9ff6-4df3-89ca-242444296cfc",
   "metadata": {},
   "source": [
    "The Open Loop Gain is obtained through the following Testbench."
   ]
  },
  {
   "cell_type": "code",
   "execution_count": 7,
   "id": "43ad256e-46c4-4d1c-b783-bf0b9c92ed2f",
   "metadata": {},
   "outputs": [],
   "source": [
    "netlist.X(\"sym\", \"symamp\", \"B\", \"P\", \"N\", \"O\", 0, \"D\")\n",
    "symamp = list(netlist.subcircuits)[0]\n",
    "i_ref  = netlist.CurrentSource(\"ref\",  0 , \"B\", I_B0@u_A)\n",
    "v_dd   = netlist.VoltageSource(\"dd\" , \"D\",  0 , V_DD@u_V)\n",
    "v_ip   = netlist.VoltageSource(\"ip\" , \"P\",  0 , V_ICM@u_V)\n",
    "v_in   = netlist.SinusoidalVoltageSource( \"in\", \"N\", \"E\"\n",
    "                                        , dc_offset=0.0@u_V\n",
    "                                        , ac_magnitude=-1.0@u_V\n",
    "                                        , )\n",
    "e_buf  = netlist.VoltageControlledVoltageSource(\"in\", \"E\", 0, \"O\", 0, 1.0@u_V)\n",
    "c_l    = netlist.C(\"L\", \"O\", 0, C_L@u_F)"
   ]
  },
  {
   "cell_type": "markdown",
   "id": "70d70690-a352-4f48-8a53-ecc76709c57a",
   "metadata": {},
   "source": [
    "The simulation function takes a `dict` with a key for each device in the circuit and at least columns `W` and `L` for sizing. It returns the performances obtained through an AC Analysis."
   ]
  },
  {
   "cell_type": "code",
   "execution_count": 8,
   "id": "b7de140a-1fa4-4f66-a43b-4148026b6ebc",
   "metadata": {},
   "outputs": [],
   "source": [
    "def simulate(device_paramters):\n",
    "    for device, parameters in device_paramters.items():\n",
    "        symamp.element(device).width  = parameters[\"W\"].values[0]\n",
    "        symamp.element(device).length = parameters[\"L\"].values[0]\n",
    "        \n",
    "    simulator = netlist.simulator( simulator=\"ngspice-subprocess\"\n",
    "                                 , temperature=27\n",
    "                                 , nominal_temperature=27\n",
    "                                 , )\n",
    "\n",
    "    logging.disable(logging.FATAL)\n",
    "    analysis  = simulator.ac( start_frequency  = 1.0@u_Hz\n",
    "                            , stop_frequency   = 1e11@u_Hz\n",
    "                            , number_of_points = 10\n",
    "                            , variation        = \"dec\"\n",
    "                            , )\n",
    "    \n",
    "    freq  = np.array(analysis.frequency)\n",
    "    gain  = (20 * np.log10(np.absolute(analysis[\"O\"]))) - (20 * np.log10(np.absolute(analysis[\"N\"])))\n",
    "    phase = np.angle(analysis[\"O\"], deg=True) - np.angle(analysis[\"N\"], deg=True)\n",
    "    logging.disable(logging.NOTSET)\n",
    "    \n",
    "    gf = [gain[np.argsort(gain)], freq[np.argsort(gain)]]\n",
    "    pf = [phase[np.argsort(phase)], freq[np.argsort(phase)]]\n",
    "    \n",
    "    A0dB = pchip_interpolate(freq, gain, [1.0])\n",
    "    A3dB = A0dB - 3.0\n",
    "    f3dB = pchip_interpolate(*gf, [A3dB])\n",
    "    \n",
    "    fug = pchip_interpolate(*gf, [0.0]) if A0dB > 0 else np.ones(1)\n",
    "    fp0 = pchip_interpolate(*pf, [0.0])\n",
    "    \n",
    "    PM = pchip_interpolate(freq, phase, [fug]) if A0dB > 0 else np.zeros(1)\n",
    "    GM = pchip_interpolate(freq, gain, [fp0])\n",
    "    \n",
    "    performances = { \"A0dB\" : A0dB.item() \n",
    "                   , \"f3dB\" : f3dB.item()\n",
    "                   , \"fug\"  : fug.item()\n",
    "                   , \"PM\"   : PM.item()\n",
    "                   , \"GM\"   : GM.item()\n",
    "                   , }\n",
    "    \n",
    "    return performances"
   ]
  },
  {
   "cell_type": "markdown",
   "id": "92f2bf6b-ffa1-4ce6-96a7-54281b661b60",
   "metadata": {},
   "source": [
    "## Device Model Setup\n",
    "\n",
    "The `PrimitiveDevice` class acts as interface to the machine learning models. With this, multiple models of different types and technologies can be instantiatede and compared."
   ]
  },
  {
   "cell_type": "code",
   "execution_count": 21,
   "id": "9e6c9dc6-e6ba-4b37-9417-75fef7fd59a0",
   "metadata": {},
   "outputs": [],
   "source": [
    "class PrimitiveDevice():\n",
    "    def __init__(self, prefix, params_x, params_y):\n",
    "        self.prefix   = prefix\n",
    "        self.params_x = params_x\n",
    "        self.params_y = params_y\n",
    "        \n",
    "        self.model = pt.jit.load(f\"{self.prefix}/model.pt\")\n",
    "        self.model.cpu()\n",
    "        self.model.eval()\n",
    "        \n",
    "        self.scale_x = jl.load(f\"{self.prefix}/scale.X\")\n",
    "        self.scale_y = jl.load(f\"{self.prefix}/scale.Y\")\n",
    "        \n",
    "    def predict(self, X):\n",
    "        with pt.no_grad():\n",
    "            X.fug = np.log10(X.fug.values)\n",
    "            X_ = self.scale_x.transform(X[params_x].values)\n",
    "            Y_ = self.model(pt.from_numpy(np.float32(X_))).numpy()\n",
    "            Y  = pd.DataFrame( self.scale_y.inverse_transform(Y_)\n",
    "                             , columns=params_y )\n",
    "            Y.jd   = np.power(10, Y.jd.values)\n",
    "            Y.gdsw = np.power(10, Y.gdsw.values)\n",
    "        return pd.DataFrame(Y, columns=self.params_y)"
   ]
  },
  {
   "cell_type": "markdown",
   "id": "41756976-b1f5-424c-903a-616333c9ae14",
   "metadata": {},
   "source": [
    "The circuit is not divided into single devices, but rather in _building blocks_ as indicated by the dashed boxes in the schematic."
   ]
  },
  {
   "cell_type": "code",
   "execution_count": 22,
   "id": "5cf3e9e8-4301-4deb-9f85-696ae442a9af",
   "metadata": {},
   "outputs": [],
   "source": [
    "devices           = [ \"MNCM11\", \"MNCM12\", \"MND11\", \"MND12\", \"MNCM31\", \"MNCM32\"\n",
    "                    , \"MPCM221\" , \"MPCM222\", \"MPCM211\", \"MPCM212\" ]\n",
    "reference_devices = [ \"MNCM12\", \"MND12\", \"MPCM212\", \"MNCM32\" ]"
   ]
  },
  {
   "cell_type": "markdown",
   "id": "9585d9fc-73b5-4b7f-9247-5dc93d63f4fb",
   "metadata": {},
   "source": [
    "The inputs and outputs of the model, trained in `model_training.ipynb` have to specified again."
   ]
  },
  {
   "cell_type": "code",
   "execution_count": 23,
   "id": "629fdaf5-e76e-4642-b42f-f224d97a9a36",
   "metadata": {},
   "outputs": [],
   "source": [
    "params_x = [\"gmid\", \"fug\", \"Vds\", \"Vbs\"]\n",
    "params_y = [\"jd\", \"L\", \"gdsw\", \"Vgs\"]"
   ]
  },
  {
   "cell_type": "markdown",
   "id": "50e0c639-cca4-41da-856e-f241c0065bf1",
   "metadata": {},
   "source": [
    "Initially the symmetrical amplifier is sized with the models for the $90\\,\\mathrm{nm}$ technology. \n",
    "Later this can be changed to any other technology model, yielding similar results."
   ]
  },
  {
   "cell_type": "code",
   "execution_count": 24,
   "id": "da16a273-21ee-4077-b25d-ed28f4fb0481",
   "metadata": {},
   "outputs": [],
   "source": [
    "nmos = PrimitiveDevice(\"../models/example/90nm-nmos\", params_x, params_y)\n",
    "pmos = PrimitiveDevice(\"../models/example/90nm-pmos\", params_x, params_y)"
   ]
  },
  {
   "cell_type": "markdown",
   "id": "2a4336ff-b322-40b3-bda1-afa74b207a46",
   "metadata": {},
   "source": [
    "## Design Procedure\n",
    "\n",
    "![Symmetrical Amplifier](./fig/sym.png)\n",
    "\n",
    "For simplicity in this example, only the $\\frac{g_{\\mathrm{m}}}{I_{\\mathrm{d}}}$ dependend models\n",
    "are considered. Therefore, sizing for all devices is expressed in terms of \n",
    "$\\frac{g_{\\mathrm{m}}}{I_{\\mathrm{d}}}$ and $f_{\\mathrm{ug}}$.\n",
    "\n",
    "$$\\gamma_{\\mathrm{n,p}} \\left ( \\left [ \\frac{g_{\\mathrm{m}}}{I_{\\mathrm{d}}}, f_{\\mathrm{ug}}, V_{\\mathrm{ds}}, V_{\\mathrm{bs}} \\right ]^{\\dagger} \\right ) \n",
    "\\Rightarrow \\left [ L, \\frac{I_{\\mathrm{d}}}{W}, \\frac{g_{\\mathrm{ds}}}{W}, V_{\\mathrm{gs}} \\right ]^{\\dagger}\n",
    "$$\n",
    "\n",
    "First, the specification, given in the table above is considered,\n",
    "from which a biasing current ${I_{\\mathtt{B1}} = \\frac{I_{\\mathrm{B0}}}{2}}$ is defined.\n",
    "This, in turn results in a mirror ratio $M_{\\mathrm{n}} = 2 : 1$ of the NMOS current mirror `NCM1`.\n",
    "Additionally, the ratio $M_{\\mathrm{p}} = 1 : 4$ of the PMOS current mirrors `MPCM2` is specified. \n",
    "Usually, this is chosen to balance power consumption and phase margin. Since this\n",
    "has to be analyzed separately by simulation, starting values ${M_{\\mathtt{cm21}} = 1}$ \n",
    "and ${M_{\\mathtt{cm22}} = 4}$ are selected. Furthermore, the remaining branch current\n",
    "$I_{\\mathtt{B2}} = M_{\\mathrm{p}} \\cdot \\frac{I_{\\mathtt{B2}}}{2}$ is determined."
   ]
  },
  {
   "cell_type": "code",
   "execution_count": 25,
   "id": "36352be3-b6fe-48e8-aa6e-0fa59b2f0406",
   "metadata": {},
   "outputs": [],
   "source": [
    "M_P  = 4\n",
    "M_N  = 2\n",
    "I_B1 = I_B0 / M_N\n",
    "I_B2 = (I_B1 / 2) * M_P"
   ]
  },
  {
   "cell_type": "markdown",
   "id": "097829f3-c84c-4475-ac4a-b72bf86eea74",
   "metadata": {},
   "source": [
    "Since the common mode output voltage $V_{\\mathrm{out,cm}} = 0.6$ is known, the sizing procedure starts with `MPCM212`:\n",
    "\n",
    "$$ \\gamma_{\\mathrm{p}, \\mathtt{MPCM2}} \\left ( \\left [ \\left ( \\frac{g_{\\mathrm{m}}}{I_{\\mathrm{d}}} \\right )_{\\mathtt{MPCM2}}\n",
    "                                                     , f_{\\mathrm{ug}, \\mathtt{MPCM2}}, (V_{\\mathrm{DD}} - V_{\\mathrm{out,cm}}), 0.0 \\right ]^{\\dagger} \n",
    "                       \\right ) $$\n",
    "\n",
    "The gate voltage $V_{\\mathrm{gs}, \\mathtt{MPCM}}$ helps guiding the sizing for the differential pair later.\n",
    "Next, `MNCM32` is considered with:\n",
    "\n",
    "$$ \\gamma_{\\mathrm{n}, \\mathtt{MNCM3}} \\left ( \\left [ \\left ( \\frac{g_{\\mathrm{m}}}{I_{\\mathrm{d}}} \\right )_{\\mathtt{MNCM3}}\n",
    "                                                      , f_{\\mathrm{ug}, \\mathtt{MNCM3}}, V_{\\mathrm{out,cm}}, 0.0 \\right ]^{\\dagger} \n",
    "                       \\right ) $$\n",
    "\n",
    "Sizing the differential pair requires, _guessing_ $V_{\\mathrm{x}} = 0.25\\,\\mathrm{V}$ which is done by considering \n",
    "the fact that 3 devices are stacked and it merely serves as biasing. Therefore:\n",
    "\n",
    "$$ \\gamma_{\\mathrm{n}, \\mathtt{MND1}} \\left ( \\left [ \\left ( \\frac{g_{\\mathrm{m}}}{I_{\\mathrm{d}}} \\right )_{\\mathtt{MND1}}\n",
    "                                                      , f_{\\mathrm{ug}, \\mathtt{MND1}}\n",
    "                                                      , (V_{\\mathrm{DD}} -  V_{\\mathrm{gs}, \\mathtt{MPCM}} - V_{\\mathrm{x}})\n",
    "                                                      , - V_{\\mathrm{x}} \\right ]^{\\dagger} \n",
    "                       \\right ) $$\n",
    "\n",
    "Subsequently, the biasing current mirror `MNCM3` is sized:\n",
    "\n",
    "$$ \\gamma_{\\mathrm{n}, \\mathtt{MNCM3}} \\left ( \\left [ \\left ( \\frac{g_{\\mathrm{m}}}{I_{\\mathrm{d}}} \\right )_{\\mathtt{MNCM3}}\n",
    "                                                      , f_{\\mathrm{ug}, \\mathtt{MNCM3}}\n",
    "                                                      , V_{\\mathrm{x}}\n",
    "                                                      , 0.0 \\right ]^{\\dagger} \n",
    "                       \\right ) $$\n",
    "\n"
   ]
  },
  {
   "cell_type": "markdown",
   "id": "ebff6a03-8436-49ba-b9fe-5f80e12e7464",
   "metadata": {},
   "source": [
    "With these four function calls, the sizing of the entire circuit is expressed in terms of eight electrical characteristics.\n",
    "The following function `symamp_sizing` takes a `dict` with keys for each _reference device_ $\\in$ `reference_devices = [ \"MNCM12\", \"MND12\", \"MPCM212\", \"MNCM32\" ]` and corresponding, desired characteristics. The obtained sizing for each device is propageted to related devices in the same building block and a new `dict` with sizing information is returned."
   ]
  },
  {
   "cell_type": "code",
   "execution_count": 26,
   "id": "aaa34c8a-9e8b-40f2-8ec2-5299ffed7791",
   "metadata": {},
   "outputs": [],
   "source": [
    "def symamp_sizing( gmid_ncm12, gmid_ndp12, gmid_pcm212, gmid_ncm32 \n",
    "                 , fug_ncm12, fug_ndp12, fug_pcm212, fug_ncm32 ):\n",
    "    \n",
    "    ec                 = {}\n",
    "    \n",
    "    ## PMOS Current Mirror MPCM2:\n",
    "    input_pcm212       = pd.DataFrame( np.array([[gmid_pcm212, fug_pcm212, (V_DD - V_OCM), 0.0]])\n",
    "                                     , columns=params_x )\n",
    "    ec[\"MPCM212\"]      = pmos.predict(input_pcm212).join(input_pcm212)\n",
    "    # Determine width based on known branch current\n",
    "    ec[\"MPCM212\"][\"W\"] = I_B2 / ec[\"MPCM212\"].jd     \n",
    "    # Copy to related device, don't overwrite\n",
    "    ec[\"MPCM221\"]      = ec[\"MPCM212\"].copy()     \n",
    "    # MPCM211's width has to be reduced by M_P \n",
    "    ec[\"MPCM221\"].W    = ec[\"MPCM221\"].W / M_P    \n",
    "    # Size MPCM222 and MPCM211 accordingly\n",
    "    ec[\"MPCM222\"]      = ec[\"MPCM212\"]\n",
    "    ec[\"MPCM211\"]      = ec[\"MPCM221\"]\n",
    "    \n",
    "    ## NMOS Current Mirror NCM3:\n",
    "    input_ncm32        = pd.DataFrame( np.array([[gmid_ncm32, fug_ncm32, V_OCM, 0.0]])\n",
    "                                     , columns=params_x )\n",
    "    ec[\"MNCM32\"]       = nmos.predict(input_ncm32).join(input_ncm32)\n",
    "    ec[\"MNCM32\"][\"W\"]  = I_B2 / ec[\"MNCM32\"].jd\n",
    "    ec[\"MNCM31\"]       = ec[\"MNCM32\"].copy()\n",
    "    \n",
    "    ## NMOS Differential Pair NDP1:\n",
    "    V_X                = 0.23\n",
    "    V_GS               = ec[\"MNCM32\"].Vgs.values[0]\n",
    "    input_nd12         = pd.DataFrame( np.array([[gmid_ndp12, fug_ndp12, (V_DD - V_GS - V_X), -V_X]])\n",
    "                                     , columns=params_x )\n",
    "    ec[\"MND12\"]        = nmos.predict(input_nd12).join(input_nd12)\n",
    "    ec[\"MND12\"][\"W\"]   = (I_B1 / 2) / ec[\"MND12\"].jd\n",
    "    ec[\"MND11\"]        = ec[\"MND12\"].copy()\n",
    "    \n",
    "    ## NMOS Current Mirror NCM1\n",
    "    input_ncm12        = pd.DataFrame( np.array([[gmid_ncm12, fug_ncm12, V_X, 0.0]])\n",
    "                                     , columns=params_x )\n",
    "    ec[\"MNCM12\"]       = nmos.predict(input_ncm12).join(input_ncm12)\n",
    "    ec[\"MNCM12\"][\"W\"]  = I_B1 / ec[\"MNCM12\"].jd\n",
    "    ec[\"MNCM11\"]       = ec[\"MNCM12\"].copy()\n",
    "    # MNCM11's width has to be adjusted by M_N\n",
    "    ec[\"MNCM11\"].W     = ec[\"MNCM11\"].W * M_N\n",
    "    \n",
    "    ## Calculate/Approximate Operating point Parameters\n",
    "    for dev,val in ec.items():\n",
    "        val[\"gds\"] = val.gdsw * val.W\n",
    "        val[\"id\"]  = val.jd * val.W\n",
    "        val[\"gm\"]  = val.gmid * val.id\n",
    "    \n",
    "    return ec"
   ]
  },
  {
   "cell_type": "markdown",
   "id": "d45fc5d7-df12-46df-8814-552ff4d127ad",
   "metadata": {},
   "source": [
    "To make it more useable in an optimization context, a wrapper function that takes the 8 individual characteristics for the 4 _reference devices_ and returns a performance estimate is set up here with `symamp_performance`."
   ]
  },
  {
   "cell_type": "code",
   "execution_count": 27,
   "id": "9a1f8256-691d-46f0-8f05-acc876f78ed7",
   "metadata": {},
   "outputs": [],
   "source": [
    "def symamp_performance( gmid_ncm12, gmid_ndp12, gmid_pcm212, gmid_ncm32\n",
    "                      , fug_ncm12, fug_ndp12, fug_pcm212, fug_ncm32 ):\n",
    "    dc = symamp_sizing( gmid_ncm12, gmid_ndp12, gmid_pcm212, gmid_ncm32\n",
    "                      , fug_ncm12, fug_ndp12, fug_pcm212, fug_ncm32 )\n",
    "    A0dB = 20 * np.log10(M_P * (dc[\"MND12\"].gm / (dc[\"MNCM32\"].gds + dc[\"MPCM212\"].gds)).values[0])\n",
    "    f3dB = ((dc[\"MNCM32\"].gds + dc[\"MPCM212\"].gds).values[0] / (2 * np.pi * C_L))\n",
    "    return [A0dB, f3dB]"
   ]
  },
  {
   "cell_type": "markdown",
   "id": "51b522a7-8973-44c1-ab90-802459b3665a",
   "metadata": {},
   "source": [
    "As described in the Paper, after wrapping the performnace estimate into a function of electrical characteristics, \n",
    "the $\\frac{g_{\\mathrm{m}}}{I_{\\mathrm{d}}} = 10.0\\,\\mathrm{V}^{-1}$ for all devices is **fixed**, \n",
    "which is expressed by $p_{\\mathrm{sym}}$ (`p_sym`) here."
   ]
  },
  {
   "cell_type": "code",
   "execution_count": 57,
   "id": "922f1019-9e7f-48c4-8b11-2ae6949cbb91",
   "metadata": {},
   "outputs": [],
   "source": [
    "p_sym = partial(symamp_performance, 7.0, 10.0, 10.0, 10.0)"
   ]
  },
  {
   "cell_type": "markdown",
   "id": "dfbe718e-f7f2-4448-a67e-4459b5b1cdea",
   "metadata": {},
   "source": [
    "The optimization target / cost function `c_sym` is defined in terms of the desired target gain."
   ]
  },
  {
   "cell_type": "code",
   "execution_count": 67,
   "id": "27c9b16b-0171-4e7d-b25e-cc6522dc86e3",
   "metadata": {},
   "outputs": [],
   "source": [
    "A0dB_target = 40"
   ]
  },
  {
   "cell_type": "code",
   "execution_count": 68,
   "id": "60a3522b-d60b-41df-84d0-64e478c96b81",
   "metadata": {},
   "outputs": [],
   "source": [
    "res = gp_minimize( lambda f: np.abs(p_sym(*f)[0] - A0dB_target)\n",
    "                 , [(1e6,1e11), (1e6,1e11), (1e6,1e11), (1e6,1e11)]\n",
    "                 , n_calls=50\n",
    "                 , n_random_starts=7\n",
    "                 , noise=0.0\n",
    "                 , acq_func=\"EI\" # EI, PI, LCB\n",
    "                 , )"
   ]
  },
  {
   "cell_type": "code",
   "execution_count": 61,
   "id": "ddb9c19d-9b56-45cf-bc52-e7cedc5cab4d",
   "metadata": {},
   "outputs": [
    {
     "data": {
      "text/plain": [
       "<matplotlib.axes._subplots.AxesSubplot at 0x7efdeb862490>"
      ]
     },
     "execution_count": 61,
     "metadata": {},
     "output_type": "execute_result"
    },
    {
     "data": {
      "image/png": "[encoded data removed]",
      "text/plain": [
       "<Figure size 432x288 with 1 Axes>"
      ]
     },
     "metadata": {
      "needs_background": "light"
     },
     "output_type": "display_data"
    }
   ],
   "source": [
    "plot_convergence(res)"
   ]
  },
  {
   "cell_type": "code",
   "execution_count": 60,
   "id": "6dd9f8ee-8243-48de-b290-514ec4377afc",
   "metadata": {},
   "outputs": [
    {
     "data": {
      "text/plain": [
       "          fun: 13.142711088448095\n",
       "    func_vals: array([23.83794025, 22.49792415, 23.59123411, 22.03532456, 23.00558341,\n",
       "       18.69491468, 17.68919504, 16.1469742 , 16.75638382, 20.89467792,\n",
       "       16.1469742 , 20.06132382, 16.1469742 , 16.21717918, 21.0606925 ,\n",
       "       15.26828911, 17.74656273, 18.48609808, 18.09064645, 18.45038244,\n",
       "       20.34554479, 17.73593131, 18.2427696 , 16.18490865, 16.46223472,\n",
       "       16.35780368, 16.91834134, 18.85167094, 17.72468551, 20.37034755,\n",
       "       18.11096779, 16.1469742 , 18.43001919, 18.23316897, 18.41810019,\n",
       "       18.18209154, 18.09409653, 16.25034973, 18.52174593, 13.14271109,\n",
       "       16.70109353, 16.72561475, 16.66105681, 16.16759728, 13.66022388,\n",
       "       16.68505085, 15.48864125, 16.70027357, 14.53101329, 17.97418162])\n",
       "       models: [GaussianProcessRegressor(kernel=1**2 * Matern(length_scale=[1, 1, 1, 1], nu=2.5),\n",
       "                         n_restarts_optimizer=2, noise=0.0, normalize_y=True,\n",
       "                         random_state=1055964965), GaussianProcessRegressor(kernel=1**2 * Matern(length_scale=[1, 1, 1, 1], nu=2.5),\n",
       "                         n_restarts_optimizer=2, noise=0.0, normalize_y=True,\n",
       "                         random_state=1055964965), GaussianProcessRegressor(kernel=1**2 * Matern(length_scale=[1, 1, 1, 1], nu=2.5),\n",
       "                         n_restarts_optimizer=2, noise=0.0, normalize_y=True,\n",
       "                         random_state=1055964965), GaussianProcessRegressor(kernel=1**2 * Matern(length_scale=[1, 1, 1, 1], nu=2.5),\n",
       "                         n_restarts_optimizer=2, noise=0.0, normalize_y=True,\n",
       "                         random_state=1055964965), GaussianProcessRegressor(kernel=1**2 * Matern(length_scale=[1, 1, 1, 1], nu=2.5),\n",
       "                         n_restarts_optimizer=2, noise=0.0, normalize_y=True,\n",
       "                         random_state=1055964965), GaussianProcessRegressor(kernel=1**2 * Matern(length_scale=[1, 1, 1, 1], nu=2.5),\n",
       "                         n_restarts_optimizer=2, noise=0.0, normalize_y=True,\n",
       "                         random_state=1055964965), GaussianProcessRegressor(kernel=1**2 * Matern(length_scale=[1, 1, 1, 1], nu=2.5),\n",
       "                         n_restarts_optimizer=2, noise=0.0, normalize_y=True,\n",
       "                         random_state=1055964965), GaussianProcessRegressor(kernel=1**2 * Matern(length_scale=[1, 1, 1, 1], nu=2.5),\n",
       "                         n_restarts_optimizer=2, noise=0.0, normalize_y=True,\n",
       "                         random_state=1055964965), GaussianProcessRegressor(kernel=1**2 * Matern(length_scale=[1, 1, 1, 1], nu=2.5),\n",
       "                         n_restarts_optimizer=2, noise=0.0, normalize_y=True,\n",
       "                         random_state=1055964965), GaussianProcessRegressor(kernel=1**2 * Matern(length_scale=[1, 1, 1, 1], nu=2.5),\n",
       "                         n_restarts_optimizer=2, noise=0.0, normalize_y=True,\n",
       "                         random_state=1055964965), GaussianProcessRegressor(kernel=1**2 * Matern(length_scale=[1, 1, 1, 1], nu=2.5),\n",
       "                         n_restarts_optimizer=2, noise=0.0, normalize_y=True,\n",
       "                         random_state=1055964965), GaussianProcessRegressor(kernel=1**2 * Matern(length_scale=[1, 1, 1, 1], nu=2.5),\n",
       "                         n_restarts_optimizer=2, noise=0.0, normalize_y=True,\n",
       "                         random_state=1055964965), GaussianProcessRegressor(kernel=1**2 * Matern(length_scale=[1, 1, 1, 1], nu=2.5),\n",
       "                         n_restarts_optimizer=2, noise=0.0, normalize_y=True,\n",
       "                         random_state=1055964965), GaussianProcessRegressor(kernel=1**2 * Matern(length_scale=[1, 1, 1, 1], nu=2.5),\n",
       "                         n_restarts_optimizer=2, noise=0.0, normalize_y=True,\n",
       "                         random_state=1055964965), GaussianProcessRegressor(kernel=1**2 * Matern(length_scale=[1, 1, 1, 1], nu=2.5),\n",
       "                         n_restarts_optimizer=2, noise=0.0, normalize_y=True,\n",
       "                         random_state=1055964965), GaussianProcessRegressor(kernel=1**2 * Matern(length_scale=[1, 1, 1, 1], nu=2.5),\n",
       "                         n_restarts_optimizer=2, noise=0.0, normalize_y=True,\n",
       "                         random_state=1055964965), GaussianProcessRegressor(kernel=1**2 * Matern(length_scale=[1, 1, 1, 1], nu=2.5),\n",
       "                         n_restarts_optimizer=2, noise=0.0, normalize_y=True,\n",
       "                         random_state=1055964965), GaussianProcessRegressor(kernel=1**2 * Matern(length_scale=[1, 1, 1, 1], nu=2.5),\n",
       "                         n_restarts_optimizer=2, noise=0.0, normalize_y=True,\n",
       "                         random_state=1055964965), GaussianProcessRegressor(kernel=1**2 * Matern(length_scale=[1, 1, 1, 1], nu=2.5),\n",
       "                         n_restarts_optimizer=2, noise=0.0, normalize_y=True,\n",
       "                         random_state=1055964965), GaussianProcessRegressor(kernel=1**2 * Matern(length_scale=[1, 1, 1, 1], nu=2.5),\n",
       "                         n_restarts_optimizer=2, noise=0.0, normalize_y=True,\n",
       "                         random_state=1055964965), GaussianProcessRegressor(kernel=1**2 * Matern(length_scale=[1, 1, 1, 1], nu=2.5),\n",
       "                         n_restarts_optimizer=2, noise=0.0, normalize_y=True,\n",
       "                         random_state=1055964965), GaussianProcessRegressor(kernel=1**2 * Matern(length_scale=[1, 1, 1, 1], nu=2.5),\n",
       "                         n_restarts_optimizer=2, noise=0.0, normalize_y=True,\n",
       "                         random_state=1055964965), GaussianProcessRegressor(kernel=1**2 * Matern(length_scale=[1, 1, 1, 1], nu=2.5),\n",
       "                         n_restarts_optimizer=2, noise=0.0, normalize_y=True,\n",
       "                         random_state=1055964965), GaussianProcessRegressor(kernel=1**2 * Matern(length_scale=[1, 1, 1, 1], nu=2.5),\n",
       "                         n_restarts_optimizer=2, noise=0.0, normalize_y=True,\n",
       "                         random_state=1055964965), GaussianProcessRegressor(kernel=1**2 * Matern(length_scale=[1, 1, 1, 1], nu=2.5),\n",
       "                         n_restarts_optimizer=2, noise=0.0, normalize_y=True,\n",
       "                         random_state=1055964965), GaussianProcessRegressor(kernel=1**2 * Matern(length_scale=[1, 1, 1, 1], nu=2.5),\n",
       "                         n_restarts_optimizer=2, noise=0.0, normalize_y=True,\n",
       "                         random_state=1055964965), GaussianProcessRegressor(kernel=1**2 * Matern(length_scale=[1, 1, 1, 1], nu=2.5),\n",
       "                         n_restarts_optimizer=2, noise=0.0, normalize_y=True,\n",
       "                         random_state=1055964965), GaussianProcessRegressor(kernel=1**2 * Matern(length_scale=[1, 1, 1, 1], nu=2.5),\n",
       "                         n_restarts_optimizer=2, noise=0.0, normalize_y=True,\n",
       "                         random_state=1055964965), GaussianProcessRegressor(kernel=1**2 * Matern(length_scale=[1, 1, 1, 1], nu=2.5),\n",
       "                         n_restarts_optimizer=2, noise=0.0, normalize_y=True,\n",
       "                         random_state=1055964965), GaussianProcessRegressor(kernel=1**2 * Matern(length_scale=[1, 1, 1, 1], nu=2.5),\n",
       "                         n_restarts_optimizer=2, noise=0.0, normalize_y=True,\n",
       "                         random_state=1055964965), GaussianProcessRegressor(kernel=1**2 * Matern(length_scale=[1, 1, 1, 1], nu=2.5),\n",
       "                         n_restarts_optimizer=2, noise=0.0, normalize_y=True,\n",
       "                         random_state=1055964965), GaussianProcessRegressor(kernel=1**2 * Matern(length_scale=[1, 1, 1, 1], nu=2.5),\n",
       "                         n_restarts_optimizer=2, noise=0.0, normalize_y=True,\n",
       "                         random_state=1055964965), GaussianProcessRegressor(kernel=1**2 * Matern(length_scale=[1, 1, 1, 1], nu=2.5),\n",
       "                         n_restarts_optimizer=2, noise=0.0, normalize_y=True,\n",
       "                         random_state=1055964965), GaussianProcessRegressor(kernel=1**2 * Matern(length_scale=[1, 1, 1, 1], nu=2.5),\n",
       "                         n_restarts_optimizer=2, noise=0.0, normalize_y=True,\n",
       "                         random_state=1055964965), GaussianProcessRegressor(kernel=1**2 * Matern(length_scale=[1, 1, 1, 1], nu=2.5),\n",
       "                         n_restarts_optimizer=2, noise=0.0, normalize_y=True,\n",
       "                         random_state=1055964965), GaussianProcessRegressor(kernel=1**2 * Matern(length_scale=[1, 1, 1, 1], nu=2.5),\n",
       "                         n_restarts_optimizer=2, noise=0.0, normalize_y=True,\n",
       "                         random_state=1055964965), GaussianProcessRegressor(kernel=1**2 * Matern(length_scale=[1, 1, 1, 1], nu=2.5),\n",
       "                         n_restarts_optimizer=2, noise=0.0, normalize_y=True,\n",
       "                         random_state=1055964965), GaussianProcessRegressor(kernel=1**2 * Matern(length_scale=[1, 1, 1, 1], nu=2.5),\n",
       "                         n_restarts_optimizer=2, noise=0.0, normalize_y=True,\n",
       "                         random_state=1055964965), GaussianProcessRegressor(kernel=1**2 * Matern(length_scale=[1, 1, 1, 1], nu=2.5),\n",
       "                         n_restarts_optimizer=2, noise=0.0, normalize_y=True,\n",
       "                         random_state=1055964965), GaussianProcessRegressor(kernel=1**2 * Matern(length_scale=[1, 1, 1, 1], nu=2.5),\n",
       "                         n_restarts_optimizer=2, noise=0.0, normalize_y=True,\n",
       "                         random_state=1055964965), GaussianProcessRegressor(kernel=1**2 * Matern(length_scale=[1, 1, 1, 1], nu=2.5),\n",
       "                         n_restarts_optimizer=2, noise=0.0, normalize_y=True,\n",
       "                         random_state=1055964965), GaussianProcessRegressor(kernel=1**2 * Matern(length_scale=[1, 1, 1, 1], nu=2.5),\n",
       "                         n_restarts_optimizer=2, noise=0.0, normalize_y=True,\n",
       "                         random_state=1055964965), GaussianProcessRegressor(kernel=1**2 * Matern(length_scale=[1, 1, 1, 1], nu=2.5),\n",
       "                         n_restarts_optimizer=2, noise=0.0, normalize_y=True,\n",
       "                         random_state=1055964965), GaussianProcessRegressor(kernel=1**2 * Matern(length_scale=[1, 1, 1, 1], nu=2.5),\n",
       "                         n_restarts_optimizer=2, noise=0.0, normalize_y=True,\n",
       "                         random_state=1055964965)]\n",
       " random_state: RandomState(MT19937) at 0x7EFF49181A40\n",
       "        space: Space([Real(low=1000000.0, high=100000000000.0, prior='uniform', transform='normalize'),\n",
       "       Real(low=1000000.0, high=100000000000.0, prior='uniform', transform='normalize'),\n",
       "       Real(low=1000000.0, high=100000000000.0, prior='uniform', transform='normalize'),\n",
       "       Real(low=1000000.0, high=100000000000.0, prior='uniform', transform='normalize')])\n",
       "        specs: {'args': {'func': <function <lambda> at 0x7efdecd55ca0>, 'dimensions': Space([Real(low=1000000.0, high=100000000000.0, prior='uniform', transform='normalize'),\n",
       "       Real(low=1000000.0, high=100000000000.0, prior='uniform', transform='normalize'),\n",
       "       Real(low=1000000.0, high=100000000000.0, prior='uniform', transform='normalize'),\n",
       "       Real(low=1000000.0, high=100000000000.0, prior='uniform', transform='normalize')]), 'base_estimator': GaussianProcessRegressor(kernel=1**2 * Matern(length_scale=[1, 1, 1, 1], nu=2.5),\n",
       "                         n_restarts_optimizer=2, noise=0.0, normalize_y=True,\n",
       "                         random_state=1055964965), 'n_calls': 50, 'n_random_starts': 7, 'n_initial_points': 10, 'initial_point_generator': 'random', 'acq_func': 'EI', 'acq_optimizer': 'auto', 'x0': None, 'y0': None, 'random_state': RandomState(MT19937) at 0x7EFF49181A40, 'verbose': False, 'callback': None, 'n_points': 10000, 'n_restarts_optimizer': 5, 'xi': 0.01, 'kappa': 1.96, 'n_jobs': 1, 'model_queue_size': None}, 'function': 'base_minimize'}\n",
       "            x: [88200232974.28525, 708791083.3695515, 79797354573.6552, 134983482.10756478]\n",
       "      x_iters: [[82983062324.69656, 89575044987.38669, 12792946005.335407, 96653294922.01384], [86078079016.31656, 54225380342.983635, 24645633954.232826, 65016569755.89839], [62629551884.267876, 74800667938.43816, 7427694648.355731, 45297286066.92958], [69280546737.75186, 99359159184.65166, 14130088168.955105, 20277026988.06665], [82759171582.38284, 50499978750.16199, 10074003987.331219, 32375053577.417454], [81481016974.01994, 40326783892.04298, 82546439304.87888, 19480549233.649647], [43259555603.49383, 73850982583.44244, 94574853372.29413, 12175590156.22735], [1000000.0, 100000000000.0, 100000000000.0, 1000000.0], [1000000.0, 100000000000.0, 77497422664.76093, 1000000.0], [1000000.0, 100000000000.0, 100000000000.0, 100000000000.0], [100000000000.0, 1000000.0, 100000000000.0, 1000000.0], [95672078715.68747, 12816947689.003925, 99867333651.85838, 58255927741.86706], [1000000.0, 1000000.0, 100000000000.0, 1000000.0], [26690548211.315174, 27680687617.72547, 97055788647.33583, 1000000.0], [39099989272.08979, 93737602273.74779, 1531565660.5041366, 75520754.61051014], [86645697017.74489, 176075461.0913983, 42904945437.940544, 34132507.95852726], [100000000000.0, 1000000.0, 51482574484.73855, 1000000.0], [3243362359.353519, 4054569004.393628, 38406826836.940575, 1000000.0], [71291800755.76762, 28699533145.861458, 44877004173.77662, 1000000.0], [100000000000.0, 1000000.0, 38971956011.858604, 1000000.0], [40672036729.14364, 69766888600.76984, 42413128987.17691, 25088910042.524994], [56887296486.81962, 63668837631.06735, 98637662180.50923, 13227481030.676167], [20760977306.813297, 76849571273.87282, 42267107078.05321, 1000000.0], [72158219714.85718, 1000000.0, 98395225669.51141, 1000000.0], [87042489899.11235, 1000000.0, 87512428908.33203, 1000000.0], [12553519722.923288, 1000000.0, 91440897028.3544, 1000000.0], [5018981329.942758, 100000000000.0, 72496170929.39442, 1000000.0], [4714075800.145042, 85999191693.63063, 100000000000.0, 26732474295.836815], [85550842455.87477, 20186882811.41683, 51919789093.379074, 1000000.0], [28903455418.14751, 100000000000.0, 74483649795.71957, 52827099634.981804], [72847762705.38747, 1000000.0, 44515920428.32236, 1000000.0], [86251766891.24544, 37060763566.81236, 100000000000.0, 1000000.0], [87184576035.82346, 100000000000.0, 39294162847.274574, 1000000.0], [100000000000.0, 14345607985.315498, 42426415051.702034, 1000000.0], [85555276806.49641, 1000000.0, 39475796588.31678, 1000000.0], [8734182308.155092, 64246847786.161, 43285624787.55843, 1000000.0], [87605686759.08531, 27346897552.90965, 44815691297.40839, 1000000.0], [6976233175.700998, 33391269320.458385, 95701184663.70554, 1000000.0], [100000000000.0, 8848397588.154003, 96278062712.23581, 20903964939.338303], [88200232974.28525, 708791083.3695515, 79797354573.6552, 134983482.10756478], [75874759876.70598, 51100179091.68907, 79269490016.92284, 1000000.0], [81289612232.48619, 1000000.0, 78478128582.64117, 1000000.0], [80363001175.4123, 1000000.0, 80584405581.09688, 1000000.0], [88508963484.34627, 20313871495.550476, 99124674504.10358, 1000000.0], [42338092087.33376, 37183329665.20601, 79903394448.12389, 575312378.9776696], [95500971001.1887, 18895456986.517273, 79792736307.63246, 1000000.0], [74821710977.23932, 1000000.0, 79585855262.59389, 2659095065.5745153], [94705823753.2414, 994840801.693, 79653293419.43407, 5025390663.406354], [47697317473.05759, 62195746794.63853, 79900839109.71143, 1565295620.6931164], [69146771713.32333, 2877420050.075103, 80408249163.29396, 11805761975.024796]]"
      ]
     },
     "execution_count": 60,
     "metadata": {},
     "output_type": "execute_result"
    }
   ],
   "source": [
    "res"
   ]
  },
  {
   "cell_type": "code",
   "execution_count": 66,
   "id": "318ec126-d9ea-449b-886a-2bdedc544db6",
   "metadata": {},
   "outputs": [
    {
     "data": {
      "application/vnd.jupyter.widget-view+json": {
       "model_id": "356396dac13a40bbbc4c519ac432924a",
       "version_major": 2,
       "version_minor": 0
      },
      "text/plain": [
       "Optimizing (Parallel DE):   0%|          | 0/1000 [00:00<?, ?it/s]"
      ]
     },
     "metadata": {},
     "output_type": "display_data"
    },
    {
     "ename": "PicklingError",
     "evalue": "Can't pickle <function <lambda> at 0x7eff691cf310>: attribute lookup <lambda> on __main__ failed",
     "output_type": "error",
     "traceback": [
      "\u001b[0;31m---------------------------------------------------------------------------\u001b[0m",
      "\u001b[0;31mPicklingError\u001b[0m                             Traceback (most recent call last)",
      "\u001b[0;32m<ipython-input-66-6bde2fe62904>\u001b[0m in \u001b[0;36m<module>\u001b[0;34m\u001b[0m\n\u001b[1;32m      3\u001b[0m problem = PDE( c_sym\n\u001b[1;32m      4\u001b[0m              , [(1e6,1e11), (1e6,1e11), (1e6,1e11), (1e6,1e11)])\n\u001b[0;32m----> 5\u001b[0;31m \u001b[0mx\u001b[0m\u001b[0;34m,\u001b[0m\u001b[0my\u001b[0m \u001b[0;34m=\u001b[0m \u001b[0mproblem\u001b[0m\u001b[0;34m.\u001b[0m\u001b[0msolve\u001b[0m\u001b[0;34m(\u001b[0m\u001b[0mshow_progress\u001b[0m\u001b[0;34m=\u001b[0m\u001b[0;32mTrue\u001b[0m\u001b[0;34m)\u001b[0m\u001b[0;34m\u001b[0m\u001b[0;34m\u001b[0m\u001b[0m\n\u001b[0m",
      "\u001b[0;32m~/miniconda3/envs/satan/lib/python3.9/site-packages/yabox/algorithms/de.py\u001b[0m in \u001b[0;36msolve\u001b[0;34m(self, show_progress)\u001b[0m\n\u001b[1;32m    181\u001b[0m         \u001b[0;32melse\u001b[0m\u001b[0;34m:\u001b[0m\u001b[0;34m\u001b[0m\u001b[0;34m\u001b[0m\u001b[0m\n\u001b[1;32m    182\u001b[0m             \u001b[0miterator\u001b[0m \u001b[0;34m=\u001b[0m \u001b[0mself\u001b[0m\u001b[0;34m.\u001b[0m\u001b[0mgeniterator\u001b[0m\u001b[0;34m(\u001b[0m\u001b[0;34m)\u001b[0m\u001b[0;34m\u001b[0m\u001b[0;34m\u001b[0m\u001b[0m\n\u001b[0;32m--> 183\u001b[0;31m         \u001b[0;32mfor\u001b[0m \u001b[0mstep\u001b[0m \u001b[0;32min\u001b[0m \u001b[0miterator\u001b[0m\u001b[0;34m:\u001b[0m\u001b[0;34m\u001b[0m\u001b[0;34m\u001b[0m\u001b[0m\n\u001b[0m\u001b[1;32m    184\u001b[0m             \u001b[0midx\u001b[0m \u001b[0;34m=\u001b[0m \u001b[0mstep\u001b[0m\u001b[0;34m.\u001b[0m\u001b[0mbest_idx\u001b[0m\u001b[0;34m\u001b[0m\u001b[0;34m\u001b[0m\u001b[0m\n\u001b[1;32m    185\u001b[0m             \u001b[0mP\u001b[0m \u001b[0;34m=\u001b[0m \u001b[0mstep\u001b[0m\u001b[0;34m.\u001b[0m\u001b[0mpopulation\u001b[0m\u001b[0;34m\u001b[0m\u001b[0;34m\u001b[0m\u001b[0m\n",
      "\u001b[0;32m~/miniconda3/envs/satan/lib/python3.9/site-packages/tqdm/notebook.py\u001b[0m in \u001b[0;36m__iter__\u001b[0;34m(self)\u001b[0m\n\u001b[1;32m    252\u001b[0m     \u001b[0;32mdef\u001b[0m \u001b[0m__iter__\u001b[0m\u001b[0;34m(\u001b[0m\u001b[0mself\u001b[0m\u001b[0;34m)\u001b[0m\u001b[0;34m:\u001b[0m\u001b[0;34m\u001b[0m\u001b[0;34m\u001b[0m\u001b[0m\n\u001b[1;32m    253\u001b[0m         \u001b[0;32mtry\u001b[0m\u001b[0;34m:\u001b[0m\u001b[0;34m\u001b[0m\u001b[0;34m\u001b[0m\u001b[0m\n\u001b[0;32m--> 254\u001b[0;31m             \u001b[0;32mfor\u001b[0m \u001b[0mobj\u001b[0m \u001b[0;32min\u001b[0m \u001b[0msuper\u001b[0m\u001b[0;34m(\u001b[0m\u001b[0mtqdm_notebook\u001b[0m\u001b[0;34m,\u001b[0m \u001b[0mself\u001b[0m\u001b[0;34m)\u001b[0m\u001b[0;34m.\u001b[0m\u001b[0m__iter__\u001b[0m\u001b[0;34m(\u001b[0m\u001b[0;34m)\u001b[0m\u001b[0;34m:\u001b[0m\u001b[0;34m\u001b[0m\u001b[0;34m\u001b[0m\u001b[0m\n\u001b[0m\u001b[1;32m    255\u001b[0m                 \u001b[0;31m# return super(tqdm...) will not catch exception\u001b[0m\u001b[0;34m\u001b[0m\u001b[0;34m\u001b[0m\u001b[0;34m\u001b[0m\u001b[0m\n\u001b[1;32m    256\u001b[0m                 \u001b[0;32myield\u001b[0m \u001b[0mobj\u001b[0m\u001b[0;34m\u001b[0m\u001b[0;34m\u001b[0m\u001b[0m\n",
      "\u001b[0;32m~/miniconda3/envs/satan/lib/python3.9/site-packages/tqdm/std.py\u001b[0m in \u001b[0;36m__iter__\u001b[0;34m(self)\u001b[0m\n\u001b[1;32m   1176\u001b[0m \u001b[0;34m\u001b[0m\u001b[0m\n\u001b[1;32m   1177\u001b[0m         \u001b[0;32mtry\u001b[0m\u001b[0;34m:\u001b[0m\u001b[0;34m\u001b[0m\u001b[0;34m\u001b[0m\u001b[0m\n\u001b[0;32m-> 1178\u001b[0;31m             \u001b[0;32mfor\u001b[0m \u001b[0mobj\u001b[0m \u001b[0;32min\u001b[0m \u001b[0miterable\u001b[0m\u001b[0;34m:\u001b[0m\u001b[0;34m\u001b[0m\u001b[0;34m\u001b[0m\u001b[0m\n\u001b[0m\u001b[1;32m   1179\u001b[0m                 \u001b[0;32myield\u001b[0m \u001b[0mobj\u001b[0m\u001b[0;34m\u001b[0m\u001b[0;34m\u001b[0m\u001b[0m\n\u001b[1;32m   1180\u001b[0m                 \u001b[0;31m# Update and possibly print the progressbar.\u001b[0m\u001b[0;34m\u001b[0m\u001b[0;34m\u001b[0m\u001b[0;34m\u001b[0m\u001b[0m\n",
      "\u001b[0;32m~/miniconda3/envs/satan/lib/python3.9/site-packages/yabox/algorithms/de.py\u001b[0m in \u001b[0;36mgeniterator\u001b[0;34m(self)\u001b[0m\n\u001b[1;32m    170\u001b[0m         \u001b[0mit\u001b[0m \u001b[0;34m=\u001b[0m \u001b[0mself\u001b[0m\u001b[0;34m.\u001b[0m\u001b[0miterator\u001b[0m\u001b[0;34m(\u001b[0m\u001b[0;34m)\u001b[0m\u001b[0;34m\u001b[0m\u001b[0;34m\u001b[0m\u001b[0m\n\u001b[1;32m    171\u001b[0m         \u001b[0miteration\u001b[0m \u001b[0;34m=\u001b[0m \u001b[0;36m0\u001b[0m\u001b[0;34m\u001b[0m\u001b[0;34m\u001b[0m\u001b[0m\n\u001b[0;32m--> 172\u001b[0;31m         \u001b[0;32mfor\u001b[0m \u001b[0mstep\u001b[0m \u001b[0;32min\u001b[0m \u001b[0mit\u001b[0m\u001b[0;34m:\u001b[0m\u001b[0;34m\u001b[0m\u001b[0;34m\u001b[0m\u001b[0m\n\u001b[0m\u001b[1;32m    173\u001b[0m             \u001b[0;32mif\u001b[0m \u001b[0mstep\u001b[0m\u001b[0;34m.\u001b[0m\u001b[0miteration\u001b[0m \u001b[0;34m!=\u001b[0m \u001b[0miteration\u001b[0m\u001b[0;34m:\u001b[0m\u001b[0;34m\u001b[0m\u001b[0;34m\u001b[0m\u001b[0m\n\u001b[1;32m    174\u001b[0m                 \u001b[0miteration\u001b[0m \u001b[0;34m=\u001b[0m \u001b[0mstep\u001b[0m\u001b[0;34m.\u001b[0m\u001b[0miteration\u001b[0m\u001b[0;34m\u001b[0m\u001b[0;34m\u001b[0m\u001b[0m\n",
      "\u001b[0;32m~/miniconda3/envs/satan/lib/python3.9/site-packages/yabox/algorithms/de.py\u001b[0m in \u001b[0;36miterator\u001b[0;34m(self)\u001b[0m\n\u001b[1;32m    201\u001b[0m \u001b[0;34m\u001b[0m\u001b[0m\n\u001b[1;32m    202\u001b[0m     \u001b[0;32mdef\u001b[0m \u001b[0miterator\u001b[0m\u001b[0;34m(\u001b[0m\u001b[0mself\u001b[0m\u001b[0;34m)\u001b[0m\u001b[0;34m:\u001b[0m\u001b[0;34m\u001b[0m\u001b[0;34m\u001b[0m\u001b[0m\n\u001b[0;32m--> 203\u001b[0;31m         \u001b[0mit\u001b[0m \u001b[0;34m=\u001b[0m \u001b[0mPDEIterator\u001b[0m\u001b[0;34m(\u001b[0m\u001b[0mself\u001b[0m\u001b[0;34m)\u001b[0m\u001b[0;34m\u001b[0m\u001b[0;34m\u001b[0m\u001b[0m\n\u001b[0m\u001b[1;32m    204\u001b[0m         \u001b[0;32mtry\u001b[0m\u001b[0;34m:\u001b[0m\u001b[0;34m\u001b[0m\u001b[0;34m\u001b[0m\u001b[0m\n\u001b[1;32m    205\u001b[0m             \u001b[0;32mfor\u001b[0m \u001b[0mdata\u001b[0m \u001b[0;32min\u001b[0m \u001b[0mit\u001b[0m\u001b[0;34m:\u001b[0m\u001b[0;34m\u001b[0m\u001b[0;34m\u001b[0m\u001b[0m\n",
      "\u001b[0;32m~/miniconda3/envs/satan/lib/python3.9/site-packages/yabox/algorithms/de.py\u001b[0m in \u001b[0;36m__init__\u001b[0;34m(self, de)\u001b[0m\n\u001b[1;32m     68\u001b[0m \u001b[0;32mclass\u001b[0m \u001b[0mPDEIterator\u001b[0m\u001b[0;34m(\u001b[0m\u001b[0mDEIterator\u001b[0m\u001b[0;34m)\u001b[0m\u001b[0;34m:\u001b[0m\u001b[0;34m\u001b[0m\u001b[0;34m\u001b[0m\u001b[0m\n\u001b[1;32m     69\u001b[0m     \u001b[0;32mdef\u001b[0m \u001b[0m__init__\u001b[0m\u001b[0;34m(\u001b[0m\u001b[0mself\u001b[0m\u001b[0;34m,\u001b[0m \u001b[0mde\u001b[0m\u001b[0;34m)\u001b[0m\u001b[0;34m:\u001b[0m\u001b[0;34m\u001b[0m\u001b[0;34m\u001b[0m\u001b[0m\n\u001b[0;32m---> 70\u001b[0;31m         \u001b[0msuper\u001b[0m\u001b[0;34m(\u001b[0m\u001b[0;34m)\u001b[0m\u001b[0;34m.\u001b[0m\u001b[0m__init__\u001b[0m\u001b[0;34m(\u001b[0m\u001b[0mde\u001b[0m\u001b[0;34m)\u001b[0m\u001b[0;34m\u001b[0m\u001b[0;34m\u001b[0m\u001b[0m\n\u001b[0m\u001b[1;32m     71\u001b[0m         \u001b[0mself\u001b[0m\u001b[0;34m.\u001b[0m\u001b[0mmutants\u001b[0m \u001b[0;34m=\u001b[0m \u001b[0mnp\u001b[0m\u001b[0;34m.\u001b[0m\u001b[0mzeros\u001b[0m\u001b[0;34m(\u001b[0m\u001b[0;34m(\u001b[0m\u001b[0mde\u001b[0m\u001b[0;34m.\u001b[0m\u001b[0mpopsize\u001b[0m\u001b[0;34m,\u001b[0m \u001b[0mde\u001b[0m\u001b[0;34m.\u001b[0m\u001b[0mdims\u001b[0m\u001b[0;34m)\u001b[0m\u001b[0;34m)\u001b[0m\u001b[0;34m\u001b[0m\u001b[0;34m\u001b[0m\u001b[0m\n\u001b[1;32m     72\u001b[0m \u001b[0;34m\u001b[0m\u001b[0m\n",
      "\u001b[0;32m~/miniconda3/envs/satan/lib/python3.9/site-packages/yabox/algorithms/de.py\u001b[0m in \u001b[0;36m__init__\u001b[0;34m(self, de)\u001b[0m\n\u001b[1;32m      7\u001b[0m         \u001b[0mself\u001b[0m\u001b[0;34m.\u001b[0m\u001b[0mde\u001b[0m \u001b[0;34m=\u001b[0m \u001b[0mde\u001b[0m\u001b[0;34m\u001b[0m\u001b[0;34m\u001b[0m\u001b[0m\n\u001b[1;32m      8\u001b[0m         \u001b[0mself\u001b[0m\u001b[0;34m.\u001b[0m\u001b[0mpopulation\u001b[0m \u001b[0;34m=\u001b[0m \u001b[0mde\u001b[0m\u001b[0;34m.\u001b[0m\u001b[0minit\u001b[0m\u001b[0;34m(\u001b[0m\u001b[0;34m)\u001b[0m\u001b[0;34m\u001b[0m\u001b[0;34m\u001b[0m\u001b[0m\n\u001b[0;32m----> 9\u001b[0;31m         \u001b[0mself\u001b[0m\u001b[0;34m.\u001b[0m\u001b[0mfitness\u001b[0m \u001b[0;34m=\u001b[0m \u001b[0mde\u001b[0m\u001b[0;34m.\u001b[0m\u001b[0mevaluate\u001b[0m\u001b[0;34m(\u001b[0m\u001b[0mself\u001b[0m\u001b[0;34m.\u001b[0m\u001b[0mpopulation\u001b[0m\u001b[0;34m)\u001b[0m\u001b[0;34m\u001b[0m\u001b[0;34m\u001b[0m\u001b[0m\n\u001b[0m\u001b[1;32m     10\u001b[0m         \u001b[0mself\u001b[0m\u001b[0;34m.\u001b[0m\u001b[0mbest_fitness\u001b[0m \u001b[0;34m=\u001b[0m \u001b[0mmin\u001b[0m\u001b[0;34m(\u001b[0m\u001b[0mself\u001b[0m\u001b[0;34m.\u001b[0m\u001b[0mfitness\u001b[0m\u001b[0;34m)\u001b[0m\u001b[0;34m\u001b[0m\u001b[0;34m\u001b[0m\u001b[0m\n\u001b[1;32m     11\u001b[0m         \u001b[0mself\u001b[0m\u001b[0;34m.\u001b[0m\u001b[0mbest_idx\u001b[0m \u001b[0;34m=\u001b[0m \u001b[0mnp\u001b[0m\u001b[0;34m.\u001b[0m\u001b[0margmin\u001b[0m\u001b[0;34m(\u001b[0m\u001b[0mself\u001b[0m\u001b[0;34m.\u001b[0m\u001b[0mfitness\u001b[0m\u001b[0;34m)\u001b[0m\u001b[0;34m\u001b[0m\u001b[0;34m\u001b[0m\u001b[0m\n",
      "\u001b[0;32m~/miniconda3/envs/satan/lib/python3.9/site-packages/yabox/algorithms/de.py\u001b[0m in \u001b[0;36mevaluate\u001b[0;34m(self, P)\u001b[0m\n\u001b[1;32m    159\u001b[0m         \u001b[0;32mif\u001b[0m \u001b[0mself\u001b[0m\u001b[0;34m.\u001b[0m\u001b[0mextra_params\u001b[0m \u001b[0;34m>\u001b[0m \u001b[0;36m0\u001b[0m\u001b[0;34m:\u001b[0m\u001b[0;34m\u001b[0m\u001b[0;34m\u001b[0m\u001b[0m\n\u001b[1;32m    160\u001b[0m             \u001b[0mPD\u001b[0m \u001b[0;34m=\u001b[0m \u001b[0mPD\u001b[0m\u001b[0;34m[\u001b[0m\u001b[0;34m:\u001b[0m\u001b[0;34m,\u001b[0m \u001b[0;34m:\u001b[0m\u001b[0;34m-\u001b[0m\u001b[0mself\u001b[0m\u001b[0;34m.\u001b[0m\u001b[0mextra_params\u001b[0m\u001b[0;34m]\u001b[0m\u001b[0;34m\u001b[0m\u001b[0;34m\u001b[0m\u001b[0m\n\u001b[0;32m--> 161\u001b[0;31m         \u001b[0;32mreturn\u001b[0m \u001b[0mself\u001b[0m\u001b[0;34m.\u001b[0m\u001b[0mevaluate_denormalized\u001b[0m\u001b[0;34m(\u001b[0m\u001b[0mPD\u001b[0m\u001b[0;34m)\u001b[0m\u001b[0;34m\u001b[0m\u001b[0;34m\u001b[0m\u001b[0m\n\u001b[0m\u001b[1;32m    162\u001b[0m \u001b[0;34m\u001b[0m\u001b[0m\n\u001b[1;32m    163\u001b[0m     \u001b[0;32mdef\u001b[0m \u001b[0mevaluate_denormalized\u001b[0m\u001b[0;34m(\u001b[0m\u001b[0mself\u001b[0m\u001b[0;34m,\u001b[0m \u001b[0mPD\u001b[0m\u001b[0;34m)\u001b[0m\u001b[0;34m:\u001b[0m\u001b[0;34m\u001b[0m\u001b[0;34m\u001b[0m\u001b[0m\n",
      "\u001b[0;32m~/miniconda3/envs/satan/lib/python3.9/site-packages/yabox/algorithms/de.py\u001b[0m in \u001b[0;36mevaluate_denormalized\u001b[0;34m(self, PD)\u001b[0m\n\u001b[1;32m    211\u001b[0m     \u001b[0;32mdef\u001b[0m \u001b[0mevaluate_denormalized\u001b[0m\u001b[0;34m(\u001b[0m\u001b[0mself\u001b[0m\u001b[0;34m,\u001b[0m \u001b[0mPD\u001b[0m\u001b[0;34m)\u001b[0m\u001b[0;34m:\u001b[0m\u001b[0;34m\u001b[0m\u001b[0;34m\u001b[0m\u001b[0m\n\u001b[1;32m    212\u001b[0m         \u001b[0;32mif\u001b[0m \u001b[0mself\u001b[0m\u001b[0;34m.\u001b[0m\u001b[0mpool\u001b[0m \u001b[0;32mis\u001b[0m \u001b[0;32mnot\u001b[0m \u001b[0;32mNone\u001b[0m\u001b[0;34m:\u001b[0m\u001b[0;34m\u001b[0m\u001b[0;34m\u001b[0m\u001b[0m\n\u001b[0;32m--> 213\u001b[0;31m             \u001b[0;32mreturn\u001b[0m \u001b[0mlist\u001b[0m\u001b[0;34m(\u001b[0m\u001b[0mself\u001b[0m\u001b[0;34m.\u001b[0m\u001b[0mpool\u001b[0m\u001b[0;34m.\u001b[0m\u001b[0mmap\u001b[0m\u001b[0;34m(\u001b[0m\u001b[0mself\u001b[0m\u001b[0;34m.\u001b[0m\u001b[0mfobj\u001b[0m\u001b[0;34m,\u001b[0m \u001b[0mPD\u001b[0m\u001b[0;34m,\u001b[0m \u001b[0mchunksize\u001b[0m\u001b[0;34m=\u001b[0m\u001b[0mself\u001b[0m\u001b[0;34m.\u001b[0m\u001b[0mchunksize\u001b[0m\u001b[0;34m)\u001b[0m\u001b[0;34m)\u001b[0m\u001b[0;34m\u001b[0m\u001b[0;34m\u001b[0m\u001b[0m\n\u001b[0m\u001b[1;32m    214\u001b[0m         \u001b[0;32melse\u001b[0m\u001b[0;34m:\u001b[0m\u001b[0;34m\u001b[0m\u001b[0;34m\u001b[0m\u001b[0m\n\u001b[1;32m    215\u001b[0m             \u001b[0;32mreturn\u001b[0m \u001b[0msuper\u001b[0m\u001b[0;34m(\u001b[0m\u001b[0;34m)\u001b[0m\u001b[0;34m.\u001b[0m\u001b[0mevaluate_denormalized\u001b[0m\u001b[0;34m(\u001b[0m\u001b[0mPD\u001b[0m\u001b[0;34m)\u001b[0m\u001b[0;34m\u001b[0m\u001b[0;34m\u001b[0m\u001b[0m\n",
      "\u001b[0;32m~/miniconda3/envs/satan/lib/python3.9/multiprocessing/pool.py\u001b[0m in \u001b[0;36mmap\u001b[0;34m(self, func, iterable, chunksize)\u001b[0m\n\u001b[1;32m    362\u001b[0m         \u001b[0;32min\u001b[0m \u001b[0ma\u001b[0m \u001b[0mlist\u001b[0m \u001b[0mthat\u001b[0m \u001b[0;32mis\u001b[0m \u001b[0mreturned\u001b[0m\u001b[0;34m.\u001b[0m\u001b[0;34m\u001b[0m\u001b[0;34m\u001b[0m\u001b[0m\n\u001b[1;32m    363\u001b[0m         '''\n\u001b[0;32m--> 364\u001b[0;31m         \u001b[0;32mreturn\u001b[0m \u001b[0mself\u001b[0m\u001b[0;34m.\u001b[0m\u001b[0m_map_async\u001b[0m\u001b[0;34m(\u001b[0m\u001b[0mfunc\u001b[0m\u001b[0;34m,\u001b[0m \u001b[0miterable\u001b[0m\u001b[0;34m,\u001b[0m \u001b[0mmapstar\u001b[0m\u001b[0;34m,\u001b[0m \u001b[0mchunksize\u001b[0m\u001b[0;34m)\u001b[0m\u001b[0;34m.\u001b[0m\u001b[0mget\u001b[0m\u001b[0;34m(\u001b[0m\u001b[0;34m)\u001b[0m\u001b[0;34m\u001b[0m\u001b[0;34m\u001b[0m\u001b[0m\n\u001b[0m\u001b[1;32m    365\u001b[0m \u001b[0;34m\u001b[0m\u001b[0m\n\u001b[1;32m    366\u001b[0m     \u001b[0;32mdef\u001b[0m \u001b[0mstarmap\u001b[0m\u001b[0;34m(\u001b[0m\u001b[0mself\u001b[0m\u001b[0;34m,\u001b[0m \u001b[0mfunc\u001b[0m\u001b[0;34m,\u001b[0m \u001b[0miterable\u001b[0m\u001b[0;34m,\u001b[0m \u001b[0mchunksize\u001b[0m\u001b[0;34m=\u001b[0m\u001b[0;32mNone\u001b[0m\u001b[0;34m)\u001b[0m\u001b[0;34m:\u001b[0m\u001b[0;34m\u001b[0m\u001b[0;34m\u001b[0m\u001b[0m\n",
      "\u001b[0;32m~/miniconda3/envs/satan/lib/python3.9/multiprocessing/pool.py\u001b[0m in \u001b[0;36mget\u001b[0;34m(self, timeout)\u001b[0m\n\u001b[1;32m    769\u001b[0m             \u001b[0;32mreturn\u001b[0m \u001b[0mself\u001b[0m\u001b[0;34m.\u001b[0m\u001b[0m_value\u001b[0m\u001b[0;34m\u001b[0m\u001b[0;34m\u001b[0m\u001b[0m\n\u001b[1;32m    770\u001b[0m         \u001b[0;32melse\u001b[0m\u001b[0;34m:\u001b[0m\u001b[0;34m\u001b[0m\u001b[0;34m\u001b[0m\u001b[0m\n\u001b[0;32m--> 771\u001b[0;31m             \u001b[0;32mraise\u001b[0m \u001b[0mself\u001b[0m\u001b[0;34m.\u001b[0m\u001b[0m_value\u001b[0m\u001b[0;34m\u001b[0m\u001b[0;34m\u001b[0m\u001b[0m\n\u001b[0m\u001b[1;32m    772\u001b[0m \u001b[0;34m\u001b[0m\u001b[0m\n\u001b[1;32m    773\u001b[0m     \u001b[0;32mdef\u001b[0m \u001b[0m_set\u001b[0m\u001b[0;34m(\u001b[0m\u001b[0mself\u001b[0m\u001b[0;34m,\u001b[0m \u001b[0mi\u001b[0m\u001b[0;34m,\u001b[0m \u001b[0mobj\u001b[0m\u001b[0;34m)\u001b[0m\u001b[0;34m:\u001b[0m\u001b[0;34m\u001b[0m\u001b[0;34m\u001b[0m\u001b[0m\n",
      "\u001b[0;32m~/miniconda3/envs/satan/lib/python3.9/multiprocessing/pool.py\u001b[0m in \u001b[0;36m_handle_tasks\u001b[0;34m(taskqueue, put, outqueue, pool, cache)\u001b[0m\n\u001b[1;32m    535\u001b[0m                         \u001b[0;32mbreak\u001b[0m\u001b[0;34m\u001b[0m\u001b[0;34m\u001b[0m\u001b[0m\n\u001b[1;32m    536\u001b[0m                     \u001b[0;32mtry\u001b[0m\u001b[0;34m:\u001b[0m\u001b[0;34m\u001b[0m\u001b[0;34m\u001b[0m\u001b[0m\n\u001b[0;32m--> 537\u001b[0;31m                         \u001b[0mput\u001b[0m\u001b[0;34m(\u001b[0m\u001b[0mtask\u001b[0m\u001b[0;34m)\u001b[0m\u001b[0;34m\u001b[0m\u001b[0;34m\u001b[0m\u001b[0m\n\u001b[0m\u001b[1;32m    538\u001b[0m                     \u001b[0;32mexcept\u001b[0m \u001b[0mException\u001b[0m \u001b[0;32mas\u001b[0m \u001b[0me\u001b[0m\u001b[0;34m:\u001b[0m\u001b[0;34m\u001b[0m\u001b[0;34m\u001b[0m\u001b[0m\n\u001b[1;32m    539\u001b[0m                         \u001b[0mjob\u001b[0m\u001b[0;34m,\u001b[0m \u001b[0midx\u001b[0m \u001b[0;34m=\u001b[0m \u001b[0mtask\u001b[0m\u001b[0;34m[\u001b[0m\u001b[0;34m:\u001b[0m\u001b[0;36m2\u001b[0m\u001b[0;34m]\u001b[0m\u001b[0;34m\u001b[0m\u001b[0;34m\u001b[0m\u001b[0m\n",
      "\u001b[0;32m~/miniconda3/envs/satan/lib/python3.9/multiprocessing/connection.py\u001b[0m in \u001b[0;36msend\u001b[0;34m(self, obj)\u001b[0m\n\u001b[1;32m    209\u001b[0m         \u001b[0mself\u001b[0m\u001b[0;34m.\u001b[0m\u001b[0m_check_closed\u001b[0m\u001b[0;34m(\u001b[0m\u001b[0;34m)\u001b[0m\u001b[0;34m\u001b[0m\u001b[0;34m\u001b[0m\u001b[0m\n\u001b[1;32m    210\u001b[0m         \u001b[0mself\u001b[0m\u001b[0;34m.\u001b[0m\u001b[0m_check_writable\u001b[0m\u001b[0;34m(\u001b[0m\u001b[0;34m)\u001b[0m\u001b[0;34m\u001b[0m\u001b[0;34m\u001b[0m\u001b[0m\n\u001b[0;32m--> 211\u001b[0;31m         \u001b[0mself\u001b[0m\u001b[0;34m.\u001b[0m\u001b[0m_send_bytes\u001b[0m\u001b[0;34m(\u001b[0m\u001b[0m_ForkingPickler\u001b[0m\u001b[0;34m.\u001b[0m\u001b[0mdumps\u001b[0m\u001b[0;34m(\u001b[0m\u001b[0mobj\u001b[0m\u001b[0;34m)\u001b[0m\u001b[0;34m)\u001b[0m\u001b[0;34m\u001b[0m\u001b[0;34m\u001b[0m\u001b[0m\n\u001b[0m\u001b[1;32m    212\u001b[0m \u001b[0;34m\u001b[0m\u001b[0m\n\u001b[1;32m    213\u001b[0m     \u001b[0;32mdef\u001b[0m \u001b[0mrecv_bytes\u001b[0m\u001b[0;34m(\u001b[0m\u001b[0mself\u001b[0m\u001b[0;34m,\u001b[0m \u001b[0mmaxlength\u001b[0m\u001b[0;34m=\u001b[0m\u001b[0;32mNone\u001b[0m\u001b[0;34m)\u001b[0m\u001b[0;34m:\u001b[0m\u001b[0;34m\u001b[0m\u001b[0;34m\u001b[0m\u001b[0m\n",
      "\u001b[0;32m~/miniconda3/envs/satan/lib/python3.9/multiprocessing/reduction.py\u001b[0m in \u001b[0;36mdumps\u001b[0;34m(cls, obj, protocol)\u001b[0m\n\u001b[1;32m     49\u001b[0m     \u001b[0;32mdef\u001b[0m \u001b[0mdumps\u001b[0m\u001b[0;34m(\u001b[0m\u001b[0mcls\u001b[0m\u001b[0;34m,\u001b[0m \u001b[0mobj\u001b[0m\u001b[0;34m,\u001b[0m \u001b[0mprotocol\u001b[0m\u001b[0;34m=\u001b[0m\u001b[0;32mNone\u001b[0m\u001b[0;34m)\u001b[0m\u001b[0;34m:\u001b[0m\u001b[0;34m\u001b[0m\u001b[0;34m\u001b[0m\u001b[0m\n\u001b[1;32m     50\u001b[0m         \u001b[0mbuf\u001b[0m \u001b[0;34m=\u001b[0m \u001b[0mio\u001b[0m\u001b[0;34m.\u001b[0m\u001b[0mBytesIO\u001b[0m\u001b[0;34m(\u001b[0m\u001b[0;34m)\u001b[0m\u001b[0;34m\u001b[0m\u001b[0;34m\u001b[0m\u001b[0m\n\u001b[0;32m---> 51\u001b[0;31m         \u001b[0mcls\u001b[0m\u001b[0;34m(\u001b[0m\u001b[0mbuf\u001b[0m\u001b[0;34m,\u001b[0m \u001b[0mprotocol\u001b[0m\u001b[0;34m)\u001b[0m\u001b[0;34m.\u001b[0m\u001b[0mdump\u001b[0m\u001b[0;34m(\u001b[0m\u001b[0mobj\u001b[0m\u001b[0;34m)\u001b[0m\u001b[0;34m\u001b[0m\u001b[0;34m\u001b[0m\u001b[0m\n\u001b[0m\u001b[1;32m     52\u001b[0m         \u001b[0;32mreturn\u001b[0m \u001b[0mbuf\u001b[0m\u001b[0;34m.\u001b[0m\u001b[0mgetbuffer\u001b[0m\u001b[0;34m(\u001b[0m\u001b[0;34m)\u001b[0m\u001b[0;34m\u001b[0m\u001b[0;34m\u001b[0m\u001b[0m\n\u001b[1;32m     53\u001b[0m \u001b[0;34m\u001b[0m\u001b[0m\n",
      "\u001b[0;31mPicklingError\u001b[0m: Can't pickle <function <lambda> at 0x7eff691cf310>: attribute lookup <lambda> on __main__ failed"
     ]
    }
   ],
   "source": [
    "from yabox import PDE\n",
    "c_sym = lambda f: np.abs(p_sym(*f)[0] - A0dB_target)\n",
    "problem = PDE( c_sym\n",
    "             , [(1e6,1e11), (1e6,1e11), (1e6,1e11), (1e6,1e11)])\n",
    "x,y = problem.solve(show_progress=True)"
   ]
  },
  {
   "cell_type": "code",
   "execution_count": 34,
   "id": "ccd0473e-2caf-4472-bb4a-66ad186e11cf",
   "metadata": {},
   "outputs": [
    {
     "ename": "NameError",
     "evalue": "name 'device_characteristics' is not defined",
     "output_type": "error",
     "traceback": [
      "\u001b[0;31m---------------------------------------------------------------------------\u001b[0m",
      "\u001b[0;31mNameError\u001b[0m                                 Traceback (most recent call last)",
      "\u001b[0;32m<ipython-input-34-b560a736d9b0>\u001b[0m in \u001b[0;36m<module>\u001b[0;34m\u001b[0m\n\u001b[0;32m----> 1\u001b[0;31m \u001b[0;32mfor\u001b[0m \u001b[0mdevice\u001b[0m\u001b[0;34m,\u001b[0m \u001b[0mparameters\u001b[0m \u001b[0;32min\u001b[0m \u001b[0mdevice_characteristics\u001b[0m\u001b[0;34m.\u001b[0m\u001b[0mitems\u001b[0m\u001b[0;34m(\u001b[0m\u001b[0;34m)\u001b[0m\u001b[0;34m:\u001b[0m\u001b[0;34m\u001b[0m\u001b[0;34m\u001b[0m\u001b[0m\n\u001b[0m\u001b[1;32m      2\u001b[0m     \u001b[0msymamp\u001b[0m\u001b[0;34m.\u001b[0m\u001b[0melement\u001b[0m\u001b[0;34m(\u001b[0m\u001b[0mdevice\u001b[0m\u001b[0;34m)\u001b[0m\u001b[0;34m.\u001b[0m\u001b[0mwidth\u001b[0m  \u001b[0;34m=\u001b[0m \u001b[0mparameters\u001b[0m\u001b[0;34m[\u001b[0m\u001b[0;34m\"W\"\u001b[0m\u001b[0;34m]\u001b[0m\u001b[0;34m.\u001b[0m\u001b[0mvalues\u001b[0m\u001b[0;34m[\u001b[0m\u001b[0;36m0\u001b[0m\u001b[0;34m]\u001b[0m\u001b[0;34m\u001b[0m\u001b[0;34m\u001b[0m\u001b[0m\n\u001b[1;32m      3\u001b[0m     \u001b[0msymamp\u001b[0m\u001b[0;34m.\u001b[0m\u001b[0melement\u001b[0m\u001b[0;34m(\u001b[0m\u001b[0mdevice\u001b[0m\u001b[0;34m)\u001b[0m\u001b[0;34m.\u001b[0m\u001b[0mlength\u001b[0m \u001b[0;34m=\u001b[0m \u001b[0mparameters\u001b[0m\u001b[0;34m[\u001b[0m\u001b[0;34m\"L\"\u001b[0m\u001b[0;34m]\u001b[0m\u001b[0;34m.\u001b[0m\u001b[0mvalues\u001b[0m\u001b[0;34m[\u001b[0m\u001b[0;36m0\u001b[0m\u001b[0;34m]\u001b[0m\u001b[0;34m\u001b[0m\u001b[0;34m\u001b[0m\u001b[0m\n",
      "\u001b[0;31mNameError\u001b[0m: name 'device_characteristics' is not defined"
     ]
    }
   ],
   "source": [
    "for device, parameters in device_characteristics.items():\n",
    "    symamp.element(device).width  = parameters[\"W\"].values[0]\n",
    "    symamp.element(device).length = parameters[\"L\"].values[0]"
   ]
  },
  {
   "cell_type": "code",
   "execution_count": null,
   "id": "14c35a19-189f-46c4-a187-5ff3e8d585be",
   "metadata": {},
   "outputs": [],
   "source": [
    "logging.disable(logging.FATAL)\n",
    "simulator = netlist.simulator( simulator=\"ngspice-subprocess\"\n",
    "                             , temperature=27\n",
    "                             , nominal_temperature=27\n",
    "                             , )\n",
    "\n",
    "analysis  = simulator.ac( start_frequency  = 1.0@u_Hz\n",
    "                        , stop_frequency   = 1e11@u_Hz\n",
    "                        , number_of_points = 10\n",
    "                        , variation        = \"dec\"\n",
    "                        , )\n",
    "logging.disable(logging.NOTSET)"
   ]
  },
  {
   "cell_type": "code",
   "execution_count": null,
   "id": "619aa94e-47e8-4cf0-9191-bdf953d0cbcd",
   "metadata": {
    "tags": []
   },
   "outputs": [],
   "source": [
    "print(simulator)"
   ]
  },
  {
   "cell_type": "code",
   "execution_count": null,
   "id": "7c82e75c-22aa-4296-9804-f7b631b4cfe2",
   "metadata": {},
   "outputs": [],
   "source": [
    "simulator = netlist.simulator( simulator=\"ngspice-subprocess\"\n",
    "                             , temperature=27\n",
    "                             , nominal_temperature=27\n",
    "                             , )\n",
    "\n",
    "logging.disable(logging.FATAL)\n",
    "analysis  = simulator.ac( start_frequency  = 1.0@u_Hz\n",
    "                        , stop_frequency   = 1e11@u_Hz\n",
    "                        , number_of_points = 10\n",
    "                        , variation        = \"dec\"\n",
    "                        , )\n",
    "\n",
    "freq  = np.array(analysis.frequency)\n",
    "gain  = (20 * np.log10(np.absolute(analysis[\"O\"]))) - (20 * np.log10(np.absolute(analysis[\"N\"])))\n",
    "phase = np.angle(analysis[\"O\"], deg=True) - np.angle(analysis[\"N\"], deg=True)\n",
    "logging.disable(logging.NOTSET)"
   ]
  },
  {
   "cell_type": "code",
   "execution_count": null,
   "id": "6c3ca5aa-3b4e-4956-8294-a2ebf9a2ec4d",
   "metadata": {},
   "outputs": [],
   "source": [
    "fig = plt.figure()\n",
    "plt.plot(freq, gain) # (20 * np.log10(np.absolute(analysis[\"O\"]))))\n",
    "plt.xscale(\"log\")"
   ]
  },
  {
   "cell_type": "code",
   "execution_count": null,
   "id": "060b41d4-9306-42a1-8207-6b3561f95828",
   "metadata": {},
   "outputs": [],
   "source": [
    "print(simulator)"
   ]
  },
  {
   "cell_type": "code",
   "execution_count": null,
   "id": "4922956f-e304-4945-b87f-90558565f4ff",
   "metadata": {},
   "outputs": [],
   "source": [
    "gf = [gain[np.argsort(gain)], freq[np.argsort(gain)]]\n",
    "pf = [phase[np.argsort(phase)], freq[np.argsort(phase)]]\n",
    "\n",
    "A0dB = pchip_interpolate(freq, gain, [1.0])\n",
    "A3dB = A0dB - 3.0\n",
    "f3dB = pchip_interpolate(*gf, [A3dB])\n",
    "\n",
    "fug = pchip_interpolate(*gf, [0.0]) if A0dB > 0 else np.ones(1)\n",
    "fp0 = pchip_interpolate(*pf, [0.0])\n",
    "\n",
    "PM = pchip_interpolate(freq, phase, [fug]) if A0dB > 0 else np.zeros(1)\n",
    "GM = pchip_interpolate(freq, gain, [fp0])\n",
    "\n",
    "performance = { \"A0dB\" : A0dB.item() \n",
    "              , \"f3dB\" : f3dB.item()\n",
    "              , \"fug\"  : fug.item()\n",
    "              , \"PM\"   : PM.item()\n",
    "              , \"GM\"   : GM.item()\n",
    "              , }\n"
   ]
  },
  {
   "cell_type": "code",
   "execution_count": null,
   "id": "bcf722b1-aed7-4570-8ef3-e2944dd48520",
   "metadata": {},
   "outputs": [],
   "source": [
    "performance"
   ]
  },
  {
   "cell_type": "code",
   "execution_count": null,
   "id": "9a9a04ce-16aa-485d-8322-8afcbe714436",
   "metadata": {},
   "outputs": [],
   "source": []
  }
 ],
 "metadata": {
  "kernelspec": {
   "display_name": "Python 3",
   "language": "python",
   "name": "python3"
  },
  "language_info": {
   "codemirror_mode": {
    "name": "ipython",
    "version": 3
   },
   "file_extension": ".py",
   "mimetype": "text/x-python",
   "name": "python",
   "nbconvert_exporter": "python",
   "pygments_lexer": "ipython3",
   "version": "3.9.5"
  }
 },
 "nbformat": 4,
 "nbformat_minor": 5
}
