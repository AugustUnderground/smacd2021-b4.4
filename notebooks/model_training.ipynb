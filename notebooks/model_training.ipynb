{
 "cells": [
  {
   "cell_type": "markdown",
   "id": "76fb13c8-3262-4791-afbb-7f9a8255fc57",
   "metadata": {},
   "source": [
    "# Model Training\n",
    "\n",
    "## Prerequisites\n",
    "\n",
    "To run this notebook the `data_path` variable has to point to the location of a valid dataset. If you don't have any data an example dataset can be obtained by characterizing [PTM](http://ptm.asu.edu/) transistor models as shown in [pyrdict](https://github.com/AugustUnderground/pyrdict).\n",
    "\n",
    "Additionally, for training [precept](https://github.com/electronics-and-drives/precept) has to be installed manually."
   ]
  },
  {
   "cell_type": "markdown",
   "id": "cd2ddf34-a4e7-4fb0-834b-b50b43d5bf97",
   "metadata": {},
   "source": [
    "## Setup"
   ]
  },
  {
   "cell_type": "code",
   "execution_count": 1,
   "id": "2c3d022e-ca32-4e57-9af5-d880c2658825",
   "metadata": {},
   "outputs": [],
   "source": [
    "%matplotlib inline"
   ]
  },
  {
   "cell_type": "code",
   "execution_count": 2,
   "id": "a595a75d-7e74-4638-bba1-b0d361182cd1",
   "metadata": {},
   "outputs": [],
   "source": [
    "import os\n",
    "import torch\n",
    "import h5py as h5\n",
    "import numpy as np\n",
    "import torch as pt\n",
    "import pandas as pd\n",
    "import joblib as jl\n",
    "from datetime import datetime as dt\n",
    "from functools import partial\n",
    "from matplotlib import pyplot as plt\n",
    "from scipy.stats import norm\n",
    "from sklearn.preprocessing import MinMaxScaler, minmax_scale"
   ]
  },
  {
   "cell_type": "code",
   "execution_count": 3,
   "id": "48de9967-aa18-4596-9f12-a042c10a7465",
   "metadata": {},
   "outputs": [],
   "source": [
    "from pytorch_lightning import Trainer\n",
    "from precept import PreceptModule, PreceptDataFrameModule"
   ]
  },
  {
   "cell_type": "code",
   "execution_count": 4,
   "id": "ed536ec7-b66f-4dd5-987a-f89556386c99",
   "metadata": {},
   "outputs": [],
   "source": [
    "num_gpus = pt.cuda.device_count() if pt.cuda.is_available() else None"
   ]
  },
  {
   "cell_type": "markdown",
   "id": "54928840-4156-481b-83fb-8f6e50030830",
   "metadata": {},
   "source": [
    "## Data\n",
    "\n",
    "**Note**: This part has to be adjusted according to the location and shape of custom datasets.\n",
    "\n",
    "- Adjust `data_path` accordingly, so it points to a your $\\frac{g_{\\mathrm{m}}}{I_{\\mathrm{d}}}$ look up table.\n",
    "- Depending on the shape of the dataset and file format it may need to be read differently.\n",
    "\n",
    "If the data is generated with [pyrdict](https://github.com/AugustUnderground/pyrdict) the resulting `h5` is structured such that each parameter is a group."
   ]
  },
  {
   "cell_type": "code",
   "execution_count": 5,
   "id": "c2f65be6-7e73-485b-9617-318cc6ae755c",
   "metadata": {},
   "outputs": [],
   "source": [
    "device_type = \"nmos\"\n",
    "device_tech = \"90nm\"\n",
    "device_name = \"ptm\"\n",
    "data_path   = f\"../data/{device_tech}_bulk_{device_type}.h5\""
   ]
  },
  {
   "cell_type": "code",
   "execution_count": 6,
   "id": "d456b7ee-90f6-4c09-8d78-6819495d878f",
   "metadata": {},
   "outputs": [],
   "source": [
    "with h5.File(data_path, \"r\") as data_base:\n",
    "    column_names = list(data_base.keys())\n",
    "    data_matrix  = np.transpose(np.array([data_base[c] for c in column_names]))\n",
    "    data_frame   = pd.DataFrame(data_matrix, columns=column_names).dropna()"
   ]
  },
  {
   "cell_type": "markdown",
   "id": "67960749-ee8b-435b-bc86-e141c36e3688",
   "metadata": {},
   "source": [
    "### Preprocesing and Filtering\n",
    "\n",
    "Only the data necessary for preprocessing and the function mappings is kept, everything else can be filtered out."
   ]
  },
  {
   "cell_type": "code",
   "execution_count": 7,
   "id": "11b92e74-ee98-4aab-bcb7-d615a8f5a188",
   "metadata": {},
   "outputs": [],
   "source": [
    "data_filtered = data_frame.loc[ ( (round(data_frame.Vgs, 2) == round(data_frame.Vds, 2))\n",
    "                                & (round(data_frame.Vbs, 2) == 0.0) ) ].sample(frac=1)"
   ]
  },
  {
   "cell_type": "code",
   "execution_count": 8,
   "id": "059706db-2fe1-41f5-b078-4fe251da6f77",
   "metadata": {},
   "outputs": [],
   "source": [
    "params                = [ \"Vgs\", \"Vds\", \"Vbs\", \"L\", \"W\", \"gm\", \"id\", \"gds\", \"vdsat\", \"fug\" ]\n",
    "data_filtered[\"gmid\"] = data_filtered.gm / data_filtered.id\n",
    "data_filtered[\"jd\"]   = data_filtered.id / data_filtered.W\n",
    "data_filtered[\"a0\"]   = data_filtered.gm / data_filtered.gds\n",
    "data_filtered[\"gdsw\"]  = data_filtered.gds / data_filtered.W"
   ]
  },
  {
   "cell_type": "markdown",
   "id": "72d5038b-6a39-4c77-b4e6-d257efc38d0e",
   "metadata": {},
   "source": [
    "Since in the vast majority of cases a device is desired to be in saturation all other cases are filtered out."
   ]
  },
  {
   "cell_type": "markdown",
   "id": "c6d2356f-ec53-4d02-a417-d9644300dc08",
   "metadata": {},
   "source": [
    "### Mappings\n",
    "\n",
    "For each device ($\\delta \\in [\\mathrm{\"NMOS\"}, \\mathrm{\"PMOS\"}]$) and \n",
    "technology ($\\tau = 90\\,\\mathrm{nm}$ in this case) the mapping $\\gamma$ is trained\n",
    "\n",
    "$$\\gamma_{\\mathrm{\\delta,\\tau}} = \n",
    "    \\begin{bmatrix} \n",
    "        \\frac{g_{\\mathrm{m}}}{I_{\\mathrm{d}}} \\\\ f_{\\mathrm{ug}} \n",
    "    \\end{bmatrix} \n",
    "    \\mapsto\n",
    "    \\begin{bmatrix}\n",
    "        J_{\\mathrm{d}} \\\\ L \\\\ \\frac{g_{\\mathrm{ds}}}{W}\n",
    "    \\end{bmatrix},$$\n",
    "\n",
    "where $A_{0} = \\frac{g_{\\mathrm{m}}}{g_{\\mathrm{ds}}}$ and $J_{\\mathrm{d}} = \\frac{I_{\\mathrm{d}}}{W}$."
   ]
  },
  {
   "cell_type": "markdown",
   "id": "b7fb1ee0-f574-442e-9480-8fddb4f53772",
   "metadata": {},
   "source": [
    "The model converges better when $f_{\\mathrm{ug}}$ and $J_{\\mathrm{d}}$ are trained on the $\\log_{10}$ instead."
   ]
  },
  {
   "cell_type": "code",
   "execution_count": 9,
   "id": "a2dc5044-7bf5-461b-a3fb-5d2f627d50c5",
   "metadata": {},
   "outputs": [],
   "source": [
    "transformed_x = np.vstack([ data_filtered.gmid.values\n",
    "                          , np.log10(data_filtered.fug.values)]).T\n",
    "transformed_y = np.vstack([ np.log10(data_filtered.jd.values)\n",
    "                          , data_filtered.L.values\n",
    "                          , np.log10(data_filtered.gdsw.values) ]).T"
   ]
  },
  {
   "cell_type": "markdown",
   "id": "0200fee3-8878-4b1c-b707-2953e6730e4c",
   "metadata": {},
   "source": [
    "Additionally, the data is scaled such that each parameter is $\\in [0;1]$."
   ]
  },
  {
   "cell_type": "code",
   "execution_count": 10,
   "id": "522e5058-8f05-4afe-b393-65343a532239",
   "metadata": {},
   "outputs": [],
   "source": [
    "scale_x     = MinMaxScaler()\n",
    "scale_y     = MinMaxScaler()\n",
    "\n",
    "scaled_x    = scale_x.fit_transform(transformed_x).T\n",
    "scaled_y    = scale_y.fit_transform(transformed_y).T"
   ]
  },
  {
   "cell_type": "markdown",
   "id": "e18c5750-bc07-4bac-a60b-2079d9284b5e",
   "metadata": {},
   "source": [
    "## Training \n",
    "\n",
    "The batch size is deliberatly chosen to be small, based on experience with other datasets but may be increased at will. Same goes for the number of epochs."
   ]
  },
  {
   "cell_type": "code",
   "execution_count": 11,
   "id": "1b64b4e2-b96b-4673-b8a8-0eee1ae0c0bc",
   "metadata": {},
   "outputs": [],
   "source": [
    "batch_size = 2000\n",
    "test_split = 0.2\n",
    "num_epochs = 42\n",
    "params_x = [\"gmid\", \"fug\"]\n",
    "params_y = [\"jd\", \"L\", \"gdsw\"]"
   ]
  },
  {
   "cell_type": "code",
   "execution_count": 12,
   "id": "cc6896d4-4629-47b2-bfbf-3de5c3f689c6",
   "metadata": {},
   "outputs": [],
   "source": [
    "data_scaled = pd.DataFrame( np.vstack((scaled_x, scaled_y)).T\n",
    "                          , columns = (params_x + params_y) )"
   ]
  },
  {
   "cell_type": "markdown",
   "id": "7bbcc032-64f7-4b9b-b07a-49fd9a76a5cd",
   "metadata": {},
   "source": [
    "A folder for storing the model will be dynamically created in the root of this repositry each time the notebook is run.\n",
    "All trained models will be located under `models/custom/` and assigned with a timestamp."
   ]
  },
  {
   "cell_type": "code",
   "execution_count": 13,
   "id": "aab8dcd8-d58e-495c-9735-3e13eabb62f1",
   "metadata": {},
   "outputs": [],
   "source": [
    "time_stamp = dt.now().strftime(\"%Y-%m%d-%H%M%S\")\n",
    "model_dir  = f\"../models/custom/{device_tech}-{device_name}-{time_stamp}/\"\n",
    "os.makedirs(model_dir, exist_ok = True)\n",
    "model_prefix = f\"{model_dir}/v-{device_type}-{device_tech}\""
   ]
  },
  {
   "cell_type": "markdown",
   "id": "b3c9e14a-4d37-49c9-b2ab-ce4ad2a3ba5c",
   "metadata": {},
   "source": [
    "The data module handles loading and preparing the dataset for training."
   ]
  },
  {
   "cell_type": "code",
   "execution_count": 14,
   "id": "4b1804eb-d2c6-4f74-ba48-1f3da21d95c7",
   "metadata": {},
   "outputs": [],
   "source": [
    "data = PreceptDataFrameModule( data_scaled             # unecessary columns are filtered out internally\n",
    "                             , params_x, params_y      # input and output parameters\n",
    "                             , [], [], [], []          # No transformations\n",
    "                             , batch_size = batch_size\n",
    "                             , test_split = test_split\n",
    "                             , scale      = False      # No need to scale data, we did that before\n",
    "                             , )"
   ]
  },
  {
   "cell_type": "markdown",
   "id": "1f65a42a-2075-4620-998d-e203ac184376",
   "metadata": {},
   "source": [
    "The lightning module prepares the Neural Network."
   ]
  },
  {
   "cell_type": "code",
   "execution_count": 15,
   "id": "e6836438-6be9-45f4-bdb3-70bbf8ccba74",
   "metadata": {},
   "outputs": [],
   "source": [
    "module = PreceptModule( len(params_x), len(params_y)\n",
    "                      , model_path = model_dir\n",
    "                      , )"
   ]
  },
  {
   "cell_type": "markdown",
   "id": "9ddaf263-57f9-4f94-90e1-3b546ca23e5a",
   "metadata": {},
   "source": [
    "The Trainier handles training, logging and periodic checkpoint saving of the model."
   ]
  },
  {
   "cell_type": "code",
   "execution_count": 16,
   "id": "327b5eac-d1d7-4e24-bf84-c1518da39725",
   "metadata": {},
   "outputs": [
    {
     "name": "stderr",
     "output_type": "stream",
     "text": [
      "GPU available: True, used: True\n",
      "TPU available: False, using: 0 TPU cores\n"
     ]
    }
   ],
   "source": [
    "trainer     = Trainer( gpus                = num_gpus\n",
    "                     , max_epochs          = num_epochs\n",
    "                     , precision           = 64\n",
    "                     , checkpoint_callback = True\n",
    "                     , default_root_dir    = model_dir\n",
    "                     , )"
   ]
  },
  {
   "cell_type": "markdown",
   "id": "6559d982-0ea1-4ca6-9245-9073e521a2f4",
   "metadata": {},
   "source": [
    "Use the trainer to fit the module on the given data."
   ]
  },
  {
   "cell_type": "code",
   "execution_count": 17,
   "id": "9f4ee26f-6d6c-490e-88e3-095c2892344d",
   "metadata": {},
   "outputs": [
    {
     "name": "stderr",
     "output_type": "stream",
     "text": [
      "The following callbacks returned in `LightningModule.configure_callbacks` will override existing callbacks passed to Trainer: ModelCheckpoint\n",
      "LOCAL_RANK: 0 - CUDA_VISIBLE_DEVICES: [0]\n",
      "\n",
      "  | Name | Type       | Params\n",
      "------------------------------------\n",
      "0 | net  | Sequential | 1.4 M \n",
      "------------------------------------\n",
      "1.4 M     Trainable params\n",
      "0         Non-trainable params\n",
      "1.4 M     Total params\n",
      "11.038    Total estimated model params size (MB)\n"
     ]
    },
    {
     "data": {
      "application/vnd.jupyter.widget-view+json": {
       "model_id": "",
       "version_major": 2,
       "version_minor": 0
      },
      "text/plain": [
       "Validation sanity check: 0it [00:00, ?it/s]"
      ]
     },
     "metadata": {},
     "output_type": "display_data"
    },
    {
     "data": {
      "application/vnd.jupyter.widget-view+json": {
       "model_id": "30c958e0976a4522ab3493193eb76390",
       "version_major": 2,
       "version_minor": 0
      },
      "text/plain": [
       "Training: 0it [00:00, ?it/s]"
      ]
     },
     "metadata": {},
     "output_type": "display_data"
    },
    {
     "data": {
      "application/vnd.jupyter.widget-view+json": {
       "model_id": "",
       "version_major": 2,
       "version_minor": 0
      },
      "text/plain": [
       "Validating: 0it [00:00, ?it/s]"
      ]
     },
     "metadata": {},
     "output_type": "display_data"
    },
    {
     "data": {
      "application/vnd.jupyter.widget-view+json": {
       "model_id": "",
       "version_major": 2,
       "version_minor": 0
      },
      "text/plain": [
       "Validating: 0it [00:00, ?it/s]"
      ]
     },
     "metadata": {},
     "output_type": "display_data"
    },
    {
     "data": {
      "application/vnd.jupyter.widget-view+json": {
       "model_id": "",
       "version_major": 2,
       "version_minor": 0
      },
      "text/plain": [
       "Validating: 0it [00:00, ?it/s]"
      ]
     },
     "metadata": {},
     "output_type": "display_data"
    },
    {
     "data": {
      "application/vnd.jupyter.widget-view+json": {
       "model_id": "",
       "version_major": 2,
       "version_minor": 0
      },
      "text/plain": [
       "Validating: 0it [00:00, ?it/s]"
      ]
     },
     "metadata": {},
     "output_type": "display_data"
    },
    {
     "data": {
      "application/vnd.jupyter.widget-view+json": {
       "model_id": "",
       "version_major": 2,
       "version_minor": 0
      },
      "text/plain": [
       "Validating: 0it [00:00, ?it/s]"
      ]
     },
     "metadata": {},
     "output_type": "display_data"
    },
    {
     "data": {
      "application/vnd.jupyter.widget-view+json": {
       "model_id": "",
       "version_major": 2,
       "version_minor": 0
      },
      "text/plain": [
       "Validating: 0it [00:00, ?it/s]"
      ]
     },
     "metadata": {},
     "output_type": "display_data"
    },
    {
     "data": {
      "application/vnd.jupyter.widget-view+json": {
       "model_id": "",
       "version_major": 2,
       "version_minor": 0
      },
      "text/plain": [
       "Validating: 0it [00:00, ?it/s]"
      ]
     },
     "metadata": {},
     "output_type": "display_data"
    },
    {
     "data": {
      "application/vnd.jupyter.widget-view+json": {
       "model_id": "",
       "version_major": 2,
       "version_minor": 0
      },
      "text/plain": [
       "Validating: 0it [00:00, ?it/s]"
      ]
     },
     "metadata": {},
     "output_type": "display_data"
    },
    {
     "data": {
      "application/vnd.jupyter.widget-view+json": {
       "model_id": "",
       "version_major": 2,
       "version_minor": 0
      },
      "text/plain": [
       "Validating: 0it [00:00, ?it/s]"
      ]
     },
     "metadata": {},
     "output_type": "display_data"
    },
    {
     "data": {
      "application/vnd.jupyter.widget-view+json": {
       "model_id": "",
       "version_major": 2,
       "version_minor": 0
      },
      "text/plain": [
       "Validating: 0it [00:00, ?it/s]"
      ]
     },
     "metadata": {},
     "output_type": "display_data"
    },
    {
     "data": {
      "application/vnd.jupyter.widget-view+json": {
       "model_id": "",
       "version_major": 2,
       "version_minor": 0
      },
      "text/plain": [
       "Validating: 0it [00:00, ?it/s]"
      ]
     },
     "metadata": {},
     "output_type": "display_data"
    },
    {
     "data": {
      "application/vnd.jupyter.widget-view+json": {
       "model_id": "",
       "version_major": 2,
       "version_minor": 0
      },
      "text/plain": [
       "Validating: 0it [00:00, ?it/s]"
      ]
     },
     "metadata": {},
     "output_type": "display_data"
    },
    {
     "data": {
      "application/vnd.jupyter.widget-view+json": {
       "model_id": "",
       "version_major": 2,
       "version_minor": 0
      },
      "text/plain": [
       "Validating: 0it [00:00, ?it/s]"
      ]
     },
     "metadata": {},
     "output_type": "display_data"
    },
    {
     "data": {
      "application/vnd.jupyter.widget-view+json": {
       "model_id": "",
       "version_major": 2,
       "version_minor": 0
      },
      "text/plain": [
       "Validating: 0it [00:00, ?it/s]"
      ]
     },
     "metadata": {},
     "output_type": "display_data"
    },
    {
     "data": {
      "application/vnd.jupyter.widget-view+json": {
       "model_id": "",
       "version_major": 2,
       "version_minor": 0
      },
      "text/plain": [
       "Validating: 0it [00:00, ?it/s]"
      ]
     },
     "metadata": {},
     "output_type": "display_data"
    },
    {
     "data": {
      "application/vnd.jupyter.widget-view+json": {
       "model_id": "",
       "version_major": 2,
       "version_minor": 0
      },
      "text/plain": [
       "Validating: 0it [00:00, ?it/s]"
      ]
     },
     "metadata": {},
     "output_type": "display_data"
    },
    {
     "data": {
      "application/vnd.jupyter.widget-view+json": {
       "model_id": "",
       "version_major": 2,
       "version_minor": 0
      },
      "text/plain": [
       "Validating: 0it [00:00, ?it/s]"
      ]
     },
     "metadata": {},
     "output_type": "display_data"
    },
    {
     "data": {
      "application/vnd.jupyter.widget-view+json": {
       "model_id": "",
       "version_major": 2,
       "version_minor": 0
      },
      "text/plain": [
       "Validating: 0it [00:00, ?it/s]"
      ]
     },
     "metadata": {},
     "output_type": "display_data"
    },
    {
     "data": {
      "application/vnd.jupyter.widget-view+json": {
       "model_id": "",
       "version_major": 2,
       "version_minor": 0
      },
      "text/plain": [
       "Validating: 0it [00:00, ?it/s]"
      ]
     },
     "metadata": {},
     "output_type": "display_data"
    },
    {
     "data": {
      "application/vnd.jupyter.widget-view+json": {
       "model_id": "",
       "version_major": 2,
       "version_minor": 0
      },
      "text/plain": [
       "Validating: 0it [00:00, ?it/s]"
      ]
     },
     "metadata": {},
     "output_type": "display_data"
    },
    {
     "data": {
      "application/vnd.jupyter.widget-view+json": {
       "model_id": "",
       "version_major": 2,
       "version_minor": 0
      },
      "text/plain": [
       "Validating: 0it [00:00, ?it/s]"
      ]
     },
     "metadata": {},
     "output_type": "display_data"
    },
    {
     "data": {
      "application/vnd.jupyter.widget-view+json": {
       "model_id": "",
       "version_major": 2,
       "version_minor": 0
      },
      "text/plain": [
       "Validating: 0it [00:00, ?it/s]"
      ]
     },
     "metadata": {},
     "output_type": "display_data"
    },
    {
     "data": {
      "application/vnd.jupyter.widget-view+json": {
       "model_id": "",
       "version_major": 2,
       "version_minor": 0
      },
      "text/plain": [
       "Validating: 0it [00:00, ?it/s]"
      ]
     },
     "metadata": {},
     "output_type": "display_data"
    },
    {
     "data": {
      "application/vnd.jupyter.widget-view+json": {
       "model_id": "",
       "version_major": 2,
       "version_minor": 0
      },
      "text/plain": [
       "Validating: 0it [00:00, ?it/s]"
      ]
     },
     "metadata": {},
     "output_type": "display_data"
    },
    {
     "data": {
      "application/vnd.jupyter.widget-view+json": {
       "model_id": "",
       "version_major": 2,
       "version_minor": 0
      },
      "text/plain": [
       "Validating: 0it [00:00, ?it/s]"
      ]
     },
     "metadata": {},
     "output_type": "display_data"
    },
    {
     "data": {
      "application/vnd.jupyter.widget-view+json": {
       "model_id": "",
       "version_major": 2,
       "version_minor": 0
      },
      "text/plain": [
       "Validating: 0it [00:00, ?it/s]"
      ]
     },
     "metadata": {},
     "output_type": "display_data"
    },
    {
     "data": {
      "application/vnd.jupyter.widget-view+json": {
       "model_id": "",
       "version_major": 2,
       "version_minor": 0
      },
      "text/plain": [
       "Validating: 0it [00:00, ?it/s]"
      ]
     },
     "metadata": {},
     "output_type": "display_data"
    },
    {
     "data": {
      "application/vnd.jupyter.widget-view+json": {
       "model_id": "",
       "version_major": 2,
       "version_minor": 0
      },
      "text/plain": [
       "Validating: 0it [00:00, ?it/s]"
      ]
     },
     "metadata": {},
     "output_type": "display_data"
    },
    {
     "data": {
      "application/vnd.jupyter.widget-view+json": {
       "model_id": "",
       "version_major": 2,
       "version_minor": 0
      },
      "text/plain": [
       "Validating: 0it [00:00, ?it/s]"
      ]
     },
     "metadata": {},
     "output_type": "display_data"
    },
    {
     "data": {
      "application/vnd.jupyter.widget-view+json": {
       "model_id": "",
       "version_major": 2,
       "version_minor": 0
      },
      "text/plain": [
       "Validating: 0it [00:00, ?it/s]"
      ]
     },
     "metadata": {},
     "output_type": "display_data"
    },
    {
     "data": {
      "application/vnd.jupyter.widget-view+json": {
       "model_id": "",
       "version_major": 2,
       "version_minor": 0
      },
      "text/plain": [
       "Validating: 0it [00:00, ?it/s]"
      ]
     },
     "metadata": {},
     "output_type": "display_data"
    },
    {
     "data": {
      "application/vnd.jupyter.widget-view+json": {
       "model_id": "",
       "version_major": 2,
       "version_minor": 0
      },
      "text/plain": [
       "Validating: 0it [00:00, ?it/s]"
      ]
     },
     "metadata": {},
     "output_type": "display_data"
    },
    {
     "data": {
      "application/vnd.jupyter.widget-view+json": {
       "model_id": "",
       "version_major": 2,
       "version_minor": 0
      },
      "text/plain": [
       "Validating: 0it [00:00, ?it/s]"
      ]
     },
     "metadata": {},
     "output_type": "display_data"
    },
    {
     "data": {
      "application/vnd.jupyter.widget-view+json": {
       "model_id": "",
       "version_major": 2,
       "version_minor": 0
      },
      "text/plain": [
       "Validating: 0it [00:00, ?it/s]"
      ]
     },
     "metadata": {},
     "output_type": "display_data"
    },
    {
     "data": {
      "application/vnd.jupyter.widget-view+json": {
       "model_id": "",
       "version_major": 2,
       "version_minor": 0
      },
      "text/plain": [
       "Validating: 0it [00:00, ?it/s]"
      ]
     },
     "metadata": {},
     "output_type": "display_data"
    },
    {
     "data": {
      "application/vnd.jupyter.widget-view+json": {
       "model_id": "",
       "version_major": 2,
       "version_minor": 0
      },
      "text/plain": [
       "Validating: 0it [00:00, ?it/s]"
      ]
     },
     "metadata": {},
     "output_type": "display_data"
    },
    {
     "data": {
      "application/vnd.jupyter.widget-view+json": {
       "model_id": "",
       "version_major": 2,
       "version_minor": 0
      },
      "text/plain": [
       "Validating: 0it [00:00, ?it/s]"
      ]
     },
     "metadata": {},
     "output_type": "display_data"
    },
    {
     "data": {
      "application/vnd.jupyter.widget-view+json": {
       "model_id": "",
       "version_major": 2,
       "version_minor": 0
      },
      "text/plain": [
       "Validating: 0it [00:00, ?it/s]"
      ]
     },
     "metadata": {},
     "output_type": "display_data"
    },
    {
     "data": {
      "application/vnd.jupyter.widget-view+json": {
       "model_id": "",
       "version_major": 2,
       "version_minor": 0
      },
      "text/plain": [
       "Validating: 0it [00:00, ?it/s]"
      ]
     },
     "metadata": {},
     "output_type": "display_data"
    },
    {
     "data": {
      "application/vnd.jupyter.widget-view+json": {
       "model_id": "",
       "version_major": 2,
       "version_minor": 0
      },
      "text/plain": [
       "Validating: 0it [00:00, ?it/s]"
      ]
     },
     "metadata": {},
     "output_type": "display_data"
    },
    {
     "data": {
      "application/vnd.jupyter.widget-view+json": {
       "model_id": "",
       "version_major": 2,
       "version_minor": 0
      },
      "text/plain": [
       "Validating: 0it [00:00, ?it/s]"
      ]
     },
     "metadata": {},
     "output_type": "display_data"
    },
    {
     "data": {
      "application/vnd.jupyter.widget-view+json": {
       "model_id": "",
       "version_major": 2,
       "version_minor": 0
      },
      "text/plain": [
       "Validating: 0it [00:00, ?it/s]"
      ]
     },
     "metadata": {},
     "output_type": "display_data"
    }
   ],
   "source": [
    "trainer.fit(module, data)"
   ]
  },
  {
   "cell_type": "markdown",
   "id": "c5a3778a-1c0b-4da9-afd9-444fde88e5ca",
   "metadata": {},
   "source": [
    "Save the best model and scalers for later use in circuit sizing."
   ]
  },
  {
   "cell_type": "code",
   "execution_count": 18,
   "id": "a9424155-3240-4986-8f5f-8157b9a381c5",
   "metadata": {},
   "outputs": [
    {
     "data": {
      "text/plain": [
       "['../models/custom/90nm-ptm-2021-0628-152848//v-nmos-90nm.Y']"
      ]
     },
     "execution_count": 18,
     "metadata": {},
     "output_type": "execute_result"
    }
   ],
   "source": [
    "trainer.save_checkpoint(f\"{model_prefix}.ckpt\")\n",
    "jl.dump(scale_x, f\"{model_prefix}.X\")\n",
    "jl.dump(scale_y, f\"{model_prefix}.Y\")"
   ]
  },
  {
   "cell_type": "markdown",
   "id": "e27c2d46-16c2-43b4-a0b9-43f20276880f",
   "metadata": {},
   "source": [
    "## Evaluation\n",
    "\n",
    "The model is evaluated by plotting a trace vs. the ground truth of the data base. First, the model and normalizers are loaded from disk, then\n",
    "a `predict` function is defined that takes in a `DataFrame` with columns $\\frac{g_{\\mathrm{m}}}{I_{\\mathrm{d}}}$ and $f_{\\mathrm{ug}}$ and returns a `DataFrame` object with columns $J_{\\mathrm{d}}$, $L$ and $A_{0}$."
   ]
  },
  {
   "cell_type": "code",
   "execution_count": 19,
   "id": "073489d4-49b9-4368-8c4a-3e38c1726360",
   "metadata": {},
   "outputs": [
    {
     "data": {
      "text/plain": [
       "PreceptModule(\n",
       "  (net): Sequential(\n",
       "    (0): Linear(in_features=2, out_features=128, bias=True)\n",
       "    (1): ReLU()\n",
       "    (2): Linear(in_features=128, out_features=256, bias=True)\n",
       "    (3): ReLU()\n",
       "    (4): Linear(in_features=256, out_features=512, bias=True)\n",
       "    (5): ReLU()\n",
       "    (6): Linear(in_features=512, out_features=1024, bias=True)\n",
       "    (7): ReLU()\n",
       "    (8): Linear(in_features=1024, out_features=512, bias=True)\n",
       "    (9): ReLU()\n",
       "    (10): Linear(in_features=512, out_features=256, bias=True)\n",
       "    (11): ReLU()\n",
       "    (12): Linear(in_features=256, out_features=128, bias=True)\n",
       "    (13): ReLU()\n",
       "    (14): Linear(in_features=128, out_features=3, bias=True)\n",
       "    (15): ReLU()\n",
       "  )\n",
       ")"
      ]
     },
     "execution_count": 19,
     "metadata": {},
     "output_type": "execute_result"
    }
   ],
   "source": [
    "nmos90 = PreceptModule.load_from_checkpoint(f\"{model_prefix}.ckpt\")\n",
    "nmos90.cpu()\n",
    "nmos90.eval()"
   ]
  },
  {
   "cell_type": "code",
   "execution_count": 20,
   "id": "7411a84e-3b7c-4b01-b1ed-5e0aa9c71f2e",
   "metadata": {},
   "outputs": [],
   "source": [
    "# predict :: DataFame -> DataFrame\n",
    "def predict(X):\n",
    "    with pt.no_grad():\n",
    "        X_ = scale_x.transform(np.vstack([ X.gmid.values\n",
    "                                         , np.log10(X.fug.values)]).T)\n",
    "        Y_ = nmos90(pt.from_numpy(np.float32(X_))).numpy()\n",
    "        Y  = pd.DataFrame( scale_y.inverse_transform(Y_)\n",
    "                         , columns=params_y )\n",
    "        Y.jd   = np.power(10, Y.jd.values)\n",
    "        Y.gdsw = np.power(10, Y.gdsw.values)\n",
    "    return pd.DataFrame(Y, columns=params_y)"
   ]
  },
  {
   "cell_type": "markdown",
   "id": "c197bdd2-951b-4866-8b45-632bfa7ef32b",
   "metadata": {},
   "source": [
    "For the ground truth, a random _width_ $W$ and _length_ $L$ are chosen as."
   ]
  },
  {
   "cell_type": "code",
   "execution_count": 21,
   "id": "f5dfd686-e154-4077-b0e8-4b153605d9cf",
   "metadata": {},
   "outputs": [],
   "source": [
    "W_tru     = np.random.choice(data_filtered.W.unique())\n",
    "L_tru     = np.random.choice(data_filtered.L.unique())\n",
    "trace_tru = data_filtered[ ( (data_filtered.W == W_tru) & (data_filtered.L == L_tru)\n",
    "                        & (round(data_filtered.Vgs, 2) == round(data_filtered.Vds, 2))\n",
    "                        & (round(data_filtered.Vbs, 2) == 0.0)) ].sort_values(by=\"gmid\").dropna()"
   ]
  },
  {
   "cell_type": "code",
   "execution_count": 22,
   "id": "169d0082-3f29-41e3-8e7e-78a036d31147",
   "metadata": {},
   "outputs": [],
   "source": [
    "trace_prd = predict(trace_tru[params_x])"
   ]
  },
  {
   "cell_type": "code",
   "execution_count": 23,
   "id": "581882cb-9564-4e37-84e6-0dcc8546d7a5",
   "metadata": {},
   "outputs": [],
   "source": [
    "gmid = trace_tru.gmid.values\n",
    "jd_tru = trace_tru.jd.values\n",
    "jd_prd = trace_prd.jd.values\n",
    "#a0_tru = trace_tru.a0.values\n",
    "#a0_prd = trace_prd.a0.values\n",
    "gdsw_tru = trace_tru.gdsw.values\n",
    "gdsw_prd = trace_prd.gdsw.values\n",
    "\n",
    "L_μ = np.mean(trace_prd.L.values)\n",
    "L_σ = np.std(trace_prd.L.values)\n",
    "L_r = np.linspace(data_frame.L.min(), data_frame.L.max(), len(trace_tru))\n",
    "L_ρ = norm.pdf(L_r, L_μ, L_σ)"
   ]
  },
  {
   "cell_type": "code",
   "execution_count": 24,
   "id": "3b172f24-10c4-4de5-bae9-d12d8e4c7d3b",
   "metadata": {},
   "outputs": [
    {
     "data": {
      "image/png": "[encoded data removed]",
      "text/plain": [
       "<Figure size 1152x288 with 3 Axes>"
      ]
     },
     "metadata": {
      "needs_background": "light"
     },
     "output_type": "display_data"
    }
   ],
   "source": [
    "fig, (ax1, ax2, ax3) = plt.subplots(1, 3, figsize=(16,4))\n",
    "fig.suptitle(f\"Obesrvations @ $L = {L_tru:.2e}\\,m$ and $W = {W_tru:.2e}\\,m$\")\n",
    "ax1.plot(gmid, jd_tru, label=\"Observation\")\n",
    "ax1.plot(gmid, jd_prd, label=\"Prediction\")\n",
    "ax1.set_xlabel(\"$g_{m} / I_{d} ~ [V^{-1}]$\")\n",
    "ax1.set_ylabel(\"$I_{d} / W ~ [A/m]$\")\n",
    "ax1.set_yscale(\"log\")\n",
    "ax1.legend()\n",
    "ax1.grid(\"on\")\n",
    "ax2.plot(gmid, gdsw_tru, label=\"Observation\")\n",
    "ax2.plot(gmid, gdsw_prd, label=\"Prediction\")\n",
    "ax2.set_xlabel(\"$g_{m} / I_{d} ~ [V^{-1}]$\")\n",
    "ax2.set_ylabel(\"$g_{ds} / W$ [S/m]\")\n",
    "ax2.set_yscale(\"log\")\n",
    "ax2.legend()\n",
    "ax2.grid(\"on\")\n",
    "ax3.axvline(x=L_tru, label=\"Observation\")\n",
    "ax3.plot(L_r, L_ρ, label=\"Prediction\", color=\"tab:orange\")\n",
    "ax3.fill_between( L_r[(L_r > (L_μ - L_σ)) & (L_r < (L_μ + L_σ))]\n",
    "                , L_ρ[(L_r > (L_μ - L_σ)) & (L_r < (L_μ + L_σ))]\n",
    "                , 0, alpha=0.5 )\n",
    "ax3.set_xlabel(\"$L ~ [m]$\")\n",
    "ax3.set_ylabel(\"Density\")\n",
    "ax3.ticklabel_format(axis='both', style='sci', scilimits=(-2,2))\n",
    "ax3.legend()\n",
    "ax3.grid(\"on\")"
   ]
  },
  {
   "cell_type": "markdown",
   "id": "cb6028aa-7443-4f5a-abef-a4689c5f19bd",
   "metadata": {},
   "source": [
    "The resulting model shows how well the predictions agree with the ground truth."
   ]
  }
 ],
 "metadata": {
  "kernelspec": {
   "display_name": "Python 3",
   "language": "python",
   "name": "python3"
  },
  "language_info": {
   "codemirror_mode": {
    "name": "ipython",
    "version": 3
   },
   "file_extension": ".py",
   "mimetype": "text/x-python",
   "name": "python",
   "nbconvert_exporter": "python",
   "pygments_lexer": "ipython3",
   "version": "3.9.5"
  }
 },
 "nbformat": 4,
 "nbformat_minor": 5
}
