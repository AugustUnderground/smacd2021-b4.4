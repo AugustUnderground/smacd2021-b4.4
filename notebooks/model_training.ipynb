{
 "cells": [
  {
   "cell_type": "markdown",
   "id": "76fb13c8-3262-4791-afbb-7f9a8255fc57",
   "metadata": {},
   "source": [
    "# Model Training\n",
    "\n",
    "## Prerequisites\n",
    "\n",
    "To run this notebook the `data_path` variable has to point to the location of a valid dataset. If you don't have any data an example dataset can be obtained by characterizing [PTM](http://ptm.asu.edu/) transistor models as shown in [pyrdict](https://github.com/AugustUnderground/pyrdict).\n",
    "\n",
    "Additionally, for training [precept](https://github.com/electronics-and-drives/precept) has to be installed manually."
   ]
  },
  {
   "cell_type": "markdown",
   "id": "cd2ddf34-a4e7-4fb0-834b-b50b43d5bf97",
   "metadata": {},
   "source": [
    "## Setup"
   ]
  },
  {
   "cell_type": "code",
   "execution_count": 1,
   "id": "a595a75d-7e74-4638-bba1-b0d361182cd1",
   "metadata": {},
   "outputs": [],
   "source": [
    "import os\n",
    "import torch\n",
    "import h5py as h5\n",
    "import numpy as np\n",
    "import torch as pt\n",
    "import pandas as pd\n",
    "import joblib as jl\n",
    "from datetime import datetime as dt\n",
    "from functools import partial\n",
    "from matplotlib import pyplot as plt\n",
    "from sklearn.preprocessing import MinMaxScaler, minmax_scale"
   ]
  },
  {
   "cell_type": "code",
   "execution_count": 2,
   "id": "48de9967-aa18-4596-9f12-a042c10a7465",
   "metadata": {},
   "outputs": [],
   "source": [
    "from pytorch_lightning import Trainer\n",
    "from precept import PreceptModule, PreceptDataFrameModule"
   ]
  },
  {
   "cell_type": "code",
   "execution_count": 3,
   "id": "2c3d022e-ca32-4e57-9af5-d880c2658825",
   "metadata": {},
   "outputs": [],
   "source": [
    "%matplotlib notebook"
   ]
  },
  {
   "cell_type": "code",
   "execution_count": 4,
   "id": "ed536ec7-b66f-4dd5-987a-f89556386c99",
   "metadata": {},
   "outputs": [],
   "source": [
    "num_gpus = pt.cuda.device_count() if pt.cuda.is_available() else None"
   ]
  },
  {
   "cell_type": "markdown",
   "id": "54928840-4156-481b-83fb-8f6e50030830",
   "metadata": {},
   "source": [
    "## Data\n",
    "\n",
    "**Note**: This part has to be adjusted according to the location and shape of custom datasets.\n",
    "\n",
    "- Adjust `data_path` accordingly, so it points to a your $\\frac{g_{\\mathrm{m}}}{I_{\\mathrm{d}}}$ look up table.\n",
    "- Depending on the shape of the dataset and file format it may need to be read differently.\n",
    "\n",
    "If the data is generated with [pyrdict](https://github.com/AugustUnderground/pyrdict) the resulting `h5` is structured such that each parameter is a group."
   ]
  },
  {
   "cell_type": "code",
   "execution_count": 5,
   "id": "c2f65be6-7e73-485b-9617-318cc6ae755c",
   "metadata": {},
   "outputs": [],
   "source": [
    "device_type = \"nmos\"\n",
    "device_tech = \"90nm\"\n",
    "device_name = \"ptm\"\n",
    "data_path   = f\"../data/{device_tech}_bulk_{device_type}.h5\""
   ]
  },
  {
   "cell_type": "code",
   "execution_count": 6,
   "id": "d456b7ee-90f6-4c09-8d78-6819495d878f",
   "metadata": {},
   "outputs": [],
   "source": [
    "with h5.File(data_path, \"r\") as data_base:\n",
    "    column_names = list(data_base.keys())\n",
    "    data_matrix  = np.transpose(np.array([data_base[c] for c in column_names]))\n",
    "    data_frame   = pd.DataFrame(data_matrix, columns=column_names).dropna()"
   ]
  },
  {
   "cell_type": "markdown",
   "id": "67960749-ee8b-435b-bc86-e141c36e3688",
   "metadata": {},
   "source": [
    "### Preprocesing and Filtering\n",
    "\n",
    "Only the data necessary for preprocessing and the function mappings is kept, everything else can be filtered out."
   ]
  },
  {
   "cell_type": "code",
   "execution_count": 7,
   "id": "059706db-2fe1-41f5-b078-4fe251da6f77",
   "metadata": {},
   "outputs": [],
   "source": [
    "params   = [ \"Vgs\", \"Vds\", \"Vbs\", \"L\", \"W\"\n",
    "           , \"gmid\", \"fug\", \"vdsat\", \"a0\"\n",
    "           , \"jd\", \"id\", \"gm\", \"gds\" ]\n",
    "data_raw = data_frame[params]"
   ]
  },
  {
   "cell_type": "markdown",
   "id": "72d5038b-6a39-4c77-b4e6-d257efc38d0e",
   "metadata": {},
   "source": [
    "Since in the vast majority of cases a device is desired to be in saturation all other cases are filtered out."
   ]
  },
  {
   "cell_type": "code",
   "execution_count": 8,
   "id": "11b92e74-ee98-4aab-bcb7-d615a8f5a188",
   "metadata": {},
   "outputs": [
    {
     "data": {
      "text/html": [
       "<div>\n",
       "<style scoped>\n",
       "    .dataframe tbody tr th:only-of-type {\n",
       "        vertical-align: middle;\n",
       "    }\n",
       "\n",
       "    .dataframe tbody tr th {\n",
       "        vertical-align: top;\n",
       "    }\n",
       "\n",
       "    .dataframe thead th {\n",
       "        text-align: right;\n",
       "    }\n",
       "</style>\n",
       "<table border=\"1\" class=\"dataframe\">\n",
       "  <thead>\n",
       "    <tr style=\"text-align: right;\">\n",
       "      <th></th>\n",
       "      <th>Vgs</th>\n",
       "      <th>Vds</th>\n",
       "      <th>Vbs</th>\n",
       "      <th>L</th>\n",
       "      <th>W</th>\n",
       "      <th>gmid</th>\n",
       "      <th>fug</th>\n",
       "      <th>vdsat</th>\n",
       "      <th>a0</th>\n",
       "      <th>jd</th>\n",
       "      <th>id</th>\n",
       "      <th>gm</th>\n",
       "      <th>gds</th>\n",
       "    </tr>\n",
       "  </thead>\n",
       "  <tbody>\n",
       "    <tr>\n",
       "      <th>count</th>\n",
       "      <td>1200.000000</td>\n",
       "      <td>1200.000000</td>\n",
       "      <td>1.200000e+03</td>\n",
       "      <td>1.200000e+03</td>\n",
       "      <td>1200.000000</td>\n",
       "      <td>1200.000000</td>\n",
       "      <td>1.200000e+03</td>\n",
       "      <td>1200.000000</td>\n",
       "      <td>1200.000000</td>\n",
       "      <td>1200.000000</td>\n",
       "      <td>1.200000e+03</td>\n",
       "      <td>1.200000e+03</td>\n",
       "      <td>1.200000e+03</td>\n",
       "    </tr>\n",
       "    <tr>\n",
       "      <th>mean</th>\n",
       "      <td>0.604988</td>\n",
       "      <td>0.605000</td>\n",
       "      <td>3.717822e-09</td>\n",
       "      <td>5.075000e-06</td>\n",
       "      <td>0.000075</td>\n",
       "      <td>11.808869</td>\n",
       "      <td>6.372252e+09</td>\n",
       "      <td>0.252597</td>\n",
       "      <td>308.244902</td>\n",
       "      <td>30.798201</td>\n",
       "      <td>2.309865e-03</td>\n",
       "      <td>6.531383e-03</td>\n",
       "      <td>1.533531e-04</td>\n",
       "    </tr>\n",
       "    <tr>\n",
       "      <th>std</th>\n",
       "      <td>0.346527</td>\n",
       "      <td>0.346543</td>\n",
       "      <td>1.368803e-08</td>\n",
       "      <td>3.144863e-06</td>\n",
       "      <td>0.000000</td>\n",
       "      <td>9.293653</td>\n",
       "      <td>2.246506e+10</td>\n",
       "      <td>0.202448</td>\n",
       "      <td>186.647671</td>\n",
       "      <td>97.946921</td>\n",
       "      <td>7.346019e-03</td>\n",
       "      <td>1.630982e-02</td>\n",
       "      <td>5.800625e-04</td>\n",
       "    </tr>\n",
       "    <tr>\n",
       "      <th>min</th>\n",
       "      <td>0.010000</td>\n",
       "      <td>0.010000</td>\n",
       "      <td>2.476312e-14</td>\n",
       "      <td>1.500000e-07</td>\n",
       "      <td>0.000075</td>\n",
       "      <td>1.402050</td>\n",
       "      <td>3.244685e+02</td>\n",
       "      <td>0.041947</td>\n",
       "      <td>0.312317</td>\n",
       "      <td>0.000003</td>\n",
       "      <td>2.539053e-10</td>\n",
       "      <td>6.790613e-09</td>\n",
       "      <td>3.972947e-09</td>\n",
       "    </tr>\n",
       "    <tr>\n",
       "      <th>25%</th>\n",
       "      <td>0.307500</td>\n",
       "      <td>0.307500</td>\n",
       "      <td>6.023953e-13</td>\n",
       "      <td>2.338889e-06</td>\n",
       "      <td>0.000075</td>\n",
       "      <td>3.105885</td>\n",
       "      <td>7.796667e+06</td>\n",
       "      <td>0.049042</td>\n",
       "      <td>164.463758</td>\n",
       "      <td>0.049760</td>\n",
       "      <td>3.731991e-06</td>\n",
       "      <td>7.985212e-05</td>\n",
       "      <td>2.196382e-07</td>\n",
       "    </tr>\n",
       "    <tr>\n",
       "      <th>50%</th>\n",
       "      <td>0.604999</td>\n",
       "      <td>0.605000</td>\n",
       "      <td>1.946944e-12</td>\n",
       "      <td>5.075000e-06</td>\n",
       "      <td>0.000075</td>\n",
       "      <td>7.858949</td>\n",
       "      <td>3.909210e+07</td>\n",
       "      <td>0.204439</td>\n",
       "      <td>317.307761</td>\n",
       "      <td>3.725840</td>\n",
       "      <td>2.794380e-04</td>\n",
       "      <td>1.729884e-03</td>\n",
       "      <td>4.108271e-06</td>\n",
       "    </tr>\n",
       "    <tr>\n",
       "      <th>75%</th>\n",
       "      <td>0.902486</td>\n",
       "      <td>0.902500</td>\n",
       "      <td>1.963356e-10</td>\n",
       "      <td>7.811111e-06</td>\n",
       "      <td>0.000075</td>\n",
       "      <td>21.654458</td>\n",
       "      <td>1.896120e+08</td>\n",
       "      <td>0.424186</td>\n",
       "      <td>447.174792</td>\n",
       "      <td>15.575919</td>\n",
       "      <td>1.168194e-03</td>\n",
       "      <td>3.759085e-03</td>\n",
       "      <td>1.358573e-05</td>\n",
       "    </tr>\n",
       "    <tr>\n",
       "      <th>max</th>\n",
       "      <td>1.199914</td>\n",
       "      <td>1.200000</td>\n",
       "      <td>1.379620e-07</td>\n",
       "      <td>1.000000e-05</td>\n",
       "      <td>0.000075</td>\n",
       "      <td>26.747242</td>\n",
       "      <td>9.754683e+10</td>\n",
       "      <td>0.671173</td>\n",
       "      <td>675.272394</td>\n",
       "      <td>718.132061</td>\n",
       "      <td>5.385990e-02</td>\n",
       "      <td>7.557484e-02</td>\n",
       "      <td>3.434507e-03</td>\n",
       "    </tr>\n",
       "  </tbody>\n",
       "</table>\n",
       "</div>"
      ],
      "text/plain": [
       "               Vgs          Vds           Vbs             L            W  \\\n",
       "count  1200.000000  1200.000000  1.200000e+03  1.200000e+03  1200.000000   \n",
       "mean      0.604988     0.605000  3.717822e-09  5.075000e-06     0.000075   \n",
       "std       0.346527     0.346543  1.368803e-08  3.144863e-06     0.000000   \n",
       "min       0.010000     0.010000  2.476312e-14  1.500000e-07     0.000075   \n",
       "25%       0.307500     0.307500  6.023953e-13  2.338889e-06     0.000075   \n",
       "50%       0.604999     0.605000  1.946944e-12  5.075000e-06     0.000075   \n",
       "75%       0.902486     0.902500  1.963356e-10  7.811111e-06     0.000075   \n",
       "max       1.199914     1.200000  1.379620e-07  1.000000e-05     0.000075   \n",
       "\n",
       "              gmid           fug        vdsat           a0           jd  \\\n",
       "count  1200.000000  1.200000e+03  1200.000000  1200.000000  1200.000000   \n",
       "mean     11.808869  6.372252e+09     0.252597   308.244902    30.798201   \n",
       "std       9.293653  2.246506e+10     0.202448   186.647671    97.946921   \n",
       "min       1.402050  3.244685e+02     0.041947     0.312317     0.000003   \n",
       "25%       3.105885  7.796667e+06     0.049042   164.463758     0.049760   \n",
       "50%       7.858949  3.909210e+07     0.204439   317.307761     3.725840   \n",
       "75%      21.654458  1.896120e+08     0.424186   447.174792    15.575919   \n",
       "max      26.747242  9.754683e+10     0.671173   675.272394   718.132061   \n",
       "\n",
       "                 id            gm           gds  \n",
       "count  1.200000e+03  1.200000e+03  1.200000e+03  \n",
       "mean   2.309865e-03  6.531383e-03  1.533531e-04  \n",
       "std    7.346019e-03  1.630982e-02  5.800625e-04  \n",
       "min    2.539053e-10  6.790613e-09  3.972947e-09  \n",
       "25%    3.731991e-06  7.985212e-05  2.196382e-07  \n",
       "50%    2.794380e-04  1.729884e-03  4.108271e-06  \n",
       "75%    1.168194e-03  3.759085e-03  1.358573e-05  \n",
       "max    5.385990e-02  7.557484e-02  3.434507e-03  "
      ]
     },
     "execution_count": 8,
     "metadata": {},
     "output_type": "execute_result"
    }
   ],
   "source": [
    "data_filtered = data_raw[( (round(data_raw.Vgs, 2) == round(data_raw.Vds, 2))\n",
    "                         & (round(data_raw.Vbs, 2) == 0.0)\n",
    "                         & (data_raw.W == np.random.choice(data_raw.W.unique())))]\n",
    "data_filtered.describe()"
   ]
  },
  {
   "cell_type": "markdown",
   "id": "c6d2356f-ec53-4d02-a417-d9644300dc08",
   "metadata": {},
   "source": [
    "### Mappings\n",
    "\n",
    "For each device ($\\delta \\in [\\mathrm{\"NMOS\"}, \\mathrm{\"PMOS\"}]$) and \n",
    "technology ($\\tau = 90\\,\\mathrm{nm}$ in this case) two mappings ($\\gamma, \\nu$) are trained,\n",
    "where\n",
    "\n",
    "$$\\gamma_{\\mathrm{\\delta,\\tau}} = \n",
    "    \\begin{bmatrix} \n",
    "        \\frac{g_{\\mathrm{m}}}{I_{\\mathrm{d}}} \\\\ f_{\\mathrm{ug}} \n",
    "    \\end{bmatrix} \n",
    "    \\mapsto\n",
    "    \\begin{bmatrix}\n",
    "        J_{\\mathrm{d}} \\\\ L\n",
    "    \\end{bmatrix}$$\n",
    "\n",
    "and\n",
    "    \n",
    "$$\\nu_{\\delta,\\tau} = \n",
    "    \\begin{bmatrix} \n",
    "        v_{\\mathrm{d,sat}} \\\\ f_{\\mathrm{ug}} \n",
    "    \\end{bmatrix} \n",
    "    \\mapsto\n",
    "    \\begin{bmatrix}\n",
    "        J_{\\mathrm{d}} \\\\ L\n",
    "    \\end{bmatrix}$$\n",
    "\n",
    "For this the following `mappings` are defined"
   ]
  },
  {
   "cell_type": "code",
   "execution_count": 14,
   "id": "5d32dac1-4e2f-493c-b163-b05130840c79",
   "metadata": {},
   "outputs": [],
   "source": [
    "mappings = { \"γ\": { \"x\": [\"gmid\", \"fug\"]\n",
    "                  , \"y\": [\"jd\", \"L\", \"a0\"] \n",
    "                  , }\n",
    "           , \"ν\": { \"x\": [\"vdsat\", \"fug\"]\n",
    "                  , \"y\": [\"jd\", \"L\", \"a0\"]\n",
    "                  , }\n",
    "           , }"
   ]
  },
  {
   "cell_type": "markdown",
   "id": "e18c5750-bc07-4bac-a60b-2079d9284b5e",
   "metadata": {},
   "source": [
    "## Training Setup\n",
    "\n",
    "The batch size is deliberatly chosen to be small, based on experience with other datasets but may be increased at will. Same goes for the number of epochs."
   ]
  },
  {
   "cell_type": "code",
   "execution_count": 15,
   "id": "1b64b4e2-b96b-4673-b8a8-0eee1ae0c0bc",
   "metadata": {},
   "outputs": [],
   "source": [
    "batch_size = 2000\n",
    "test_split = 0.2\n",
    "num_epochs = 42"
   ]
  },
  {
   "cell_type": "markdown",
   "id": "7bbcc032-64f7-4b9b-b07a-49fd9a76a5cd",
   "metadata": {},
   "source": [
    "A folder for storing the model will be dynamically created in the root of this repositry each time the notebook is run.\n",
    "All trained models will be located under `models/custom/` and assigned with a timestamp."
   ]
  },
  {
   "cell_type": "code",
   "execution_count": 16,
   "id": "aab8dcd8-d58e-495c-9735-3e13eabb62f1",
   "metadata": {},
   "outputs": [],
   "source": [
    "time_stamp = dt.now().strftime(\"%Y-%m%d-%H%M%S\")\n",
    "model_dir  = f\"../models/custom/{device_tech}-{device_name}-{time_stamp}/\"\n",
    "os.makedirs(model_dir, exist_ok = True)"
   ]
  },
  {
   "cell_type": "markdown",
   "id": "b3c9e14a-4d37-49c9-b2ab-ce4ad2a3ba5c",
   "metadata": {},
   "source": [
    "The `trainingSetup` function is purely for convenience, and returns _precept_ modules for the lightning trainer."
   ]
  },
  {
   "cell_type": "code",
   "execution_count": 17,
   "id": "4b1804eb-d2c6-4f74-ba48-1f3da21d95c7",
   "metadata": {},
   "outputs": [],
   "source": [
    "def trainingSetup(data, params_x, params_y, model_path):\n",
    "    \n",
    "    data = PreceptDataFrameModule( data                    # unecessary columns are filtered out internally\n",
    "                                 , params_x, params_y      # input and output parameters\n",
    "                                 , [], [], [], []          # No transformations\n",
    "                                 , batch_size = batch_size\n",
    "                                 , test_split = test_split\n",
    "                                 , scale      = False      # No need to scale data, we did that before\n",
    "                                 , )\n",
    "    \n",
    "    module = PreceptModule( len(params_x), len(params_y)\n",
    "                          , model_path = model_path\n",
    "                          , )\n",
    "    \n",
    "    return (module, data)"
   ]
  },
  {
   "cell_type": "code",
   "execution_count": 18,
   "id": "327b5eac-d1d7-4e24-bf84-c1518da39725",
   "metadata": {},
   "outputs": [
    {
     "name": "stderr",
     "output_type": "stream",
     "text": [
      "GPU available: True, used: True\n",
      "TPU available: False, using: 0 TPU cores\n",
      "The following callbacks returned in `LightningModule.configure_callbacks` will override existing callbacks passed to Trainer: ModelCheckpoint\n",
      "LOCAL_RANK: 0 - CUDA_VISIBLE_DEVICES: [0]\n",
      "\n",
      "  | Name | Type       | Params\n",
      "------------------------------------\n",
      "0 | net  | Sequential | 1.4 M \n",
      "------------------------------------\n",
      "1.4 M     Trainable params\n",
      "0         Non-trainable params\n",
      "1.4 M     Total params\n",
      "11.038    Total estimated model params size (MB)\n"
     ]
    },
    {
     "name": "stdout",
     "output_type": "stream",
     "text": [
      "Training ptm: γ(['gmid', 'fug']) -> (['jd', 'L', 'a0'])\n"
     ]
    },
    {
     "data": {
      "application/vnd.jupyter.widget-view+json": {
       "model_id": "",
       "version_major": 2,
       "version_minor": 0
      },
      "text/plain": [
       "Validation sanity check: 0it [00:00, ?it/s]"
      ]
     },
     "metadata": {},
     "output_type": "display_data"
    },
    {
     "data": {
      "application/vnd.jupyter.widget-view+json": {
       "model_id": "b7655482400a4312b7724c1cbc220cf4",
       "version_major": 2,
       "version_minor": 0
      },
      "text/plain": [
       "Training: 0it [00:00, ?it/s]"
      ]
     },
     "metadata": {},
     "output_type": "display_data"
    },
    {
     "data": {
      "application/vnd.jupyter.widget-view+json": {
       "model_id": "",
       "version_major": 2,
       "version_minor": 0
      },
      "text/plain": [
       "Validating: 0it [00:00, ?it/s]"
      ]
     },
     "metadata": {},
     "output_type": "display_data"
    },
    {
     "data": {
      "application/vnd.jupyter.widget-view+json": {
       "model_id": "",
       "version_major": 2,
       "version_minor": 0
      },
      "text/plain": [
       "Validating: 0it [00:00, ?it/s]"
      ]
     },
     "metadata": {},
     "output_type": "display_data"
    },
    {
     "data": {
      "application/vnd.jupyter.widget-view+json": {
       "model_id": "",
       "version_major": 2,
       "version_minor": 0
      },
      "text/plain": [
       "Validating: 0it [00:00, ?it/s]"
      ]
     },
     "metadata": {},
     "output_type": "display_data"
    },
    {
     "data": {
      "application/vnd.jupyter.widget-view+json": {
       "model_id": "",
       "version_major": 2,
       "version_minor": 0
      },
      "text/plain": [
       "Validating: 0it [00:00, ?it/s]"
      ]
     },
     "metadata": {},
     "output_type": "display_data"
    },
    {
     "data": {
      "application/vnd.jupyter.widget-view+json": {
       "model_id": "",
       "version_major": 2,
       "version_minor": 0
      },
      "text/plain": [
       "Validating: 0it [00:00, ?it/s]"
      ]
     },
     "metadata": {},
     "output_type": "display_data"
    },
    {
     "data": {
      "application/vnd.jupyter.widget-view+json": {
       "model_id": "",
       "version_major": 2,
       "version_minor": 0
      },
      "text/plain": [
       "Validating: 0it [00:00, ?it/s]"
      ]
     },
     "metadata": {},
     "output_type": "display_data"
    },
    {
     "data": {
      "application/vnd.jupyter.widget-view+json": {
       "model_id": "",
       "version_major": 2,
       "version_minor": 0
      },
      "text/plain": [
       "Validating: 0it [00:00, ?it/s]"
      ]
     },
     "metadata": {},
     "output_type": "display_data"
    },
    {
     "data": {
      "application/vnd.jupyter.widget-view+json": {
       "model_id": "",
       "version_major": 2,
       "version_minor": 0
      },
      "text/plain": [
       "Validating: 0it [00:00, ?it/s]"
      ]
     },
     "metadata": {},
     "output_type": "display_data"
    },
    {
     "data": {
      "application/vnd.jupyter.widget-view+json": {
       "model_id": "",
       "version_major": 2,
       "version_minor": 0
      },
      "text/plain": [
       "Validating: 0it [00:00, ?it/s]"
      ]
     },
     "metadata": {},
     "output_type": "display_data"
    },
    {
     "data": {
      "application/vnd.jupyter.widget-view+json": {
       "model_id": "",
       "version_major": 2,
       "version_minor": 0
      },
      "text/plain": [
       "Validating: 0it [00:00, ?it/s]"
      ]
     },
     "metadata": {},
     "output_type": "display_data"
    },
    {
     "data": {
      "application/vnd.jupyter.widget-view+json": {
       "model_id": "",
       "version_major": 2,
       "version_minor": 0
      },
      "text/plain": [
       "Validating: 0it [00:00, ?it/s]"
      ]
     },
     "metadata": {},
     "output_type": "display_data"
    },
    {
     "data": {
      "application/vnd.jupyter.widget-view+json": {
       "model_id": "",
       "version_major": 2,
       "version_minor": 0
      },
      "text/plain": [
       "Validating: 0it [00:00, ?it/s]"
      ]
     },
     "metadata": {},
     "output_type": "display_data"
    },
    {
     "data": {
      "application/vnd.jupyter.widget-view+json": {
       "model_id": "",
       "version_major": 2,
       "version_minor": 0
      },
      "text/plain": [
       "Validating: 0it [00:00, ?it/s]"
      ]
     },
     "metadata": {},
     "output_type": "display_data"
    },
    {
     "data": {
      "application/vnd.jupyter.widget-view+json": {
       "model_id": "",
       "version_major": 2,
       "version_minor": 0
      },
      "text/plain": [
       "Validating: 0it [00:00, ?it/s]"
      ]
     },
     "metadata": {},
     "output_type": "display_data"
    },
    {
     "data": {
      "application/vnd.jupyter.widget-view+json": {
       "model_id": "",
       "version_major": 2,
       "version_minor": 0
      },
      "text/plain": [
       "Validating: 0it [00:00, ?it/s]"
      ]
     },
     "metadata": {},
     "output_type": "display_data"
    },
    {
     "data": {
      "application/vnd.jupyter.widget-view+json": {
       "model_id": "",
       "version_major": 2,
       "version_minor": 0
      },
      "text/plain": [
       "Validating: 0it [00:00, ?it/s]"
      ]
     },
     "metadata": {},
     "output_type": "display_data"
    },
    {
     "data": {
      "application/vnd.jupyter.widget-view+json": {
       "model_id": "",
       "version_major": 2,
       "version_minor": 0
      },
      "text/plain": [
       "Validating: 0it [00:00, ?it/s]"
      ]
     },
     "metadata": {},
     "output_type": "display_data"
    },
    {
     "data": {
      "application/vnd.jupyter.widget-view+json": {
       "model_id": "",
       "version_major": 2,
       "version_minor": 0
      },
      "text/plain": [
       "Validating: 0it [00:00, ?it/s]"
      ]
     },
     "metadata": {},
     "output_type": "display_data"
    },
    {
     "data": {
      "application/vnd.jupyter.widget-view+json": {
       "model_id": "",
       "version_major": 2,
       "version_minor": 0
      },
      "text/plain": [
       "Validating: 0it [00:00, ?it/s]"
      ]
     },
     "metadata": {},
     "output_type": "display_data"
    },
    {
     "data": {
      "application/vnd.jupyter.widget-view+json": {
       "model_id": "",
       "version_major": 2,
       "version_minor": 0
      },
      "text/plain": [
       "Validating: 0it [00:00, ?it/s]"
      ]
     },
     "metadata": {},
     "output_type": "display_data"
    },
    {
     "data": {
      "application/vnd.jupyter.widget-view+json": {
       "model_id": "",
       "version_major": 2,
       "version_minor": 0
      },
      "text/plain": [
       "Validating: 0it [00:00, ?it/s]"
      ]
     },
     "metadata": {},
     "output_type": "display_data"
    },
    {
     "data": {
      "application/vnd.jupyter.widget-view+json": {
       "model_id": "",
       "version_major": 2,
       "version_minor": 0
      },
      "text/plain": [
       "Validating: 0it [00:00, ?it/s]"
      ]
     },
     "metadata": {},
     "output_type": "display_data"
    },
    {
     "data": {
      "application/vnd.jupyter.widget-view+json": {
       "model_id": "",
       "version_major": 2,
       "version_minor": 0
      },
      "text/plain": [
       "Validating: 0it [00:00, ?it/s]"
      ]
     },
     "metadata": {},
     "output_type": "display_data"
    },
    {
     "data": {
      "application/vnd.jupyter.widget-view+json": {
       "model_id": "",
       "version_major": 2,
       "version_minor": 0
      },
      "text/plain": [
       "Validating: 0it [00:00, ?it/s]"
      ]
     },
     "metadata": {},
     "output_type": "display_data"
    },
    {
     "data": {
      "application/vnd.jupyter.widget-view+json": {
       "model_id": "",
       "version_major": 2,
       "version_minor": 0
      },
      "text/plain": [
       "Validating: 0it [00:00, ?it/s]"
      ]
     },
     "metadata": {},
     "output_type": "display_data"
    },
    {
     "data": {
      "application/vnd.jupyter.widget-view+json": {
       "model_id": "",
       "version_major": 2,
       "version_minor": 0
      },
      "text/plain": [
       "Validating: 0it [00:00, ?it/s]"
      ]
     },
     "metadata": {},
     "output_type": "display_data"
    },
    {
     "data": {
      "application/vnd.jupyter.widget-view+json": {
       "model_id": "",
       "version_major": 2,
       "version_minor": 0
      },
      "text/plain": [
       "Validating: 0it [00:00, ?it/s]"
      ]
     },
     "metadata": {},
     "output_type": "display_data"
    },
    {
     "data": {
      "application/vnd.jupyter.widget-view+json": {
       "model_id": "",
       "version_major": 2,
       "version_minor": 0
      },
      "text/plain": [
       "Validating: 0it [00:00, ?it/s]"
      ]
     },
     "metadata": {},
     "output_type": "display_data"
    },
    {
     "data": {
      "application/vnd.jupyter.widget-view+json": {
       "model_id": "",
       "version_major": 2,
       "version_minor": 0
      },
      "text/plain": [
       "Validating: 0it [00:00, ?it/s]"
      ]
     },
     "metadata": {},
     "output_type": "display_data"
    },
    {
     "data": {
      "application/vnd.jupyter.widget-view+json": {
       "model_id": "",
       "version_major": 2,
       "version_minor": 0
      },
      "text/plain": [
       "Validating: 0it [00:00, ?it/s]"
      ]
     },
     "metadata": {},
     "output_type": "display_data"
    },
    {
     "data": {
      "application/vnd.jupyter.widget-view+json": {
       "model_id": "",
       "version_major": 2,
       "version_minor": 0
      },
      "text/plain": [
       "Validating: 0it [00:00, ?it/s]"
      ]
     },
     "metadata": {},
     "output_type": "display_data"
    },
    {
     "data": {
      "application/vnd.jupyter.widget-view+json": {
       "model_id": "",
       "version_major": 2,
       "version_minor": 0
      },
      "text/plain": [
       "Validating: 0it [00:00, ?it/s]"
      ]
     },
     "metadata": {},
     "output_type": "display_data"
    },
    {
     "data": {
      "application/vnd.jupyter.widget-view+json": {
       "model_id": "",
       "version_major": 2,
       "version_minor": 0
      },
      "text/plain": [
       "Validating: 0it [00:00, ?it/s]"
      ]
     },
     "metadata": {},
     "output_type": "display_data"
    },
    {
     "data": {
      "application/vnd.jupyter.widget-view+json": {
       "model_id": "",
       "version_major": 2,
       "version_minor": 0
      },
      "text/plain": [
       "Validating: 0it [00:00, ?it/s]"
      ]
     },
     "metadata": {},
     "output_type": "display_data"
    },
    {
     "data": {
      "application/vnd.jupyter.widget-view+json": {
       "model_id": "",
       "version_major": 2,
       "version_minor": 0
      },
      "text/plain": [
       "Validating: 0it [00:00, ?it/s]"
      ]
     },
     "metadata": {},
     "output_type": "display_data"
    },
    {
     "data": {
      "application/vnd.jupyter.widget-view+json": {
       "model_id": "",
       "version_major": 2,
       "version_minor": 0
      },
      "text/plain": [
       "Validating: 0it [00:00, ?it/s]"
      ]
     },
     "metadata": {},
     "output_type": "display_data"
    },
    {
     "data": {
      "application/vnd.jupyter.widget-view+json": {
       "model_id": "",
       "version_major": 2,
       "version_minor": 0
      },
      "text/plain": [
       "Validating: 0it [00:00, ?it/s]"
      ]
     },
     "metadata": {},
     "output_type": "display_data"
    },
    {
     "data": {
      "application/vnd.jupyter.widget-view+json": {
       "model_id": "",
       "version_major": 2,
       "version_minor": 0
      },
      "text/plain": [
       "Validating: 0it [00:00, ?it/s]"
      ]
     },
     "metadata": {},
     "output_type": "display_data"
    },
    {
     "data": {
      "application/vnd.jupyter.widget-view+json": {
       "model_id": "",
       "version_major": 2,
       "version_minor": 0
      },
      "text/plain": [
       "Validating: 0it [00:00, ?it/s]"
      ]
     },
     "metadata": {},
     "output_type": "display_data"
    },
    {
     "data": {
      "application/vnd.jupyter.widget-view+json": {
       "model_id": "",
       "version_major": 2,
       "version_minor": 0
      },
      "text/plain": [
       "Validating: 0it [00:00, ?it/s]"
      ]
     },
     "metadata": {},
     "output_type": "display_data"
    },
    {
     "data": {
      "application/vnd.jupyter.widget-view+json": {
       "model_id": "",
       "version_major": 2,
       "version_minor": 0
      },
      "text/plain": [
       "Validating: 0it [00:00, ?it/s]"
      ]
     },
     "metadata": {},
     "output_type": "display_data"
    },
    {
     "data": {
      "application/vnd.jupyter.widget-view+json": {
       "model_id": "",
       "version_major": 2,
       "version_minor": 0
      },
      "text/plain": [
       "Validating: 0it [00:00, ?it/s]"
      ]
     },
     "metadata": {},
     "output_type": "display_data"
    },
    {
     "name": "stderr",
     "output_type": "stream",
     "text": [
      "GPU available: True, used: True\n",
      "TPU available: False, using: 0 TPU cores\n",
      "The following callbacks returned in `LightningModule.configure_callbacks` will override existing callbacks passed to Trainer: ModelCheckpoint\n",
      "LOCAL_RANK: 0 - CUDA_VISIBLE_DEVICES: [0]\n",
      "\n",
      "  | Name | Type       | Params\n",
      "------------------------------------\n",
      "0 | net  | Sequential | 1.4 M \n",
      "------------------------------------\n",
      "1.4 M     Trainable params\n",
      "0         Non-trainable params\n",
      "1.4 M     Total params\n",
      "11.038    Total estimated model params size (MB)\n"
     ]
    },
    {
     "name": "stdout",
     "output_type": "stream",
     "text": [
      "Training ptm: ν(['vdsat', 'fug']) -> (['jd', 'L', 'a0'])\n"
     ]
    },
    {
     "data": {
      "application/vnd.jupyter.widget-view+json": {
       "model_id": "",
       "version_major": 2,
       "version_minor": 0
      },
      "text/plain": [
       "Validation sanity check: 0it [00:00, ?it/s]"
      ]
     },
     "metadata": {},
     "output_type": "display_data"
    },
    {
     "data": {
      "application/vnd.jupyter.widget-view+json": {
       "model_id": "0381341d3e1240868314d7c0d25257fa",
       "version_major": 2,
       "version_minor": 0
      },
      "text/plain": [
       "Training: 0it [00:00, ?it/s]"
      ]
     },
     "metadata": {},
     "output_type": "display_data"
    },
    {
     "data": {
      "application/vnd.jupyter.widget-view+json": {
       "model_id": "",
       "version_major": 2,
       "version_minor": 0
      },
      "text/plain": [
       "Validating: 0it [00:00, ?it/s]"
      ]
     },
     "metadata": {},
     "output_type": "display_data"
    },
    {
     "data": {
      "application/vnd.jupyter.widget-view+json": {
       "model_id": "",
       "version_major": 2,
       "version_minor": 0
      },
      "text/plain": [
       "Validating: 0it [00:00, ?it/s]"
      ]
     },
     "metadata": {},
     "output_type": "display_data"
    },
    {
     "data": {
      "application/vnd.jupyter.widget-view+json": {
       "model_id": "",
       "version_major": 2,
       "version_minor": 0
      },
      "text/plain": [
       "Validating: 0it [00:00, ?it/s]"
      ]
     },
     "metadata": {},
     "output_type": "display_data"
    },
    {
     "data": {
      "application/vnd.jupyter.widget-view+json": {
       "model_id": "",
       "version_major": 2,
       "version_minor": 0
      },
      "text/plain": [
       "Validating: 0it [00:00, ?it/s]"
      ]
     },
     "metadata": {},
     "output_type": "display_data"
    },
    {
     "data": {
      "application/vnd.jupyter.widget-view+json": {
       "model_id": "",
       "version_major": 2,
       "version_minor": 0
      },
      "text/plain": [
       "Validating: 0it [00:00, ?it/s]"
      ]
     },
     "metadata": {},
     "output_type": "display_data"
    },
    {
     "data": {
      "application/vnd.jupyter.widget-view+json": {
       "model_id": "",
       "version_major": 2,
       "version_minor": 0
      },
      "text/plain": [
       "Validating: 0it [00:00, ?it/s]"
      ]
     },
     "metadata": {},
     "output_type": "display_data"
    },
    {
     "data": {
      "application/vnd.jupyter.widget-view+json": {
       "model_id": "",
       "version_major": 2,
       "version_minor": 0
      },
      "text/plain": [
       "Validating: 0it [00:00, ?it/s]"
      ]
     },
     "metadata": {},
     "output_type": "display_data"
    },
    {
     "data": {
      "application/vnd.jupyter.widget-view+json": {
       "model_id": "",
       "version_major": 2,
       "version_minor": 0
      },
      "text/plain": [
       "Validating: 0it [00:00, ?it/s]"
      ]
     },
     "metadata": {},
     "output_type": "display_data"
    },
    {
     "data": {
      "application/vnd.jupyter.widget-view+json": {
       "model_id": "",
       "version_major": 2,
       "version_minor": 0
      },
      "text/plain": [
       "Validating: 0it [00:00, ?it/s]"
      ]
     },
     "metadata": {},
     "output_type": "display_data"
    },
    {
     "data": {
      "application/vnd.jupyter.widget-view+json": {
       "model_id": "",
       "version_major": 2,
       "version_minor": 0
      },
      "text/plain": [
       "Validating: 0it [00:00, ?it/s]"
      ]
     },
     "metadata": {},
     "output_type": "display_data"
    },
    {
     "data": {
      "application/vnd.jupyter.widget-view+json": {
       "model_id": "",
       "version_major": 2,
       "version_minor": 0
      },
      "text/plain": [
       "Validating: 0it [00:00, ?it/s]"
      ]
     },
     "metadata": {},
     "output_type": "display_data"
    },
    {
     "data": {
      "application/vnd.jupyter.widget-view+json": {
       "model_id": "",
       "version_major": 2,
       "version_minor": 0
      },
      "text/plain": [
       "Validating: 0it [00:00, ?it/s]"
      ]
     },
     "metadata": {},
     "output_type": "display_data"
    },
    {
     "data": {
      "application/vnd.jupyter.widget-view+json": {
       "model_id": "",
       "version_major": 2,
       "version_minor": 0
      },
      "text/plain": [
       "Validating: 0it [00:00, ?it/s]"
      ]
     },
     "metadata": {},
     "output_type": "display_data"
    },
    {
     "data": {
      "application/vnd.jupyter.widget-view+json": {
       "model_id": "",
       "version_major": 2,
       "version_minor": 0
      },
      "text/plain": [
       "Validating: 0it [00:00, ?it/s]"
      ]
     },
     "metadata": {},
     "output_type": "display_data"
    },
    {
     "data": {
      "application/vnd.jupyter.widget-view+json": {
       "model_id": "",
       "version_major": 2,
       "version_minor": 0
      },
      "text/plain": [
       "Validating: 0it [00:00, ?it/s]"
      ]
     },
     "metadata": {},
     "output_type": "display_data"
    },
    {
     "data": {
      "application/vnd.jupyter.widget-view+json": {
       "model_id": "",
       "version_major": 2,
       "version_minor": 0
      },
      "text/plain": [
       "Validating: 0it [00:00, ?it/s]"
      ]
     },
     "metadata": {},
     "output_type": "display_data"
    },
    {
     "data": {
      "application/vnd.jupyter.widget-view+json": {
       "model_id": "",
       "version_major": 2,
       "version_minor": 0
      },
      "text/plain": [
       "Validating: 0it [00:00, ?it/s]"
      ]
     },
     "metadata": {},
     "output_type": "display_data"
    },
    {
     "data": {
      "application/vnd.jupyter.widget-view+json": {
       "model_id": "",
       "version_major": 2,
       "version_minor": 0
      },
      "text/plain": [
       "Validating: 0it [00:00, ?it/s]"
      ]
     },
     "metadata": {},
     "output_type": "display_data"
    },
    {
     "data": {
      "application/vnd.jupyter.widget-view+json": {
       "model_id": "",
       "version_major": 2,
       "version_minor": 0
      },
      "text/plain": [
       "Validating: 0it [00:00, ?it/s]"
      ]
     },
     "metadata": {},
     "output_type": "display_data"
    },
    {
     "data": {
      "application/vnd.jupyter.widget-view+json": {
       "model_id": "",
       "version_major": 2,
       "version_minor": 0
      },
      "text/plain": [
       "Validating: 0it [00:00, ?it/s]"
      ]
     },
     "metadata": {},
     "output_type": "display_data"
    },
    {
     "data": {
      "application/vnd.jupyter.widget-view+json": {
       "model_id": "",
       "version_major": 2,
       "version_minor": 0
      },
      "text/plain": [
       "Validating: 0it [00:00, ?it/s]"
      ]
     },
     "metadata": {},
     "output_type": "display_data"
    },
    {
     "data": {
      "application/vnd.jupyter.widget-view+json": {
       "model_id": "",
       "version_major": 2,
       "version_minor": 0
      },
      "text/plain": [
       "Validating: 0it [00:00, ?it/s]"
      ]
     },
     "metadata": {},
     "output_type": "display_data"
    },
    {
     "data": {
      "application/vnd.jupyter.widget-view+json": {
       "model_id": "",
       "version_major": 2,
       "version_minor": 0
      },
      "text/plain": [
       "Validating: 0it [00:00, ?it/s]"
      ]
     },
     "metadata": {},
     "output_type": "display_data"
    },
    {
     "data": {
      "application/vnd.jupyter.widget-view+json": {
       "model_id": "",
       "version_major": 2,
       "version_minor": 0
      },
      "text/plain": [
       "Validating: 0it [00:00, ?it/s]"
      ]
     },
     "metadata": {},
     "output_type": "display_data"
    },
    {
     "data": {
      "application/vnd.jupyter.widget-view+json": {
       "model_id": "",
       "version_major": 2,
       "version_minor": 0
      },
      "text/plain": [
       "Validating: 0it [00:00, ?it/s]"
      ]
     },
     "metadata": {},
     "output_type": "display_data"
    },
    {
     "data": {
      "application/vnd.jupyter.widget-view+json": {
       "model_id": "",
       "version_major": 2,
       "version_minor": 0
      },
      "text/plain": [
       "Validating: 0it [00:00, ?it/s]"
      ]
     },
     "metadata": {},
     "output_type": "display_data"
    },
    {
     "data": {
      "application/vnd.jupyter.widget-view+json": {
       "model_id": "",
       "version_major": 2,
       "version_minor": 0
      },
      "text/plain": [
       "Validating: 0it [00:00, ?it/s]"
      ]
     },
     "metadata": {},
     "output_type": "display_data"
    },
    {
     "data": {
      "application/vnd.jupyter.widget-view+json": {
       "model_id": "",
       "version_major": 2,
       "version_minor": 0
      },
      "text/plain": [
       "Validating: 0it [00:00, ?it/s]"
      ]
     },
     "metadata": {},
     "output_type": "display_data"
    },
    {
     "data": {
      "application/vnd.jupyter.widget-view+json": {
       "model_id": "",
       "version_major": 2,
       "version_minor": 0
      },
      "text/plain": [
       "Validating: 0it [00:00, ?it/s]"
      ]
     },
     "metadata": {},
     "output_type": "display_data"
    },
    {
     "data": {
      "application/vnd.jupyter.widget-view+json": {
       "model_id": "",
       "version_major": 2,
       "version_minor": 0
      },
      "text/plain": [
       "Validating: 0it [00:00, ?it/s]"
      ]
     },
     "metadata": {},
     "output_type": "display_data"
    },
    {
     "data": {
      "application/vnd.jupyter.widget-view+json": {
       "model_id": "",
       "version_major": 2,
       "version_minor": 0
      },
      "text/plain": [
       "Validating: 0it [00:00, ?it/s]"
      ]
     },
     "metadata": {},
     "output_type": "display_data"
    },
    {
     "data": {
      "application/vnd.jupyter.widget-view+json": {
       "model_id": "",
       "version_major": 2,
       "version_minor": 0
      },
      "text/plain": [
       "Validating: 0it [00:00, ?it/s]"
      ]
     },
     "metadata": {},
     "output_type": "display_data"
    },
    {
     "data": {
      "application/vnd.jupyter.widget-view+json": {
       "model_id": "",
       "version_major": 2,
       "version_minor": 0
      },
      "text/plain": [
       "Validating: 0it [00:00, ?it/s]"
      ]
     },
     "metadata": {},
     "output_type": "display_data"
    },
    {
     "data": {
      "application/vnd.jupyter.widget-view+json": {
       "model_id": "",
       "version_major": 2,
       "version_minor": 0
      },
      "text/plain": [
       "Validating: 0it [00:00, ?it/s]"
      ]
     },
     "metadata": {},
     "output_type": "display_data"
    },
    {
     "data": {
      "application/vnd.jupyter.widget-view+json": {
       "model_id": "",
       "version_major": 2,
       "version_minor": 0
      },
      "text/plain": [
       "Validating: 0it [00:00, ?it/s]"
      ]
     },
     "metadata": {},
     "output_type": "display_data"
    },
    {
     "data": {
      "application/vnd.jupyter.widget-view+json": {
       "model_id": "",
       "version_major": 2,
       "version_minor": 0
      },
      "text/plain": [
       "Validating: 0it [00:00, ?it/s]"
      ]
     },
     "metadata": {},
     "output_type": "display_data"
    },
    {
     "data": {
      "application/vnd.jupyter.widget-view+json": {
       "model_id": "",
       "version_major": 2,
       "version_minor": 0
      },
      "text/plain": [
       "Validating: 0it [00:00, ?it/s]"
      ]
     },
     "metadata": {},
     "output_type": "display_data"
    },
    {
     "data": {
      "application/vnd.jupyter.widget-view+json": {
       "model_id": "",
       "version_major": 2,
       "version_minor": 0
      },
      "text/plain": [
       "Validating: 0it [00:00, ?it/s]"
      ]
     },
     "metadata": {},
     "output_type": "display_data"
    },
    {
     "data": {
      "application/vnd.jupyter.widget-view+json": {
       "model_id": "",
       "version_major": 2,
       "version_minor": 0
      },
      "text/plain": [
       "Validating: 0it [00:00, ?it/s]"
      ]
     },
     "metadata": {},
     "output_type": "display_data"
    },
    {
     "data": {
      "application/vnd.jupyter.widget-view+json": {
       "model_id": "",
       "version_major": 2,
       "version_minor": 0
      },
      "text/plain": [
       "Validating: 0it [00:00, ?it/s]"
      ]
     },
     "metadata": {},
     "output_type": "display_data"
    },
    {
     "data": {
      "application/vnd.jupyter.widget-view+json": {
       "model_id": "",
       "version_major": 2,
       "version_minor": 0
      },
      "text/plain": [
       "Validating: 0it [00:00, ?it/s]"
      ]
     },
     "metadata": {},
     "output_type": "display_data"
    },
    {
     "data": {
      "application/vnd.jupyter.widget-view+json": {
       "model_id": "",
       "version_major": 2,
       "version_minor": 0
      },
      "text/plain": [
       "Validating: 0it [00:00, ?it/s]"
      ]
     },
     "metadata": {},
     "output_type": "display_data"
    }
   ],
   "source": [
    "for mapping, params in mappings.items():\n",
    "    print(f\"Training {device_name}: {mapping}({params['x']}) -> ({params['y']})\")\n",
    "    \n",
    "    model_pre   = f\"{model_dir}/{'v' if mapping == 'ν' else 'g'}-{device_type}-{device_tech}\"\n",
    "    \n",
    "    scale_x     = MinMaxScaler()\n",
    "    scale_y     = MinMaxScaler()\n",
    "    \n",
    "    scaled_x    = scale_x.fit_transform(data_filtered[params['x']].values).T\n",
    "    scaled_y    = scale_y.fit_transform(data_filtered[params['y']].values).T\n",
    "    \n",
    "    data_scaled = pd.DataFrame( np.vstack((scaled_x, scaled_y)).T\n",
    "                               , columns = (params['x'] + params['y']) )\n",
    "    \n",
    "    module,data = trainingSetup(data_scaled, params['x'], params['y'], model_dir)\n",
    "    \n",
    "    trainer     = Trainer( gpus                = num_gpus\n",
    "                         , max_epochs          = num_epochs\n",
    "                         , precision           = 64\n",
    "                         , checkpoint_callback = True\n",
    "                         , default_root_dir    = model_dir\n",
    "                         , )\n",
    "    \n",
    "    trainer.fit(module, data)\n",
    "    trainer.save_checkpoint(f\"{model_pre}.cktp\")\n",
    "    \n",
    "    jl.dump(scale_x, f\"{model_pre}.X\")\n",
    "    jl.dump(scale_y, f\"{model_pre}.Y\")"
   ]
  },
  {
   "cell_type": "code",
   "execution_count": null,
   "id": "9a300e88-02b8-41cd-977f-9049b6503e32",
   "metadata": {},
   "outputs": [],
   "source": []
  }
 ],
 "metadata": {
  "kernelspec": {
   "display_name": "Python 3",
   "language": "python",
   "name": "python3"
  },
  "language_info": {
   "codemirror_mode": {
    "name": "ipython",
    "version": 3
   },
   "file_extension": ".py",
   "mimetype": "text/x-python",
   "name": "python",
   "nbconvert_exporter": "python",
   "pygments_lexer": "ipython3",
   "version": "3.9.5"
  }
 },
 "nbformat": 4,
 "nbformat_minor": 5
}
