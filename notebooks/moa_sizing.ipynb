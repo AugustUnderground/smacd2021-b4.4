{
 "cells": [
  {
   "cell_type": "markdown",
   "id": "f90e8f7a-e70f-4a79-8a75-11e637b6b92e",
   "metadata": {},
   "source": [
    "# Miller Op Amp Sizing\n",
    "\n",
    "In this notebook the models trained in `model_training.ipynb` are used to size a Miller OpAmp shown in the following figure for two technologies as described in the paper and presentation.\n",
    "\n",
    "![Miller Operational Amplifier](./fig/moa.png)"
   ]
  },
  {
   "cell_type": "code",
   "execution_count": 1,
   "id": "93a35fbc-ab51-414b-b764-1f6d2114d347",
   "metadata": {},
   "outputs": [],
   "source": [
    "%matplotlib inline"
   ]
  },
  {
   "cell_type": "code",
   "execution_count": 2,
   "id": "34969c65-db62-404a-9198-f2a32fea949e",
   "metadata": {},
   "outputs": [],
   "source": [
    "import os\n",
    "import torch\n",
    "import numpy as np\n",
    "import torch as pt\n",
    "import pandas as pd\n",
    "import joblib as jl\n",
    "from functools import partial\n",
    "from matplotlib import pyplot as plt\n",
    "from sklearn.preprocessing import MinMaxScaler, minmax_scale\n",
    "\n",
    "from precept import PreceptModule"
   ]
  },
  {
   "cell_type": "code",
   "execution_count": null,
   "id": "08ff996f-cc5f-4642-8c84-e7ed39f914ba",
   "metadata": {},
   "outputs": [],
   "source": [
    "class PrimitiveDevice():\n",
    "    def __init__( self, model_path\n",
    "                , scale_x_path, scale_y_path\n",
    "                , params_x, params_y ):\n",
    "        \n",
    "        self.params_x = params_x\n",
    "        self.params_y = params_y\n",
    "        \n",
    "        self.model = \n",
    "        \n",
    "    def predict(X):"
   ]
  }
 ],
 "metadata": {
  "kernelspec": {
   "display_name": "Python 3",
   "language": "python",
   "name": "python3"
  },
  "language_info": {
   "codemirror_mode": {
    "name": "ipython",
    "version": 3
   },
   "file_extension": ".py",
   "mimetype": "text/x-python",
   "name": "python",
   "nbconvert_exporter": "python",
   "pygments_lexer": "ipython3",
   "version": "3.9.5"
  }
 },
 "nbformat": 4,
 "nbformat_minor": 5
}
