{
 "cells": [
  {
   "cell_type": "markdown",
   "id": "f90e8f7a-e70f-4a79-8a75-11e637b6b92e",
   "metadata": {},
   "source": [
    "# Miller OP\n",
    "\n",
    "In this notebook the circuit shown in the following schematic will be sized to acheive a certain performance.\n",
    "\n",
    "![Miller Operational Amplifier](./fig/moa.png)\n",
    "\n",
    "Unlike `sym_sizing.ipynb` though, here the performance is obtained directly from the **simulator**, instead\n",
    "of approxmiating it with\n",
    "\n",
    "$$ A_{0} = - \\frac{g_{\\mathrm{m},\\mathtt{ND12}}}{ g_{\\mathrm{ds},\\mathtt{ND12}} + g_{\\mathrm{ds},\\mathtt{PCM22}}} \n",
    "       \\cdot \\frac{g_{\\mathrm{m},\\mathtt{PCS}}}{ g_{\\mathrm{ds},\\mathtt{PCS}} + g_{\\mathrm{ds},\\mathtt{NCM13}}} $$"
   ]
  },
  {
   "cell_type": "code",
   "execution_count": 1,
   "id": "93a35fbc-ab51-414b-b764-1f6d2114d347",
   "metadata": {},
   "outputs": [],
   "source": [
    "%matplotlib inline"
   ]
  },
  {
   "cell_type": "code",
   "execution_count": 2,
   "id": "34969c65-db62-404a-9198-f2a32fea949e",
   "metadata": {},
   "outputs": [],
   "source": [
    "import os\n",
    "import torch\n",
    "import numpy as np\n",
    "import torch as pt\n",
    "import pandas as pd\n",
    "import joblib as jl\n",
    "from functools import partial \n",
    "from scipy.interpolate import pchip_interpolate, interp1d\n",
    "from scipy.optimize import minimize\n",
    "from skopt import gp_minimize\n",
    "from sklearn.preprocessing import MinMaxScaler, minmax_scale\n",
    "from matplotlib import pyplot as plt"
   ]
  },
  {
   "cell_type": "markdown",
   "id": "187abf49-99c9-44bd-8de9-16fa04abf43a",
   "metadata": {},
   "source": [
    "## Specification\n",
    "\n",
    "The following values are considered a priori knowledge.\n",
    "\n",
    "| Parameter             | Specification |\n",
    "|-----------------------|--------------:|\n",
    "| $V_{\\mathrm{DD}}$     |      $1.2\\,V$ |\n",
    "| $V_{\\mathrm{SS}}$     |      $0.0\\,V$ |\n",
    "| $V_{\\mathrm{in,cm}}$  |      $0.6\\,V$ |\n",
    "| $V_{\\mathrm{out,cm}}$ |      $0.6\\,V$ |\n",
    "| $I_{\\mathtt{B0}}$     |   $10\\,\\mu A$ |\n",
    "| $C_{\\mathrm{L}}$      |     $10\\,p F$ |\n",
    "| $C_{\\mathrm{c}}$      |      $3\\,p F$ |"
   ]
  },
  {
   "cell_type": "code",
   "execution_count": 3,
   "id": "89e391c0-a2ab-427f-8852-3be231339bcd",
   "metadata": {},
   "outputs": [],
   "source": [
    "V_DD  = 1.2\n",
    "V_SS  = 0.0\n",
    "V_ICM = 0.6\n",
    "V_OCM = 0.6\n",
    "I_B0  = 10e-6\n",
    "C_L   = 10e-12\n",
    "C_C   = 3e-12"
   ]
  },
  {
   "cell_type": "markdown",
   "id": "528140b9-c40d-4893-ae4e-9a21ea1b4b30",
   "metadata": {},
   "source": [
    "## Simulator Setup\n",
    "\n",
    "For evaluating the performance, the circuit is simulated with [PySpice](https://pyspice.fabrice-salvaire.fr/)."
   ]
  },
  {
   "cell_type": "code",
   "execution_count": 4,
   "id": "69b3824b-9937-4d35-be9b-5b0fdda25f69",
   "metadata": {},
   "outputs": [],
   "source": [
    "import logging\n",
    "from PySpice.Spice.Netlist import Circuit, SubCircuitFactory\n",
    "from PySpice.Spice.Library import SpiceLibrary\n",
    "from PySpice.Unit import *"
   ]
  },
  {
   "cell_type": "markdown",
   "id": "93d89ed2-2be7-448d-bcd5-6ee62d2f5644",
   "metadata": {},
   "source": [
    "### DUT\n",
    "\n",
    "The Millor Operational Amplifiere shown in the figure above is implemented as a `subckt`."
   ]
  },
  {
   "cell_type": "code",
   "execution_count": 5,
   "id": "c641ce5e-5596-48b3-bc94-87088a338e16",
   "metadata": {},
   "outputs": [],
   "source": [
    "class MOA(SubCircuitFactory):\n",
    "    NAME = \"miller\"\n",
    "    NODES = (10, 11, 12, 13, 14, 15) # REF, INP, INN, OUT, GND, VDD\n",
    "    \n",
    "    def __init__(self):\n",
    "        super().__init__()\n",
    "        # Biasing Current Mirror\n",
    "        self.MOSFET(\"NCM11\" , 10, 10, 14, 14, model = \"nmos\")\n",
    "        self.MOSFET(\"NCM12\" , 16, 10, 14, 14, model = \"nmos\")\n",
    "        \n",
    "        # Differential Pair\n",
    "        self.MOSFET(\"ND11\"  , 17, 11, 16, 14, model = \"nmos\")\n",
    "        self.MOSFET(\"ND12\"  , 18, 12, 16, 14, model = \"nmos\")\n",
    "        \n",
    "        # PMOS Current Mirrors\n",
    "        self.MOSFET(\"PCM21\" , 17, 17, 15, 15, model = \"pmos\")\n",
    "        self.MOSFET(\"PCM22\" , 18, 17, 15, 15, model = \"pmos\")\n",
    "        \n",
    "        # Output Stage\n",
    "        self.MOSFET(\"PCS\"   , 13, 18, 15, 15, model = \"pmos\")\n",
    "        self.MOSFET(\"NCM13\" , 13, 10, 14, 14, model = \"nmos\")\n",
    "        \n",
    "        # Compensation\n",
    "        self.C(\"c\", 18, 13, C_C@u_F)"
   ]
  },
  {
   "cell_type": "markdown",
   "id": "48aec8a1-d7af-47e5-ab51-de052b0c1cf6",
   "metadata": {},
   "source": [
    "**Note**: for other technologies, the corresponding library has to included."
   ]
  },
  {
   "cell_type": "code",
   "execution_count": 6,
   "id": "fe26342b-32c6-4053-bf49-c3edcfb3a67e",
   "metadata": {},
   "outputs": [],
   "source": [
    "spice_library = SpiceLibrary(\"../lib/90nm_bulk.lib\")\n",
    "netlist = Circuit(\"moa_tb\")\n",
    "netlist.include(spice_library[\"nmos\"])\n",
    "netlist.subcircuit(MOA())"
   ]
  },
  {
   "cell_type": "markdown",
   "id": "1a603d31-6fb6-488c-8332-f137b8e503a9",
   "metadata": {},
   "source": [
    "### Testbench\n",
    "\n",
    "An AC-Testbench is setup to analyse the gain, this has to be adjusted for which ever target parameters are of interest."
   ]
  },
  {
   "cell_type": "code",
   "execution_count": 7,
   "id": "e365c520-c620-4427-85a4-c0bf7d5a4b37",
   "metadata": {},
   "outputs": [],
   "source": [
    "netlist.X(\"moa\", \"miller\", \"B\", \"P\", \"N\", \"O\", 0, \"D\")\n",
    "moa   = list(netlist.subcircuits)[0]\n",
    "i_ref = netlist.CurrentSource(\"ref\",  0 , \"B\", I_B0@u_A)\n",
    "v_dd  = netlist.VoltageSource(\"dd\" , \"D\",  0 , V_DD@u_V)\n",
    "v_in  = netlist.VoltageSource(\"in\" , \"N\",  0 , V_ICM@u_V)\n",
    "v_ip  = netlist.SinusoidalVoltageSource( \"ip\", \"P\", \"E\"\n",
    "                                        , dc_offset=0.0@u_V\n",
    "                                        , ac_magnitude=-1.0@u_V\n",
    "                                        , )\n",
    "e_buf = netlist.VoltageControlledVoltageSource(\"in\", \"E\", 0, \"O\", 0, 1.0@u_V)\n",
    "c_l   = netlist.C(\"L\", \"O\", 0, C_L@u_F)"
   ]
  },
  {
   "cell_type": "markdown",
   "id": "e1fe662a-6739-44ce-b435-de7053d661a2",
   "metadata": {},
   "source": [
    "### Simulation\n",
    "\n",
    "The `simulate` function takes a data frame with sizing parameters `W` and `L` as columns and each device in the ciruit as row index.\n",
    "After modiying the corresponding model paramters within the `miller` sub circuit, the previously defined testbench is simulated.\n",
    "Frequency, Gain and Phase vectors are returned for further processing. Additionallly, the Simulated netlist is returned."
   ]
  },
  {
   "cell_type": "code",
   "execution_count": 8,
   "id": "64ea74f4-e96c-49f5-9d92-40820e670ae7",
   "metadata": {},
   "outputs": [],
   "source": [
    "def simulate(sizing_data):\n",
    "    for device in sizing_data.index:\n",
    "        moa.element(device).width  = sizing_data.loc[device].W\n",
    "        moa.element(device).length = sizing_data.loc[device].L\n",
    "    \n",
    "    simulator = netlist.simulator( simulator=\"ngspice-subprocess\"\n",
    "                                 , temperature=27\n",
    "                                 , nominal_temperature=27\n",
    "                                 , )\n",
    "\n",
    "    logging.disable(logging.FATAL)\n",
    "    ac_analysis  = simulator.ac( start_frequency  = 1.0@u_Hz\n",
    "                               , stop_frequency   = 1e11@u_Hz\n",
    "                               , number_of_points = 10\n",
    "                               , variation        = \"dec\"\n",
    "                               , )\n",
    "    \n",
    "    freq  = np.array(ac_analysis.frequency)\n",
    "    gain  = ((20 * np.log10(np.absolute(ac_analysis[\"O\"]))) - (20 * np.log10(np.absolute(ac_analysis[\"P\"]))))\n",
    "    phase = np.angle(ac_analysis[\"O\"], deg=True) - np.angle(ac_analysis[\"N\"], deg=True)\n",
    "    logging.disable(logging.NOTSET)\n",
    "    \n",
    "    return (freq, gain, phase, simulator)"
   ]
  },
  {
   "cell_type": "markdown",
   "id": "ac0e3bf7-cab5-4ed3-a846-8f73eed08d50",
   "metadata": {},
   "source": [
    "With the gain and phase obtained from the AC simulation, the DC-gain, cutoff frequency as well as gain- and phase-margin can be determiend in the `performance` function."
   ]
  },
  {
   "cell_type": "code",
   "execution_count": 9,
   "id": "5a16f8bc-9588-4d39-ad2e-a605b85060c2",
   "metadata": {},
   "outputs": [],
   "source": [
    "def performance(freq, gain, phase):\n",
    "    gf = [gain[np.argsort(gain)], freq[np.argsort(gain)]]\n",
    "    pf = [phase[np.argsort(phase)], freq[np.argsort(phase)]]\n",
    "    \n",
    "    A0dB = pchip_interpolate(freq, gain, [1.0])\n",
    "    A3dB = A0dB - 3.0\n",
    "    f3dB = pchip_interpolate(*gf, [A3dB])\n",
    "    \n",
    "    fug = pchip_interpolate(*gf, [0.0]) if A0dB > 0 else np.ones(1)\n",
    "    fp0 = pchip_interpolate(*pf, [0.0])\n",
    "    \n",
    "    PM = pchip_interpolate(freq, phase, [fug]) if A0dB > 0 else np.zeros(1)\n",
    "    GM = pchip_interpolate(freq, gain, [fp0])\n",
    "    \n",
    "    performances = { \"A0dB\" : A0dB.item() \n",
    "                   , \"f3dB\" : f3dB.item()\n",
    "                   , \"fug\"  : fug.item()\n",
    "                   , \"PM\"   : PM.item()\n",
    "                   , \"GM\"   : GM.item()\n",
    "                   , }\n",
    "    \n",
    "    return performances"
   ]
  },
  {
   "cell_type": "markdown",
   "id": "d6830cba-a365-4ebb-a3e0-33f2322eba92",
   "metadata": {},
   "source": [
    "## Model Setup\n",
    "\n",
    "A class `PrimitiveDevices` is instantiated for each model type (nmos, pmos). Each object provides a `predict` \n",
    "function that evaluates the corresponding model and scales inputs and outputs correspondingly."
   ]
  },
  {
   "cell_type": "code",
   "execution_count": 10,
   "id": "1644580d-93e2-4274-95d1-73eb436b342d",
   "metadata": {},
   "outputs": [],
   "source": [
    "class PrimitiveDevice():\n",
    "    def __init__(self, prefix, params_x, params_y):\n",
    "        self.prefix   = prefix\n",
    "        self.params_x = params_x\n",
    "        self.params_y = params_y\n",
    "        \n",
    "        self.model = pt.jit.load(f\"{self.prefix}/model.pt\")\n",
    "        self.model.cpu()\n",
    "        self.model.eval()\n",
    "        \n",
    "        self.scale_x = jl.load(f\"{self.prefix}/scale.X\")\n",
    "        self.scale_y = jl.load(f\"{self.prefix}/scale.Y\")\n",
    "        \n",
    "    def predict(self, X):\n",
    "        with pt.no_grad():\n",
    "            X.fug = np.log10(X.fug.values)\n",
    "            X_ = self.scale_x.transform(X[params_x].values)\n",
    "            Y_ = self.model(pt.from_numpy(np.float32(X_))).numpy()\n",
    "            Y  = pd.DataFrame( self.scale_y.inverse_transform(Y_)\n",
    "                             , columns=params_y )\n",
    "            Y.jd   = np.power(10, Y.jd.values)\n",
    "            Y.gdsw = np.power(10, Y.gdsw.values)\n",
    "        return pd.DataFrame(Y, columns=self.params_y)"
   ]
  },
  {
   "cell_type": "code",
   "execution_count": 11,
   "id": "b1db634f-b98d-4894-8ffe-212bea3a4a6a",
   "metadata": {},
   "outputs": [],
   "source": [
    "devices           = [ \"MNCM11\", \"MNCM12\", \"MNCM13\" , \"MND11\", \"MND12\"\n",
    "                    , \"MPCM21\", \"MPCM22\", \"MPCS\" ]\n",
    "reference_devices = [ \"MNCM12\", \"MNCM13\", \"MND12\", \"MPCM22\", \"MPCS\" ]"
   ]
  },
  {
   "cell_type": "markdown",
   "id": "c7ea7882-cf3b-468a-9259-c5e961c826fc",
   "metadata": {},
   "source": [
    "The inputs and outputs of the model, trained in `model_training.ipynb` have to specified again."
   ]
  },
  {
   "cell_type": "code",
   "execution_count": 12,
   "id": "8d6f0fb5-543d-40d1-a631-74f66e618f4c",
   "metadata": {},
   "outputs": [],
   "source": [
    "params_x = [\"gmid\", \"fug\", \"Vds\", \"Vbs\"]\n",
    "params_y = [\"jd\", \"L\", \"gdsw\", \"Vgs\"]"
   ]
  },
  {
   "cell_type": "markdown",
   "id": "9796029b-b813-430f-b876-2be4b4b2f104",
   "metadata": {},
   "source": [
    "Initially the symmetrical amplifier is sized with the models for the $90\\,\\mathrm{nm}$ technology. \n",
    "Later this can be changed to any other technology model, yielding similar results."
   ]
  },
  {
   "cell_type": "code",
   "execution_count": 13,
   "id": "17a6f9f7-c488-481c-9e01-5a1f5ae75783",
   "metadata": {},
   "outputs": [],
   "source": [
    "nmos = PrimitiveDevice(\"../models/example/90nm-nmos\", params_x, params_y)\n",
    "pmos = PrimitiveDevice(\"../models/example/90nm-pmos\", params_x, params_y)"
   ]
  },
  {
   "cell_type": "markdown",
   "id": "4a7eb58a-bf49-4dbf-a178-db3cadd38bcd",
   "metadata": {},
   "source": [
    "## Design Procedure\n",
    "\n",
    "![Symmetrical Amplifier](./fig/moa.png)\n",
    "\n",
    "For simplicity in this example, only the $\\frac{g_{\\mathrm{m}}}{I_{\\mathrm{d}}}$ dependend models\n",
    "are considered. Therefore, sizing for all devices is expressed in terms of \n",
    "$\\frac{g_{\\mathrm{m}}}{I_{\\mathrm{d}}}$ and $f_{\\mathrm{ug}}$.\n",
    "\n",
    "$$\\gamma_{\\mathrm{n,p}} \\left ( \\left [ \\frac{g_{\\mathrm{m}}}{I_{\\mathrm{d}}}, f_{\\mathrm{ug}}, V_{\\mathrm{ds}}, V_{\\mathrm{bs}} \\right ]^{\\dagger} \\right ) \n",
    "\\Rightarrow \\left [ L, \\frac{I_{\\mathrm{d}}}{W}, \\frac{g_{\\mathrm{ds}}}{W}, V_{\\mathrm{gs}} \\right ]^{\\dagger}\n",
    "$$\n",
    "\n",
    "First, the specification, given in the table above is considered,\n",
    "from which a biasing current ${I_{\\mathtt{B1}} = \\frac{I_{\\mathrm{B0}}}{2}}$ is defined.\n",
    "This, in turn results in a mirror ratio $M_{\\mathrm{n}} = 1 : 1$ of the NMOS current mirror `NCM1`.\n",
    "The remaining branch current $I_{\\mathtt{B2}} = M_{\\mathrm{p}} \\cdot \\frac{I_{\\mathtt{B2}}}{2}$ is determined as well."
   ]
  },
  {
   "cell_type": "code",
   "execution_count": 14,
   "id": "41792157-bc9d-462d-a839-9be88ef04c73",
   "metadata": {},
   "outputs": [],
   "source": [
    "M_N1  = 1\n",
    "M_N2  = 1\n",
    "I_B1 = I_B0 * M_N1\n",
    "I_B2 = I_B0 * M_N2"
   ]
  },
  {
   "cell_type": "markdown",
   "id": "596896ae-28b8-4d58-9ce9-e69dd1024350",
   "metadata": {},
   "source": [
    "Since the common mode output voltage $V_{\\mathrm{out,cm}} = 0.6$ is known, \n",
    "the sizing procedure starts with the output stage `MPCS` and `MNCM13`:\n",
    "\n",
    "$$ \\gamma_{\\mathrm{p}, \\mathtt{MPCS}} \\left ( \\left [ \\left ( \\frac{g_{\\mathrm{m}}}{I_{\\mathrm{d}}} \\right )_{\\mathtt{MPCS}}\n",
    "                                                    , f_{\\mathrm{ug}, \\mathtt{MPCS}}, (V_{\\mathrm{DD}} - V_{\\mathrm{out,cm}})\n",
    "                                                    , 0.0 \\right ]^{\\dagger} \n",
    "                                     \\right ) $$\n",
    "\n",
    "$$ \\gamma_{\\mathrm{n}, \\mathtt{MNCM13}} \\left ( \\left [ \\left ( \\frac{g_{\\mathrm{m}}}{I_{\\mathrm{d}}} \\right )_{\\mathtt{MNCM13}}\n",
    "                                                      , f_{\\mathrm{ug}, \\mathtt{MNCM13}}, V_{\\mathrm{out,cm}}, 0.0 \\right ]^{\\dagger} \n",
    "                                       \\right ) $$\n",
    "\n",
    "The gate voltage $V_{\\mathrm{gs}, \\mathtt{MPCS}}$ helps guiding the sizing for the differential pair, \n",
    "as well as the PMOS Current Mirror `MPCM2`, which is considered first:\n",
    "\n",
    "$$ \\gamma_{\\mathrm{p}, \\mathtt{MPCM22}} \\left ( \\left [ \\left ( \\frac{g_{\\mathrm{m}}}{I_{\\mathrm{d}}} \\right )_{\\mathtt{MPCM22}}\n",
    "                                                      , f_{\\mathrm{ug}, \\mathtt{MPCM22}}\n",
    "                                                      , (V_{\\mathrm{DD}} -  V_{\\mathrm{gs}, \\mathtt{MPCS}})\n",
    "                                                      , 0.0 \\right ]^{\\dagger} \n",
    "                                       \\right ) $$\n",
    "\n",
    "Sizing the differential pair requires, _guessing_ $V_{\\mathrm{x}} = 0.23\\,\\mathrm{V}$ which is done by considering \n",
    "the fact that 3 devices are stacked and `MNCM1` merely serves as biasing. Therefore:\n",
    "\n",
    "$$ \\gamma_{\\mathrm{n}, \\mathtt{MND12}} \\left ( \\left [ \\left ( \\frac{g_{\\mathrm{m}}}{I_{\\mathrm{d}}} \\right )_{\\mathtt{MND12}}\n",
    "                                                      , f_{\\mathrm{ug}, \\mathtt{MND12}}\n",
    "                                                      , (V_{\\mathrm{DD}} -  V_{\\mathrm{gs}, \\mathtt{MPCS}} - V_{\\mathrm{x}})\n",
    "                                                      , - V_{\\mathrm{x}} \\right ]^{\\dagger} \n",
    "                                      \\right ) $$\n",
    "\n",
    "Subsequently, the biasing current mirror `MNCM1` is sized:\n",
    "\n",
    "$$ \\gamma_{\\mathrm{n}, \\mathtt{MNCM12}} \\left ( \\left [ \\left ( \\frac{g_{\\mathrm{m}}}{I_{\\mathrm{d}}} \\right )_{\\mathtt{MNCM12}}\n",
    "                                                      , f_{\\mathrm{ug}, \\mathtt{MNCM12}}\n",
    "                                                      , V_{\\mathrm{x}}\n",
    "                                                      , 0.0 \\right ]^{\\dagger} \n",
    "                       \\right ) $$"
   ]
  },
  {
   "cell_type": "markdown",
   "id": "5aeff23d-8312-4d15-adc2-bf7ca077f5de",
   "metadata": {},
   "source": [
    "With these five function calls, the sizing of the entire circuit is expressed in terms of eight electrical characteristics.\n",
    "The following function `miller_sizing` takes a `dict` with keys for each _reference device_ $\\in$ \n",
    "`reference_devices = [ \"MNCM12\", \"MNCM13\", \"MND12\", \"MPCM22\", \"MPCS\" ]` and corresponding, desired characteristics. \n",
    "The obtained sizing for each device is propageted to related devices in the same building block and a new `dict` with sizing information is returned."
   ]
  },
  {
   "cell_type": "code",
   "execution_count": 15,
   "id": "6c69216d-1dd5-422d-9158-3aff0dd6725c",
   "metadata": {},
   "outputs": [],
   "source": [
    "def miller_sizing( gmid_pcs, gmid_ncm13, gmid_pcm22, gmid_nd12, gmid_ncm12\n",
    "                 , fug_pcs,  fug_ncm13,  fug_pcm22,  fug_nd12,  fug_ncm12 ):\n",
    "    \n",
    "    ec                 = {}\n",
    "    \n",
    "    ## Common Source Output Stage\n",
    "    input_pcs          = pd.DataFrame( np.array([[gmid_pcs, fug_pcs, (V_DD - V_OCM), 0.0]])\n",
    "                                     , columns=params_x )\n",
    "    ec[\"MPCS\"]         = pmos.predict(input_pcs).join(input_pcs)\n",
    "    ec[\"MPCS\"][\"W\"]    = I_B2 / ec[\"MPCS\"].jd\n",
    "    \n",
    "    ## NMOS Output Stage\n",
    "    input_ncm13        = pd.DataFrame( np.array([[gmid_ncm13, fug_ncm13, V_OCM, 0.0]])\n",
    "                                     , columns=params_x )\n",
    "    ec[\"MNCM13\"]       = nmos.predict(input_ncm13).join(input_ncm13)\n",
    "    ec[\"MNCM13\"][\"W\"]  = I_B2 / ec[\"MNCM13\"].jd\n",
    "    #ec[\"MNCM12\"]       = ec[\"MNCM13\"].copy()     \n",
    "    #ec[\"MNCM11\"]       = ec[\"MNCM13\"].copy()     \n",
    "    #ec[\"MNCM12\"].W     = ec[\"MNCM13\"].W / M_N2\n",
    "    #ec[\"MNCM11\"].W     = ec[\"MNCM13\"].W / M_N1\n",
    "    \n",
    "    ## PMOS Current Mirror MPCM2:\n",
    "    V_GS               = ec[\"MPCS\"].Vgs.values[0]\n",
    "    input_pcm22        = pd.DataFrame( np.array([[ gmid_pcm22, fug_pcm22, (V_DD - V_GS), 0.0]])\n",
    "                                     , columns=params_x )\n",
    "    ec[\"MPCM22\"]       = pmos.predict(input_pcm22).join(input_pcm22)\n",
    "    ec[\"MPCM22\"][\"W\"]  = (I_B1 / 2) / ec[\"MPCM22\"].jd     \n",
    "    ec[\"MPCM21\"]       = ec[\"MPCM22\"]\n",
    "   \n",
    "    ## NMOS Differential Pair NDP1:\n",
    "    V_X                = 0.23\n",
    "    input_nd12         = pd.DataFrame( np.array([[gmid_nd12, fug_nd12, (V_DD - V_GS - V_X), -V_X]])\n",
    "                                     , columns=params_x )\n",
    "    ec[\"MND12\"]        = nmos.predict(input_nd12).join(input_nd12)\n",
    "    ec[\"MND12\"][\"W\"]   = (I_B1 / 2) / ec[\"MND12\"].jd\n",
    "    ec[\"MND11\"]        = ec[\"MND12\"]\n",
    "    \n",
    "    ## NMOS Current Mirror NCM12:\n",
    "    input_ncm12        = pd.DataFrame( np.array([[gmid_ncm12, fug_ncm12, V_X, 0.0]])\n",
    "                                     , columns=params_x )\n",
    "    ec[\"MNCM12\"]       = nmos.predict(input_ncm12).join(input_ncm12)\n",
    "    ec[\"MNCM12\"][\"W\"]  = I_B1 / ec[\"MNCM12\"].jd\n",
    "    ec[\"MNCM11\"]       = ec[\"MNCM12\"].copy()\n",
    "    ec[\"MNCM11\"].W     = ec[\"MNCM11\"].W * M_N1\n",
    "    \n",
    "    ## Calculate/Approximate Operating point Parameters\n",
    "    for dev,val in ec.items():\n",
    "        val[\"gds\"] = val.gdsw * val.W\n",
    "        val[\"id\"]  = val.jd * val.W\n",
    "        val[\"gm\"]  = val.gmid * val.id\n",
    "    \n",
    "    return ec"
   ]
  },
  {
   "cell_type": "markdown",
   "id": "5b0b8fd0-d141-44d7-8baa-c5021e4bd0b6",
   "metadata": {},
   "source": [
    "The operating points for each device are approximated for given electrical characteristics of each _reference device_ in the circuit."
   ]
  },
  {
   "cell_type": "code",
   "execution_count": 16,
   "id": "27e17726-f703-4b51-8cac-7aa323254366",
   "metadata": {},
   "outputs": [],
   "source": [
    "def miller_op_approx( gmid_pcs, gmid_ncm13, gmid_pcm22, gmid_nd12, gmid_ncm12\n",
    "                    , fug_pcs,  fug_ncm13,  fug_pcm22,  fug_nd12,  fug_ncm12 ):\n",
    "    sizing = miller_sizing( gmid_pcs, gmid_ncm13, gmid_pcm22, gmid_nd12, gmid_ncm12\n",
    "                          , fug_pcs,  fug_ncm13,  fug_pcm22,  fug_nd12,  fug_ncm12 )\n",
    "    sizing_data = pd.concat(sizing.values(), names=sizing.keys())\n",
    "    sizing_data.index = sizing.keys()\n",
    "    return sizing_data"
   ]
  },
  {
   "cell_type": "markdown",
   "id": "a37d4b02-4454-4b4a-8065-987aa6be2301",
   "metadata": {},
   "source": [
    "The objective function for reaching a certain gain rearranges the input arguments such that the order allows for partial function application.\n",
    "First, the given $\\log ( f_{\\mathrm{ug}} )$s are transformed to their real value. Then, the operating point is approximated with the machine learning models. \n",
    "Subsequently, the circuit is simulated with the predicted sizing. The resulting a gain is subtracted from the target and returned.\n",
    "\n",
    "$$ \\arg\\min_{e} | A_{0} - A_{0, \\mathrm{target}} | $$\n",
    "\n",
    "Where \n",
    "\n",
    "$$ e = \\left[ \\left ( \\frac{g_{\\mathrm{m}}}{I_{\\mathrm{d}}} \\right )_{\\mathtt{NDP12}} \n",
    "            , f_{\\mathrm{ug},\\mathtt{NCM12}}  \n",
    "            , f_{\\mathrm{ug},\\mathtt{PCS}}  \n",
    "            , f_{\\mathrm{ug},\\mathtt{NCM13}}  \n",
    "            , f_{\\mathrm{ug},\\mathtt{PCM22}}  \n",
    "      \\right]^{\\dagger} $$\n",
    "\n",
    "The remaining parameters are fixed to reduce the search space."
   ]
  },
  {
   "cell_type": "code",
   "execution_count": 17,
   "id": "3a2c7033-88e1-44c5-add6-08ead12126a2",
   "metadata": {},
   "outputs": [],
   "source": [
    "gmid_pcs_fix   = 10.0\n",
    "gmid_ncm12_fix = 10.0\n",
    "gmid_ncm13_fix = 10.0\n",
    "gmid_pcm22_fix = 10.0\n",
    "gmid_nd12_prd  = np.nan\n",
    "\n",
    "fug_nd12_fix   = 8.0\n",
    "fug_ncm12_prd  = np.nan\n",
    "fug_pcs_prd    = np.nan\n",
    "fug_ncm13_prd  = np.nan\n",
    "fug_pcm22_prd  = np.nan"
   ]
  },
  {
   "cell_type": "markdown",
   "id": "0acf97a7-0bb1-417a-9b32-d28b512c4e2e",
   "metadata": {},
   "source": [
    "Gain Target:"
   ]
  },
  {
   "cell_type": "code",
   "execution_count": 18,
   "id": "e6585fab-d57b-4a86-a9ff-196611081189",
   "metadata": {},
   "outputs": [],
   "source": [
    "A0dB_target = 88"
   ]
  },
  {
   "cell_type": "markdown",
   "id": "629f9f8d-6c48-4f28-ab1a-5f11e2b4428f",
   "metadata": {},
   "source": [
    "Cost/Objective function:"
   ]
  },
  {
   "cell_type": "code",
   "execution_count": 19,
   "id": "2dc0dddd-9bb3-443d-8f53-bd72cb9aab1a",
   "metadata": {},
   "outputs": [],
   "source": [
    "def miller_gain_target( gmid_pcs, gmid_ncm12, gmid_ncm13, gmid_pcm22, fug_nd12\n",
    "                      , gmid_nd12, fug_ncm12, fug_pcs, fug_ncm13, fug_pcm22 ):\n",
    "    fug_pcs, fug_ncm13, fug_pcm22, fug_nd12, fug_ncm12 = map( lambda f: np.power(10, f)\n",
    "                                                             , [fug_pcs, fug_ncm13,  fug_pcm22, fug_nd12, fug_ncm12] )\n",
    "    apop = miller_op_approx( gmid_pcs, gmid_ncm13, gmid_pcm22, gmid_nd12, gmid_ncm12\n",
    "                           , fug_pcs, fug_ncm13, fug_pcm22, fug_nd12, fug_ncm12 )\n",
    "    freq, gain, phase, _ = simulate(apop)\n",
    "    perf = performance(freq, gain, phase)\n",
    "    return np.abs(perf[\"A0dB\"] - A0dB_target)"
   ]
  },
  {
   "cell_type": "markdown",
   "id": "5270a866-17d8-473a-9de2-92e0cafda581",
   "metadata": {},
   "source": [
    "Apply fixed parameters"
   ]
  },
  {
   "cell_type": "code",
   "execution_count": 20,
   "id": "9d495751-947d-4932-bc2b-a18c40112848",
   "metadata": {},
   "outputs": [],
   "source": [
    "miller_target = partial( miller_gain_target\n",
    "                       , gmid_pcs_fix, gmid_ncm12_fix, gmid_ncm13_fix, gmid_pcm22_fix\n",
    "                       , fug_nd12_fix )"
   ]
  },
  {
   "cell_type": "markdown",
   "id": "1251403a-0aee-4cce-ba70-6f1a1eade437",
   "metadata": {},
   "source": [
    "The cost function is minimized with a gaussian process.\n",
    "\n",
    "**Note**: For different technologies, the boundaries for $f_{\\mathrm{ug}}$ might need some adjustment."
   ]
  },
  {
   "cell_type": "code",
   "execution_count": 21,
   "id": "10cc2a45-8b27-4cf8-b70b-78b08f9df65d",
   "metadata": {},
   "outputs": [],
   "source": [
    "res = gp_minimize( lambda f: miller_target(*f)      # Gain Target Function \n",
    "                 , [ (5.0, 15.0)                    # Bounds: gmid_nd12\n",
    "                   , (6.0, 11.0)                    # Bounds: log10(fug_pcs)\n",
    "                   , (6.0, 11.0)                    # Bounds: log10(fug_ncm12)\n",
    "                   , (6.0, 11.0)                    # Bounds: log10(fug_ncm13)\n",
    "                   , (6.0, 11.0) ]                  # Bounds: log10(fug_pcm12)\n",
    "                 , acq_func        = \"PI\"           # EI, PI, LCB\n",
    "                 , n_calls         = 20             # Number of function calls\n",
    "                 , n_random_starts = 5              # Number of random init points\n",
    "                 , noise           = 1e-3           # Prediction Noise (Uncertainty)\n",
    "                 , random_state    = 666            # RNG seed\n",
    "                 , n_jobs          = os.cpu_count() # Number of Cores\n",
    "                 , )"
   ]
  },
  {
   "cell_type": "code",
   "execution_count": 22,
   "id": "37181fb8-4859-498c-aace-c5f4a47885cd",
   "metadata": {},
   "outputs": [
    {
     "data": {
      "image/png": "[encoded data removed]",
      "text/plain": [
       "<Figure size 1152x432 with 2 Axes>"
      ]
     },
     "metadata": {
      "needs_background": "light"
     },
     "output_type": "display_data"
    }
   ],
   "source": [
    "fig, (ax1, ax2) = plt.subplots(1,2, figsize=(16,6))\n",
    "ax1.plot( np.array(list(range(res.func_vals.size))) + 1\n",
    "        , np.sort(res.func_vals)[::-1]\n",
    "        , label=f\"$| A_{{0}} - A_{{0,target}} |$\"\n",
    "        , )\n",
    "ax1.axhline( y=res.fun\n",
    "           , ls=\"dashed\"\n",
    "           , color=\"tab:green\"\n",
    "           , label=f\"Final error = {res.fun:.2e}\"\n",
    "           , )\n",
    "ax1.set_ylabel(f\"$| A_{{0}} - A_{{0,target}} |$\")\n",
    "ax1.set_xlabel(\"Number of Simulations\")\n",
    "ax1.set_title(\"Convergence\")\n",
    "ax1.set_yscale(\"log\")\n",
    "ax1.legend()\n",
    "ax1.grid(\"on\")\n",
    "\n",
    "ax2.plot( np.array(list(range(res.func_vals.size))) + 1\n",
    "        , A0dB_target - np.sort(res.func_vals)[::-1]\n",
    "        , label=f\"$A_{{0}}$\"\n",
    "        , )\n",
    "ax2.axhline( y=A0dB_target\n",
    "           , ls=\"dashed\"\n",
    "           , color=\"tab:red\"\n",
    "           , label=f\"$A_{{0,target}} = {A0dB_target}$ dB\"\n",
    "           , )\n",
    "ax2.axhline( y=np.abs(A0dB_target - res.fun)\n",
    "           , ls=\"dotted\"\n",
    "           , color=\"tab:green\"\n",
    "           , label=f\"$A_{{0}} = {np.abs(A0dB_target - res.fun):.2f}$ dB\"\n",
    "           , )\n",
    "ax2.set_ylabel(f\"$A_{{0}}$ [dB]\")\n",
    "ax2.set_xlabel(\"Number of Simulations\")\n",
    "ax2.set_title(\"Gain\")\n",
    "#ax2.set_yscale(\"log\")\n",
    "ax2.legend()\n",
    "ax2.grid(\"on\")"
   ]
  },
  {
   "cell_type": "markdown",
   "id": "acf0f029-b87b-4b07-b689-526f25dff655",
   "metadata": {},
   "source": [
    "From the optimizer results object `res` the `x` values correspond to the desired electrical characteristics, which achieve the specified target gain $A_{0, \\mathrm{target}}$."
   ]
  },
  {
   "cell_type": "code",
   "execution_count": 23,
   "id": "fdffd383-d34e-4201-9dbe-4474e19f828c",
   "metadata": {},
   "outputs": [],
   "source": [
    "gmid_nd12_prd, = res.x[:1]\n",
    "fug_ncm12_prd, fug_pcs_prd, fug_ncm13_prd, fug_pcm22_prd = res.x[1:]"
   ]
  },
  {
   "cell_type": "markdown",
   "id": "5e37f0ab-0b97-469b-8924-10cf5c0e6ee0",
   "metadata": {},
   "source": [
    "## Evaluation\n",
    "\n",
    "Finally, the obtianed characteristics are simulated one more time to verify the performance."
   ]
  },
  {
   "cell_type": "code",
   "execution_count": 24,
   "id": "cfebc778-48a9-4e1c-8c17-8a86614f7b29",
   "metadata": {},
   "outputs": [],
   "source": [
    "apop = miller_op_approx( gmid_pcs_fix, gmid_ncm13_fix, gmid_pcm22_fix, gmid_nd12_prd, gmid_ncm12_fix\n",
    "                       , *np.power(10, [fug_pcs_prd,  fug_ncm13_prd,  fug_pcm22_prd,  fug_nd12_fix,  fug_ncm12_prd]) )\n",
    "freq, gain, phase, _ = simulate(apop)\n",
    "perf = performance(freq, gain, phase)"
   ]
  },
  {
   "cell_type": "code",
   "execution_count": 25,
   "id": "920bd713-3716-44e8-8138-7fccd0cc1a11",
   "metadata": {},
   "outputs": [
    {
     "data": {
      "image/png": "[encoded data removed]",
      "text/plain": [
       "<Figure size 720x720 with 2 Axes>"
      ]
     },
     "metadata": {
      "needs_background": "light"
     },
     "output_type": "display_data"
    }
   ],
   "source": [
    "fig, (ax1, ax2) = plt.subplots(2, 1, figsize=(10,10))\n",
    "ax1.plot(freq, gain, label=\"Simulated Gain\")\n",
    "ax1.axhline( y=perf[\"A0dB\"]\n",
    "           , color=\"tab:red\"\n",
    "           , ls=\"dashed\"\n",
    "           , label=f\"$A_{{0}} = {perf['A0dB']:.2f}$ dB\")\n",
    "ax1.axhline(y=perf[\"GM\"]\n",
    "           , color=\"tab:red\"\n",
    "           , ls=\"dotted\"\n",
    "           , label=f\"GM $= {perf['GM']:.2f}$ dB\")\n",
    "ax1.axvline( x=perf[\"f3dB\"]\n",
    "           , color=\"tab:green\"\n",
    "           , ls=\"dashed\"\n",
    "           , label=f\"$f_{{cutoff}} = {perf['f3dB']:.2f}$ Hz\")\n",
    "ax1.axvline( x=perf[\"fug\"]\n",
    "           , color=\"tab:green\"\n",
    "           , ls=\"dotted\"\n",
    "           , label=f\"$f_{{0}} = {perf['fug']:.2e}$ Hz\")\n",
    "ax1.set_title(\"Gain\")\n",
    "ax1.set_xscale(\"log\")\n",
    "ax1.set_ylabel(\"Gain [dB]\")\n",
    "ax1.legend()\n",
    "ax1.grid(\"on\")\n",
    "\n",
    "ax2.plot(freq, phase, label=\"Simulated Phase\")\n",
    "ax2.axhline( y=perf[\"PM\"]\n",
    "           , color=\"tab:red\"\n",
    "           , ls=\"dotted\"\n",
    "           , label=f\"PM $= {perf['PM']:.2f}$ deg\")\n",
    "ax2.axvline( x=perf[\"fug\"]\n",
    "           , color=\"tab:green\"\n",
    "           , ls=\"dotted\"\n",
    "           , label=f\"$f_{{0}} = {perf['fug']:.2e}$ Hz\")\n",
    "ax2.set_title(\"Phase\")\n",
    "ax2.set_xscale(\"log\")\n",
    "ax2.set_xlabel(\"Frequency [Hz]\")\n",
    "ax2.set_ylabel(\"Phase [deg]\")\n",
    "ax2.legend()\n",
    "ax2.grid(\"on\")"
   ]
  },
  {
   "cell_type": "markdown",
   "id": "1a9228ac-2e2b-4d3c-bd1c-a03935c4f525",
   "metadata": {},
   "source": [
    "This performance is achieved with the following sizing:"
   ]
  },
  {
   "cell_type": "code",
   "execution_count": 26,
   "id": "3aa1c146-9a08-4f6e-9ab8-60a4aa350f07",
   "metadata": {},
   "outputs": [
    {
     "data": {
      "text/html": [
       "<div>\n",
       "<style scoped>\n",
       "    .dataframe tbody tr th:only-of-type {\n",
       "        vertical-align: middle;\n",
       "    }\n",
       "\n",
       "    .dataframe tbody tr th {\n",
       "        vertical-align: top;\n",
       "    }\n",
       "\n",
       "    .dataframe thead th {\n",
       "        text-align: right;\n",
       "    }\n",
       "</style>\n",
       "<table border=\"1\" class=\"dataframe\">\n",
       "  <thead>\n",
       "    <tr style=\"text-align: right;\">\n",
       "      <th></th>\n",
       "      <th>W</th>\n",
       "      <th>L</th>\n",
       "      <th>gmid</th>\n",
       "      <th>fug</th>\n",
       "    </tr>\n",
       "  </thead>\n",
       "  <tbody>\n",
       "    <tr>\n",
       "      <th>MPCS</th>\n",
       "      <td>5.125438e-05</td>\n",
       "      <td>4.787877e-06</td>\n",
       "      <td>10.000000</td>\n",
       "      <td>6.788186</td>\n",
       "    </tr>\n",
       "    <tr>\n",
       "      <th>MNCM13</th>\n",
       "      <td>1.028689e-06</td>\n",
       "      <td>4.925005e-07</td>\n",
       "      <td>10.000000</td>\n",
       "      <td>9.221116</td>\n",
       "    </tr>\n",
       "    <tr>\n",
       "      <th>MPCM22</th>\n",
       "      <td>1.040711e-05</td>\n",
       "      <td>2.244873e-06</td>\n",
       "      <td>10.000000</td>\n",
       "      <td>7.460663</td>\n",
       "    </tr>\n",
       "    <tr>\n",
       "      <th>MPCM21</th>\n",
       "      <td>1.040711e-05</td>\n",
       "      <td>2.244873e-06</td>\n",
       "      <td>10.000000</td>\n",
       "      <td>7.460663</td>\n",
       "    </tr>\n",
       "    <tr>\n",
       "      <th>MND12</th>\n",
       "      <td>7.693432e-07</td>\n",
       "      <td>4.288333e-06</td>\n",
       "      <td>5.585086</td>\n",
       "      <td>8.000000</td>\n",
       "    </tr>\n",
       "    <tr>\n",
       "      <th>MND11</th>\n",
       "      <td>7.693432e-07</td>\n",
       "      <td>4.288333e-06</td>\n",
       "      <td>5.585086</td>\n",
       "      <td>8.000000</td>\n",
       "    </tr>\n",
       "    <tr>\n",
       "      <th>MNCM12</th>\n",
       "      <td>1.048957e-06</td>\n",
       "      <td>1.248007e-06</td>\n",
       "      <td>10.000000</td>\n",
       "      <td>8.969610</td>\n",
       "    </tr>\n",
       "    <tr>\n",
       "      <th>MNCM11</th>\n",
       "      <td>1.048957e-06</td>\n",
       "      <td>1.248007e-06</td>\n",
       "      <td>10.000000</td>\n",
       "      <td>8.969610</td>\n",
       "    </tr>\n",
       "  </tbody>\n",
       "</table>\n",
       "</div>"
      ],
      "text/plain": [
       "                   W             L       gmid       fug\n",
       "MPCS    5.125438e-05  4.787877e-06  10.000000  6.788186\n",
       "MNCM13  1.028689e-06  4.925005e-07  10.000000  9.221116\n",
       "MPCM22  1.040711e-05  2.244873e-06  10.000000  7.460663\n",
       "MPCM21  1.040711e-05  2.244873e-06  10.000000  7.460663\n",
       "MND12   7.693432e-07  4.288333e-06   5.585086  8.000000\n",
       "MND11   7.693432e-07  4.288333e-06   5.585086  8.000000\n",
       "MNCM12  1.048957e-06  1.248007e-06  10.000000  8.969610\n",
       "MNCM11  1.048957e-06  1.248007e-06  10.000000  8.969610"
      ]
     },
     "execution_count": 26,
     "metadata": {},
     "output_type": "execute_result"
    }
   ],
   "source": [
    "apop[[\"W\", \"L\", \"gmid\", \"fug\"]]"
   ]
  }
 ],
 "metadata": {
  "kernelspec": {
   "display_name": "Python 3",
   "language": "python",
   "name": "python3"
  },
  "language_info": {
   "codemirror_mode": {
    "name": "ipython",
    "version": 3
   },
   "file_extension": ".py",
   "mimetype": "text/x-python",
   "name": "python",
   "nbconvert_exporter": "python",
   "pygments_lexer": "ipython3",
   "version": "3.9.5"
  },
  "toc-showmarkdowntxt": false
 },
 "nbformat": 4,
 "nbformat_minor": 5
}
